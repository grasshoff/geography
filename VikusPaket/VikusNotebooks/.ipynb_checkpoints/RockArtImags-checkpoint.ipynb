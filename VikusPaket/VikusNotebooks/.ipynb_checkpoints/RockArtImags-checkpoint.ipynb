{
 "cells": [
  {
   "cell_type": "markdown",
   "metadata": {},
   "source": [
    "# Preparation of directories and data\n",
    "\n"
   ]
  },
  {
   "cell_type": "code",
   "execution_count": 9,
   "metadata": {},
   "outputs": [],
   "source": [
    "import os, fnmatch,re\n",
    "import pandas as pd"
   ]
  },
  {
   "cell_type": "code",
   "execution_count": 10,
   "metadata": {
    "collapsed": false,
    "inputHidden": false,
    "outputHidden": false
   },
   "outputs": [],
   "source": [
    "# Dataroot for images\n",
    "VP=\"/Users/gerdgrasshoff/Dropbox/RockArt/ReposPIND\""
   ]
  },
  {
   "cell_type": "code",
   "execution_count": 11,
   "metadata": {},
   "outputs": [
    {
     "name": "stdout",
     "output_type": "stream",
     "text": [
      "/Volumes/GGbackup/Dropbox/RockArt/ReposPIND\n"
     ]
    }
   ],
   "source": [
    "%cd {VP}"
   ]
  },
  {
   "cell_type": "code",
   "execution_count": 12,
   "metadata": {},
   "outputs": [
    {
     "data": {
      "text/plain": [
       "6365"
      ]
     },
     "execution_count": 12,
     "metadata": {},
     "output_type": "execute_result"
    }
   ],
   "source": [
    "path = VP\n",
    "\n",
    "files = []\n",
    "# r=root, d=directories, f = files\n",
    "for r, d, f in os.walk(path):\n",
    "    for file in f:\n",
    "        if '.jpg' in file:\n",
    "            files.append(os.path.join(r, file))\n",
    "\n",
    "len(files)\n"
   ]
  },
  {
   "cell_type": "code",
   "execution_count": 13,
   "metadata": {},
   "outputs": [
    {
     "name": "stdout",
     "output_type": "stream",
     "text": [
      "/Users/gerdgrasshoff/Dropbox/RockArt/ReposPIND/PIND0002/Fafanlap_1bonus.jpg\n"
     ]
    }
   ],
   "source": [
    "print(files[2])"
   ]
  },
  {
   "cell_type": "code",
   "execution_count": 14,
   "metadata": {},
   "outputs": [],
   "source": [
    "li=[]\n",
    "caves=[]\n",
    "for f in files:\n",
    "    fs=f.split(\"ReposPIND/\")\n",
    "    fi=fs[1].split(\"/\")\n",
    "    fi= [x for x in fi if x!='JPEG']\n",
    "    le=len(fi)\n",
    "    finame=fi[le-1]\n",
    "    cave=finame.split(\"_\")[0]\n",
    "    caves.append(cave)\n",
    "    li.append([f,cave])"
   ]
  },
  {
   "cell_type": "code",
   "execution_count": 15,
   "metadata": {},
   "outputs": [
    {
     "data": {
      "text/plain": [
       "['/Users/gerdgrasshoff/Dropbox/RockArt/ReposPIND/PIND0003/Ambersebui_1.jpg',\n",
       " 'Ambersebui']"
      ]
     },
     "execution_count": 15,
     "metadata": {},
     "output_type": "execute_result"
    }
   ],
   "source": [
    "boolstr=[\".\",\"Schild\",\"2\",\"3\",\"4\",\"5\",\"6\",\"7\",\"8\",\"9\"]\n",
    "def check(x):\n",
    "    xs=str(x)\n",
    "#    print(xs)\n",
    "    t=True\n",
    "    for s in boolstr:\n",
    "        if s in xs: \n",
    "            t=False\n",
    "    return(t)\n",
    "dd=[x for x in li if check(x[1])]\n",
    "dd[10]"
   ]
  },
  {
   "cell_type": "code",
   "execution_count": 16,
   "metadata": {},
   "outputs": [
    {
     "data": {
      "text/plain": [
       "['Ohoidertavun',\n",
       " 'Lasabo',\n",
       " 'Ristatot',\n",
       " 'Dudumunir',\n",
       " 'Uatmata',\n",
       " 'Pattae',\n",
       " 'Sasera',\n",
       " 'Lene',\n",
       " 'Uruan',\n",
       " 'Mampoga9',\n",
       " 'Latanggara',\n",
       " \"Sora'a\",\n",
       " 'Ambibiao',\n",
       " 'Hatulua',\n",
       " 'Awu',\n",
       " 'Sinanruma',\n",
       " 'Ota',\n",
       " 'Niah',\n",
       " 'Duduri',\n",
       " 'Bubasi',\n",
       " 'Kabori',\n",
       " 'Ambersebui',\n",
       " 'Fafanlap',\n",
       " 'ili',\n",
       " 'Risatot',\n",
       " 'Matutuo',\n",
       " 'Tapore',\n",
       " 'Wamerei',\n",
       " 'Namenlos',\n",
       " 'Tidora',\n",
       " 'Manga',\n",
       " 'Waf',\n",
       " 'Lasitae',\n",
       " 'Seram',\n",
       " 'Foora',\n",
       " 'Batewa',\n",
       " 'Soasose',\n",
       " 'Barom',\n",
       " 'Matutuo,',\n",
       " 'Lambatorang',\n",
       " 'Metanduno',\n",
       " 'Damineru',\n",
       " 'Ambiminabe',\n",
       " 'Betunis',\n",
       " 'Wabose',\n",
       " 'Fum',\n",
       " 'Boam',\n",
       " 'Latangara',\n",
       " 'Sugipatani',\n",
       " 'Toko',\n",
       " 'Afofor',\n",
       " 'Patiae',\n",
       " 'Damiveru',\n",
       " 'Ohoidertagun',\n",
       " 'Suaja',\n",
       " 'Ya’aser',\n",
       " 'Soraa',\n",
       " 'Bicari',\n",
       " 'Sora’a',\n",
       " \"Fora'a\",\n",
       " 'Fafanlab',\n",
       " 'Sumpang',\n",
       " 'Aintura',\n",
       " 'Amribiao',\n",
       " \"Ya'aser\",\n",
       " 'Sunu',\n",
       " 'Misool',\n",
       " 'Yaaser',\n",
       " 'Bovir,',\n",
       " 'Duduru',\n",
       " 'Tutuala',\n",
       " 'Wamerei·Fischwand',\n",
       " 'Mampoga',\n",
       " 'Eri',\n",
       " 'Gor',\n",
       " 'Bovir',\n",
       " 'Amberserbui',\n",
       " 'Ohoidertawun',\n",
       " 'Senggala',\n",
       " 'Saramau',\n",
       " 'Maros',\n",
       " 'Lakolombu',\n",
       " 'Ya‘aser',\n",
       " \"Fo'ora\",\n",
       " 'Kain',\n",
       " 'Ili',\n",
       " 'Tabulinetin',\n",
       " 'Safar',\n",
       " 'Asrota',\n",
       " 'Furir',\n",
       " 'Odi',\n",
       " 'Oya']"
      ]
     },
     "execution_count": 16,
     "metadata": {},
     "output_type": "execute_result"
    }
   ],
   "source": [
    "caves=list(set([x[1] for x in dd]))\n",
    "caves"
   ]
  }
 ],
 "metadata": {
  "kernelspec": {
   "display_name": "Python 3",
   "language": "python",
   "name": "python3"
  },
  "language_info": {
   "codemirror_mode": {
    "name": "ipython",
    "version": 3
   },
   "file_extension": ".py",
   "mimetype": "text/x-python",
   "name": "python",
   "nbconvert_exporter": "python",
   "pygments_lexer": "ipython3",
   "version": "3.6.8"
  }
 },
 "nbformat": 4,
 "nbformat_minor": 2
}
