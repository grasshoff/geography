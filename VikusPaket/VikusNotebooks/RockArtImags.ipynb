{
 "cells": [
  {
   "cell_type": "markdown",
   "metadata": {},
   "source": [
    "# Preparation of directories and data\n",
    "\n"
   ]
  },
  {
   "cell_type": "code",
   "execution_count": 92,
   "metadata": {},
   "outputs": [],
   "source": [
    "import os, fnmatch,re\n",
    "import pandas as pd"
   ]
  },
  {
   "cell_type": "code",
   "execution_count": 93,
   "metadata": {
    "collapsed": false,
    "inputHidden": false,
    "outputHidden": false
   },
   "outputs": [],
   "source": [
    "# Dataroot for images\n",
    "VP=\"/Users/gerdgrasshoff/Dropbox/RockArt/ReposPIND\""
   ]
  },
  {
   "cell_type": "code",
   "execution_count": 94,
   "metadata": {},
   "outputs": [
    {
     "name": "stdout",
     "output_type": "stream",
     "text": [
      "/Volumes/GGbackup/Dropbox/RockArt/ReposPIND\n"
     ]
    }
   ],
   "source": [
    "%cd {VP}"
   ]
  },
  {
   "cell_type": "code",
   "execution_count": 95,
   "metadata": {},
   "outputs": [
    {
     "data": {
      "text/plain": [
       "6365"
      ]
     },
     "execution_count": 95,
     "metadata": {},
     "output_type": "execute_result"
    }
   ],
   "source": [
    "path = VP\n",
    "\n",
    "files = []\n",
    "# r=root, d=directories, f = files\n",
    "for r, d, f in os.walk(path):\n",
    "    for file in f:\n",
    "        if '.jpg' in file:\n",
    "            files.append(os.path.join(r, file))\n",
    "\n",
    "len(files)\n"
   ]
  },
  {
   "cell_type": "code",
   "execution_count": 96,
   "metadata": {},
   "outputs": [
    {
     "name": "stdout",
     "output_type": "stream",
     "text": [
      "/Users/gerdgrasshoff/Dropbox/RockArt/ReposPIND/PIND0002/Fafanlap_1bonus.jpg\n"
     ]
    }
   ],
   "source": [
    "print(files[2])"
   ]
  },
  {
   "cell_type": "code",
   "execution_count": 97,
   "metadata": {},
   "outputs": [],
   "source": [
    "li=[]\n",
    "caves=[]\n",
    "for f in files:\n",
    "    fs=f.split(\"ReposPIND/\")\n",
    "    fi=fs[1].split(\"/\")\n",
    "    fi= [x for x in fi if x!='JPEG']\n",
    "    le=len(fi)\n",
    "    finame=fi[le-1]\n",
    "    cave=finame.split(\"_\")[0]\n",
    "    caves.append(cave)\n",
    "    li.append([f,cave])"
   ]
  },
  {
   "cell_type": "code",
   "execution_count": 106,
   "metadata": {},
   "outputs": [
    {
     "data": {
      "text/plain": [
       "['/Users/gerdgrasshoff/Dropbox/RockArt/ReposPIND/PIND0003/Ambersebui_1.jpg',\n",
       " 'Ambersebui']"
      ]
     },
     "execution_count": 106,
     "metadata": {},
     "output_type": "execute_result"
    }
   ],
   "source": [
    "def check(x):\n",
    "    xs=str(x)\n",
    "#    print(xs)\n",
    "    t=True\n",
    "    if \".\" in xs: \n",
    "        t=False\n",
    "    if \"Schild\" in xs: \n",
    "        t=False\n",
    "    if \"Schild\" in xs: \n",
    "        t=False\n",
    "    if \"3\" in xs: \n",
    "        t=False\n",
    "    if \"5\" in xs: \n",
    "        t=False\n",
    "    if \"2\" in xs: \n",
    "        t=False\n",
    "    if \"6\" in xs: \n",
    "        t=False\n",
    "    if \"7\" in xs: \n",
    "        t=False\n",
    "    if \"4\" in xs: \n",
    "        t=False\n",
    "\n",
    "    return(t)\n",
    "dd=[x for x in li if check(x[1])]\n",
    "dd[10]"
   ]
  },
  {
   "cell_type": "code",
   "execution_count": 107,
   "metadata": {},
   "outputs": [
    {
     "data": {
      "text/plain": [
       "['Kabori',\n",
       " 'Bubasi',\n",
       " 'Sinanruma',\n",
       " 'Ota',\n",
       " 'Lakolombu',\n",
       " 'Ambibiao',\n",
       " 'Damineru',\n",
       " 'Boam',\n",
       " 'Latangara',\n",
       " 'Waf',\n",
       " 'Toko',\n",
       " \"Ya'aser\",\n",
       " 'Senggala',\n",
       " 'Wamerei·Fischwand',\n",
       " 'Sugipatani',\n",
       " 'Odi',\n",
       " 'Saramau',\n",
       " 'Niah',\n",
       " 'Bovir,',\n",
       " 'Wabose',\n",
       " 'Fafanlap',\n",
       " 'Suaja',\n",
       " 'Matutuo',\n",
       " 'Awu',\n",
       " 'Latanggara',\n",
       " 'Lasabo',\n",
       " 'Sunu',\n",
       " 'Gor',\n",
       " 'Soraa',\n",
       " 'Sora’a',\n",
       " 'Lasitae',\n",
       " \"Fora'a\",\n",
       " 'Aintura',\n",
       " 'Maros',\n",
       " 'Oya',\n",
       " 'Tapore',\n",
       " 'Tutuala',\n",
       " 'Ambiminabe',\n",
       " 'Duduru',\n",
       " 'Afofor',\n",
       " 'Bicari',\n",
       " 'Fum',\n",
       " 'Bovir',\n",
       " 'Ambersebui',\n",
       " 'Duduri',\n",
       " 'Patiae',\n",
       " 'Safar',\n",
       " \"Fo'ora\",\n",
       " 'Pattae',\n",
       " 'Betunis',\n",
       " 'Eri',\n",
       " 'Sasera',\n",
       " 'ili',\n",
       " 'Metanduno',\n",
       " 'Hatulua',\n",
       " 'Lambatorang',\n",
       " 'Ya‘aser',\n",
       " 'Ya’aser',\n",
       " 'Ristatot',\n",
       " 'Tabulinetin',\n",
       " 'Ohoidertavun',\n",
       " 'Wamerei',\n",
       " 'Risatot',\n",
       " 'Fafanlab',\n",
       " 'Ohoidertawun',\n",
       " 'Manga',\n",
       " 'Yaaser',\n",
       " 'Damiveru',\n",
       " 'Mampoga',\n",
       " 'Dudumunir',\n",
       " 'Matutuo,',\n",
       " 'Batewa',\n",
       " 'Barom',\n",
       " 'Uatmata',\n",
       " 'Namenlos',\n",
       " 'Mampoga9',\n",
       " 'Misool',\n",
       " 'Ohoidertagun',\n",
       " 'Sumpang',\n",
       " 'Tidora',\n",
       " 'Ili',\n",
       " 'Kain',\n",
       " \"Sora'a\",\n",
       " 'Foora',\n",
       " 'Lene',\n",
       " 'Seram',\n",
       " 'Furir',\n",
       " 'Soasose',\n",
       " 'Amberserbui',\n",
       " 'Amribiao',\n",
       " 'Uruan',\n",
       " 'Asrota']"
      ]
     },
     "execution_count": 107,
     "metadata": {},
     "output_type": "execute_result"
    }
   ],
   "source": [
    "caves=list(set([x[1] for x in dd]))\n",
    "caves"
   ]
  }
 ],
 "metadata": {
  "kernelspec": {
   "display_name": "Python 3",
   "language": "python",
   "name": "python3"
  },
  "language_info": {
   "codemirror_mode": {
    "name": "ipython",
    "version": 3
   },
   "file_extension": ".py",
   "mimetype": "text/x-python",
   "name": "python",
   "nbconvert_exporter": "python",
   "pygments_lexer": "ipython3",
   "version": "3.6.8"
  }
 },
 "nbformat": 4,
 "nbformat_minor": 2
}
