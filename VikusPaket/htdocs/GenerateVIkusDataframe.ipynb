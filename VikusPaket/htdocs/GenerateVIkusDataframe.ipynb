{
 "cells": [
  {
   "cell_type": "markdown",
   "metadata": {},
   "source": [
    "# Preparation of directories and data\n",
    "\n",
    "The following files are part of *vikus-viewer-master*. The -data subdirectory is created with the site data. it contains configuration files. These are created in the following steps\n",
    "\n",
    "generate directory tree with \"tree . >> tree.txt\" (brew install tree)\n",
    "\n"
   ]
  },
  {
   "cell_type": "code",
   "execution_count": 6,
   "metadata": {},
   "outputs": [],
   "source": [
    "import os, fnmatch,re\n",
    "import pandas as pd"
   ]
  },
  {
   "cell_type": "markdown",
   "metadata": {},
   "source": [
    "# Data directory:\n",
    "\n",
    "All config files reside in:\n",
    "\n",
    "## vikus-viewer-data-master\n",
    "The files are edited for the respective configuration. After config finished, it is copied to the vikus-viewer-master into the data subdirectory.\n",
    "\n",
    "config.json\n",
    "This is the configuration file that defines the project name, data URLs, columns, styles, and what is shown in the detail sidebar of your collection. The URLs don't have to be absolute, but it can be handy if your assets are not hosted on the same server.\n",
    "\n",
    "data.csv\n",
    "The data.csv holds all the metadata information for each object in the collection. The following fields are mandatory: id , keywords, year.\n",
    "\n",
    "id is is linked to the name of the corresponding image. (id: 123 -> 123.jpg)\n",
    "keywords comma seperated list of keywords for the tags on the top\n",
    "year can be a number or a string, will be sorted ascending\n",
    "_fields these are custom metadata fields (note the prefixed underscore)\n",
    "All of the columns are beeing sticked together to enable the freetext search.\n",
    "\n",
    "timeline.csv\n",
    "The timeline.csv holds the information for the timeline displayed underneath the years.\n",
    "\n",
    "year can be a number or a string, is linked to the year field in data.csv\n",
    "title the headline of the blurb\n",
    "text first detail text when zoomed in a little bit\n",
    "extra additional text when zoomed to the maximum\n",
    "\n",
    "info.md\n",
    "This is the information displayed on the left side when opening the visualization. You can put in any kind of Markdown.\n"
   ]
  },
  {
   "cell_type": "code",
   "execution_count": 3,
   "metadata": {},
   "outputs": [],
   "source": [
    "%%bash\n",
    "cp -rf /Users/gerdgrasshoff/Dropbox/data /Users/gerdgrasshoff/Dropbox/git/vikus-viewer-master"
   ]
  },
  {
   "cell_type": "markdown",
   "metadata": {},
   "source": [
    "# create meta data"
   ]
  },
  {
   "cell_type": "code",
   "execution_count": 1,
   "metadata": {},
   "outputs": [
    {
     "data": {
      "text/plain": [
       "id                       object\n",
       "imagenum                  int64\n",
       "year                      int64\n",
       "keywords                 object\n",
       "_titel                   object\n",
       "_personen                object\n",
       "_material                object\n",
       "_zustandsbeschreibung    object\n",
       "_kommentar               object\n",
       "_objektgeschichte        object\n",
       "dtype: object"
      ]
     },
     "execution_count": 1,
     "metadata": {},
     "output_type": "execute_result"
    }
   ],
   "source": [
    "dfexample=pd.read_csv(\"/Users/gerdgrasshoff/Dropbox/git/vikus-viewer/data/data-old.csv\")\n",
    "dfexample.head(10)\n",
    "dfexample.dtypes"
   ]
  },
  {
   "cell_type": "code",
   "execution_count": 2,
   "metadata": {},
   "outputs": [
    {
     "data": {
      "text/html": [
       "<div>\n",
       "<style scoped>\n",
       "    .dataframe tbody tr th:only-of-type {\n",
       "        vertical-align: middle;\n",
       "    }\n",
       "\n",
       "    .dataframe tbody tr th {\n",
       "        vertical-align: top;\n",
       "    }\n",
       "\n",
       "    .dataframe thead th {\n",
       "        text-align: right;\n",
       "    }\n",
       "</style>\n",
       "<table border=\"1\" class=\"dataframe\">\n",
       "  <thead>\n",
       "    <tr style=\"text-align: right;\">\n",
       "      <th></th>\n",
       "      <th>id</th>\n",
       "      <th>imagenum</th>\n",
       "      <th>year</th>\n",
       "      <th>keywords</th>\n",
       "      <th>_titel</th>\n",
       "      <th>_personen</th>\n",
       "      <th>_material</th>\n",
       "      <th>_zustandsbeschreibung</th>\n",
       "      <th>_kommentar</th>\n",
       "      <th>_objektgeschichte</th>\n",
       "    </tr>\n",
       "  </thead>\n",
       "  <tbody>\n",
       "    <tr>\n",
       "      <th>0</th>\n",
       "      <td>KnF-1756-1</td>\n",
       "      <td>20</td>\n",
       "      <td>1756</td>\n",
       "      <td>Reskript,Dokumentenanhang,Österreich,Staatssch...</td>\n",
       "      <td>Kaiserlich-Königliches Circular-Rescript de da...</td>\n",
       "      <td>Maria Theresia &lt;Österreich, Erzherzogin, 1717-...</td>\n",
       "      <td>Papier, gedruckt, gefaltet;</td>\n",
       "      <td>NaN</td>\n",
       "      <td>Wien und Prag, zu finden in den Trattnerischen...</td>\n",
       "      <td>NaN</td>\n",
       "    </tr>\n",
       "    <tr>\n",
       "      <th>1</th>\n",
       "      <td>KnF-1756-2</td>\n",
       "      <td>7</td>\n",
       "      <td>1756</td>\n",
       "      <td>Staatsschrift,Dokumentenanhang,Bündnissystem</td>\n",
       "      <td>Acta Publica, oder Sammlung aller Staatsschrif...</td>\n",
       "      <td>NaN</td>\n",
       "      <td>Papier, gedruckt, gefaltet;</td>\n",
       "      <td>leichter Wurmfraß</td>\n",
       "      <td>Wien und Prag, gedruckt und verlegt bei Johann...</td>\n",
       "      <td>NaN</td>\n",
       "    </tr>\n",
       "  </tbody>\n",
       "</table>\n",
       "</div>"
      ],
      "text/plain": [
       "           id  imagenum  year  \\\n",
       "0  KnF-1756-1        20  1756   \n",
       "1  KnF-1756-2         7  1756   \n",
       "\n",
       "                                            keywords  \\\n",
       "0  Reskript,Dokumentenanhang,Österreich,Staatssch...   \n",
       "1       Staatsschrift,Dokumentenanhang,Bündnissystem   \n",
       "\n",
       "                                              _titel  \\\n",
       "0  Kaiserlich-Königliches Circular-Rescript de da...   \n",
       "1  Acta Publica, oder Sammlung aller Staatsschrif...   \n",
       "\n",
       "                                           _personen  \\\n",
       "0  Maria Theresia <Österreich, Erzherzogin, 1717-...   \n",
       "1                                                NaN   \n",
       "\n",
       "                     _material _zustandsbeschreibung  \\\n",
       "0  Papier, gedruckt, gefaltet;                   NaN   \n",
       "1  Papier, gedruckt, gefaltet;     leichter Wurmfraß   \n",
       "\n",
       "                                          _kommentar _objektgeschichte  \n",
       "0  Wien und Prag, zu finden in den Trattnerischen...               NaN  \n",
       "1  Wien und Prag, gedruckt und verlegt bei Johann...               NaN  "
      ]
     },
     "execution_count": 2,
     "metadata": {},
     "output_type": "execute_result"
    }
   ],
   "source": [
    "dfexample.head(2)"
   ]
  },
  {
   "cell_type": "code",
   "execution_count": 3,
   "metadata": {},
   "outputs": [
    {
     "data": {
      "text/plain": [
       "year           int64\n",
       "titel         object\n",
       "text          object\n",
       "extra         object\n",
       "link         float64\n",
       "kategorie    float64\n",
       "dtype: object"
      ]
     },
     "execution_count": 3,
     "metadata": {},
     "output_type": "execute_result"
    }
   ],
   "source": [
    "dftimeex=pd.read_csv(\"/Users/gerdgrasshoff/Dropbox/git/vikus-viewer/data/timeline.csv\")\n",
    "dftimeex.head(10)\n",
    "dftimeex.dtypes"
   ]
  },
  {
   "cell_type": "code",
   "execution_count": 10,
   "metadata": {},
   "outputs": [
    {
     "data": {
      "text/html": [
       "<div>\n",
       "<style scoped>\n",
       "    .dataframe tbody tr th:only-of-type {\n",
       "        vertical-align: middle;\n",
       "    }\n",
       "\n",
       "    .dataframe tbody tr th {\n",
       "        vertical-align: top;\n",
       "    }\n",
       "\n",
       "    .dataframe thead th {\n",
       "        text-align: right;\n",
       "    }\n",
       "</style>\n",
       "<table border=\"1\" class=\"dataframe\">\n",
       "  <thead>\n",
       "    <tr style=\"text-align: right;\">\n",
       "      <th></th>\n",
       "      <th>year</th>\n",
       "      <th>titel</th>\n",
       "      <th>text</th>\n",
       "      <th>extra</th>\n",
       "      <th>link</th>\n",
       "      <th>kategorie</th>\n",
       "    </tr>\n",
       "  </thead>\n",
       "  <tbody>\n",
       "    <tr>\n",
       "      <th>0</th>\n",
       "      <td>1756</td>\n",
       "      <td>Bündnisse und Kriegsbeginn in Europa</td>\n",
       "      <td>Durch das „Renversement des alliances“ ändern ...</td>\n",
       "      <td>Am 16. Januar schließen Großbritannien und Pre...</td>\n",
       "      <td>NaN</td>\n",
       "      <td>NaN</td>\n",
       "    </tr>\n",
       "    <tr>\n",
       "      <th>1</th>\n",
       "      <td>1757</td>\n",
       "      <td>Preußen in der Offensive, der Defensive und wi...</td>\n",
       "      <td>Der Verlauf des ersten Kriegsjahres in Europa ...</td>\n",
       "      <td>Am 17. Januar erklärt das Heilige Römische Rei...</td>\n",
       "      <td>NaN</td>\n",
       "      <td>NaN</td>\n",
       "    </tr>\n",
       "  </tbody>\n",
       "</table>\n",
       "</div>"
      ],
      "text/plain": [
       "   year                                              titel  \\\n",
       "0  1756               Bündnisse und Kriegsbeginn in Europa   \n",
       "1  1757  Preußen in der Offensive, der Defensive und wi...   \n",
       "\n",
       "                                                text  \\\n",
       "0  Durch das „Renversement des alliances“ ändern ...   \n",
       "1  Der Verlauf des ersten Kriegsjahres in Europa ...   \n",
       "\n",
       "                                               extra  link  kategorie  \n",
       "0  Am 16. Januar schließen Großbritannien und Pre...   NaN        NaN  \n",
       "1  Am 17. Januar erklärt das Heilige Römische Rei...   NaN        NaN  "
      ]
     },
     "execution_count": 10,
     "metadata": {},
     "output_type": "execute_result"
    }
   ],
   "source": [
    "dftimeex.head(2)"
   ]
  },
  {
   "cell_type": "code",
   "execution_count": 7,
   "metadata": {},
   "outputs": [
    {
     "data": {
      "text/html": [
       "<div>\n",
       "<style scoped>\n",
       "    .dataframe tbody tr th:only-of-type {\n",
       "        vertical-align: middle;\n",
       "    }\n",
       "\n",
       "    .dataframe tbody tr th {\n",
       "        vertical-align: top;\n",
       "    }\n",
       "\n",
       "    .dataframe thead th {\n",
       "        text-align: right;\n",
       "    }\n",
       "</style>\n",
       "<table border=\"1\" class=\"dataframe\">\n",
       "  <thead>\n",
       "    <tr style=\"text-align: right;\">\n",
       "      <th></th>\n",
       "      <th>images</th>\n",
       "    </tr>\n",
       "  </thead>\n",
       "  <tbody>\n",
       "    <tr>\n",
       "      <th>0</th>\n",
       "      <td>0</td>\n",
       "    </tr>\n",
       "    <tr>\n",
       "      <th>1</th>\n",
       "      <td>1</td>\n",
       "    </tr>\n",
       "    <tr>\n",
       "      <th>2</th>\n",
       "      <td>10</td>\n",
       "    </tr>\n",
       "  </tbody>\n",
       "</table>\n",
       "</div>"
      ],
      "text/plain": [
       "  images\n",
       "0      0\n",
       "1      1\n",
       "2     10"
      ]
     },
     "execution_count": 7,
     "metadata": {},
     "output_type": "execute_result"
    }
   ],
   "source": [
    "lifi=[]\n",
    "listOfFiles = os.listdir('/Users/gerdgrasshoff/Dropbox/git/vikus-viewer/data/4096')  \n",
    "pattern = \"*jpg\"  \n",
    "for entry in listOfFiles:  \n",
    "    if fnmatch.fnmatch(entry, pattern):\n",
    "            se=entry.split(\".\")\n",
    "            lifi.append(se[0])\n",
    "\n",
    "df=pd.DataFrame(lifi, columns=['images'])\n",
    "df.head(3)"
   ]
  },
  {
   "cell_type": "code",
   "execution_count": 12,
   "metadata": {},
   "outputs": [
    {
     "data": {
      "text/html": [
       "<div>\n",
       "<style scoped>\n",
       "    .dataframe tbody tr th:only-of-type {\n",
       "        vertical-align: middle;\n",
       "    }\n",
       "\n",
       "    .dataframe tbody tr th {\n",
       "        vertical-align: top;\n",
       "    }\n",
       "\n",
       "    .dataframe thead th {\n",
       "        text-align: right;\n",
       "    }\n",
       "</style>\n",
       "<table border=\"1\" class=\"dataframe\">\n",
       "  <thead>\n",
       "    <tr style=\"text-align: right;\">\n",
       "      <th></th>\n",
       "      <th>id</th>\n",
       "      <th>imagenum</th>\n",
       "      <th>year</th>\n",
       "      <th>keywords</th>\n",
       "      <th>_titel</th>\n",
       "      <th>_personen</th>\n",
       "      <th>_material</th>\n",
       "      <th>_zustandsbeschreibung</th>\n",
       "      <th>_kommentar</th>\n",
       "      <th>_objektgeschichte</th>\n",
       "    </tr>\n",
       "  </thead>\n",
       "  <tbody>\n",
       "    <tr>\n",
       "      <th>0</th>\n",
       "      <td>0</td>\n",
       "      <td>20</td>\n",
       "      <td>1756</td>\n",
       "      <td>Reskript,Dokumentenanhang,Österreich,Staatssch...</td>\n",
       "      <td>Kaiserlich-Königliches Circular-Rescript de da...</td>\n",
       "      <td>Maria Theresia &lt;Österreich, Erzherzogin, 1717-...</td>\n",
       "      <td>Papier, gedruckt, gefaltet;</td>\n",
       "      <td>NaN</td>\n",
       "      <td>Wien und Prag, zu finden in den Trattnerischen...</td>\n",
       "      <td>NaN</td>\n",
       "    </tr>\n",
       "    <tr>\n",
       "      <th>1</th>\n",
       "      <td>1</td>\n",
       "      <td>7</td>\n",
       "      <td>1756</td>\n",
       "      <td>Staatsschrift,Dokumentenanhang,Bündnissystem</td>\n",
       "      <td>Acta Publica, oder Sammlung aller Staatsschrif...</td>\n",
       "      <td>NaN</td>\n",
       "      <td>Papier, gedruckt, gefaltet;</td>\n",
       "      <td>leichter Wurmfraß</td>\n",
       "      <td>Wien und Prag, gedruckt und verlegt bei Johann...</td>\n",
       "      <td>NaN</td>\n",
       "    </tr>\n",
       "  </tbody>\n",
       "</table>\n",
       "</div>"
      ],
      "text/plain": [
       "  id  imagenum  year                                           keywords  \\\n",
       "0  0        20  1756  Reskript,Dokumentenanhang,Österreich,Staatssch...   \n",
       "1  1         7  1756       Staatsschrift,Dokumentenanhang,Bündnissystem   \n",
       "\n",
       "                                              _titel  \\\n",
       "0  Kaiserlich-Königliches Circular-Rescript de da...   \n",
       "1  Acta Publica, oder Sammlung aller Staatsschrif...   \n",
       "\n",
       "                                           _personen  \\\n",
       "0  Maria Theresia <Österreich, Erzherzogin, 1717-...   \n",
       "1                                                NaN   \n",
       "\n",
       "                     _material _zustandsbeschreibung  \\\n",
       "0  Papier, gedruckt, gefaltet;                   NaN   \n",
       "1  Papier, gedruckt, gefaltet;     leichter Wurmfraß   \n",
       "\n",
       "                                          _kommentar _objektgeschichte  \n",
       "0  Wien und Prag, zu finden in den Trattnerischen...               NaN  \n",
       "1  Wien und Prag, gedruckt und verlegt bei Johann...               NaN  "
      ]
     },
     "execution_count": 12,
     "metadata": {},
     "output_type": "execute_result"
    }
   ],
   "source": [
    "dfdata=df.join(dfexample)\n",
    "del dfdata[\"id\"]\n",
    "dfdata.head(3)\n",
    "dfdata.rename(columns={\"images\":\"id\"},inplace=True)\n",
    "dfdata.head(2)"
   ]
  },
  {
   "cell_type": "code",
   "execution_count": 13,
   "metadata": {},
   "outputs": [
    {
     "data": {
      "text/plain": [
       "id                       object\n",
       "imagenum                  int64\n",
       "year                      int64\n",
       "keywords                 object\n",
       "_titel                   object\n",
       "_personen                object\n",
       "_material                object\n",
       "_zustandsbeschreibung    object\n",
       "_kommentar               object\n",
       "_objektgeschichte        object\n",
       "dtype: object"
      ]
     },
     "execution_count": 13,
     "metadata": {},
     "output_type": "execute_result"
    }
   ],
   "source": [
    "dfdata.dtypes"
   ]
  },
  {
   "cell_type": "code",
   "execution_count": 14,
   "metadata": {},
   "outputs": [],
   "source": [
    "dfdata.to_csv(\"/Users/gerdgrasshoff/Dropbox/git/vikus-viewer/data/data.csv\",index = False)"
   ]
  }
 ],
 "metadata": {
  "kernelspec": {
   "display_name": "Python 3",
   "language": "python",
   "name": "python3"
  },
  "language_info": {
   "codemirror_mode": {
    "name": "ipython",
    "version": 3
   },
   "file_extension": ".py",
   "mimetype": "text/x-python",
   "name": "python",
   "nbconvert_exporter": "python",
   "pygments_lexer": "ipython3",
   "version": "3.6.8"
  }
 },
 "nbformat": 4,
 "nbformat_minor": 2
}
