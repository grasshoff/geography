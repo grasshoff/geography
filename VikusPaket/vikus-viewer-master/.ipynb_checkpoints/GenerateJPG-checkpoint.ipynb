{
 "cells": [
  {
   "cell_type": "markdown",
   "metadata": {},
   "source": [
    "# Data preparation\n",
    "\n",
    "## Conversion source images to jpg\n",
    "\n",
    "Using ImageMagic with mogrify\n",
    "\n",
    "SourceData : path of original images being converted with mogrify\n"
   ]
  },
  {
   "cell_type": "code",
   "execution_count": 117,
   "metadata": {},
   "outputs": [],
   "source": [
    "SourceData=\"/Users/gerdgrasshoff/Dropbox/tmp\""
   ]
  },
  {
   "cell_type": "code",
   "execution_count": 118,
   "metadata": {},
   "outputs": [
    {
     "name": "stdout",
     "output_type": "stream",
     "text": [
      "/Users/gerdgrasshoff/Dropbox/tmp\n"
     ]
    }
   ],
   "source": [
    "%%bash\n",
    "cd /Users/gerdgrasshoff/Dropbox/tmp\n",
    "pwd\n",
    "for f in *.pdf; do \n",
    "   convert -density 722 \"$f\" \"${f%pdf}jpg\"\n",
    "done"
   ]
  }
 ],
 "metadata": {
  "kernelspec": {
   "display_name": "Python 3",
   "language": "python",
   "name": "python3"
  },
  "language_info": {
   "codemirror_mode": {
    "name": "ipython",
    "version": 3
   },
   "file_extension": ".py",
   "mimetype": "text/x-python",
   "name": "python",
   "nbconvert_exporter": "python",
   "pygments_lexer": "ipython3",
   "version": "3.6.8"
  }
 },
 "nbformat": 4,
 "nbformat_minor": 2
}
