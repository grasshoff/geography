{
 "cells": [
  {
   "cell_type": "code",
   "execution_count": 1,
   "metadata": {
    "pycharm": {}
   },
   "outputs": [
    {
     "name": "stderr",
     "output_type": "stream",
     "text": [
      "/mnt/ResearchCloud/Projects/geography/.kernel/lib/python3.7/importlib/_bootstrap.py:219: RuntimeWarning: numpy.dtype size changed, may indicate binary incompatibility. Expected 96, got 88\n",
      "  return f(*args, **kwds)\n"
     ]
    }
   ],
   "source": [
    "from citableclass import Credentials"
   ]
  },
  {
   "cell_type": "code",
   "execution_count": 2,
   "metadata": {
    "pycharm": {}
   },
   "outputs": [
    {
     "data": {
      "text/html": [
       "\n",
       "        <h1>Example 1: Cities of the Vettones</h1>\n",
       "        <h2>Olivier Defaux<sup>1,2</sup>, Gerd Grasshoff<sup>1,2</sup>, Malte Vogl<sup>2</sup></h2>\n",
       "        1: Humboldt-University, Berlin; 2: Max-Planck-Institute for the History of Science, Berlin<br>\n",
       "        Date: 14. February 2019"
      ],
      "text/plain": [
       "<IPython.core.display.HTML object>"
      ]
     },
     "execution_count": 2,
     "metadata": {},
     "output_type": "execute_result"
    }
   ],
   "source": [
    "title = Credentials(authors='olivier.defaux,gerd.grasshoff,malte.vogl', project='geography',title='Example 1: Cities of the Vettones')\n",
    "title.titlepage()"
   ]
  },
  {
   "cell_type": "code",
   "execution_count": 3,
   "metadata": {
    "pycharm": {}
   },
   "outputs": [],
   "source": [
    "import numpy as np\n",
    "import pandas as pd"
   ]
  },
  {
   "cell_type": "code",
   "execution_count": 4,
   "metadata": {
    "pycharm": {}
   },
   "outputs": [
    {
     "data": {
      "text/html": [
       "\n",
       "    <div class=\"bk-root\">\n",
       "        <a href=\"https://bokeh.pydata.org\" target=\"_blank\" class=\"bk-logo bk-logo-small bk-logo-notebook\"></a>\n",
       "        <span id=\"ef4d7053-4dea-4eff-917e-5b4a8ee32198\">Loading BokehJS ...</span>\n",
       "    </div>"
      ]
     },
     "metadata": {},
     "output_type": "display_data"
    },
    {
     "data": {
      "application/javascript": [
       "\n",
       "(function(root) {\n",
       "  function now() {\n",
       "    return new Date();\n",
       "  }\n",
       "\n",
       "  var force = true;\n",
       "\n",
       "  if (typeof (root._bokeh_onload_callbacks) === \"undefined\" || force === true) {\n",
       "    root._bokeh_onload_callbacks = [];\n",
       "    root._bokeh_is_loading = undefined;\n",
       "  }\n",
       "\n",
       "  var JS_MIME_TYPE = 'application/javascript';\n",
       "  var HTML_MIME_TYPE = 'text/html';\n",
       "  var EXEC_MIME_TYPE = 'application/vnd.bokehjs_exec.v0+json';\n",
       "  var CLASS_NAME = 'output_bokeh rendered_html';\n",
       "\n",
       "  /**\n",
       "   * Render data to the DOM node\n",
       "   */\n",
       "  function render(props, node) {\n",
       "    var script = document.createElement(\"script\");\n",
       "    node.appendChild(script);\n",
       "  }\n",
       "\n",
       "  /**\n",
       "   * Handle when an output is cleared or removed\n",
       "   */\n",
       "  function handleClearOutput(event, handle) {\n",
       "    var cell = handle.cell;\n",
       "\n",
       "    var id = cell.output_area._bokeh_element_id;\n",
       "    var server_id = cell.output_area._bokeh_server_id;\n",
       "    // Clean up Bokeh references\n",
       "    if (id != null && id in Bokeh.index) {\n",
       "      Bokeh.index[id].model.document.clear();\n",
       "      delete Bokeh.index[id];\n",
       "    }\n",
       "\n",
       "    if (server_id !== undefined) {\n",
       "      // Clean up Bokeh references\n",
       "      var cmd = \"from bokeh.io.state import curstate; print(curstate().uuid_to_server['\" + server_id + \"'].get_sessions()[0].document.roots[0]._id)\";\n",
       "      cell.notebook.kernel.execute(cmd, {\n",
       "        iopub: {\n",
       "          output: function(msg) {\n",
       "            var id = msg.content.text.trim();\n",
       "            if (id in Bokeh.index) {\n",
       "              Bokeh.index[id].model.document.clear();\n",
       "              delete Bokeh.index[id];\n",
       "            }\n",
       "          }\n",
       "        }\n",
       "      });\n",
       "      // Destroy server and session\n",
       "      var cmd = \"import bokeh.io.notebook as ion; ion.destroy_server('\" + server_id + \"')\";\n",
       "      cell.notebook.kernel.execute(cmd);\n",
       "    }\n",
       "  }\n",
       "\n",
       "  /**\n",
       "   * Handle when a new output is added\n",
       "   */\n",
       "  function handleAddOutput(event, handle) {\n",
       "    var output_area = handle.output_area;\n",
       "    var output = handle.output;\n",
       "\n",
       "    // limit handleAddOutput to display_data with EXEC_MIME_TYPE content only\n",
       "    if ((output.output_type != \"display_data\") || (!output.data.hasOwnProperty(EXEC_MIME_TYPE))) {\n",
       "      return\n",
       "    }\n",
       "\n",
       "    var toinsert = output_area.element.find(\".\" + CLASS_NAME.split(' ')[0]);\n",
       "\n",
       "    if (output.metadata[EXEC_MIME_TYPE][\"id\"] !== undefined) {\n",
       "      toinsert[toinsert.length - 1].firstChild.textContent = output.data[JS_MIME_TYPE];\n",
       "      // store reference to embed id on output_area\n",
       "      output_area._bokeh_element_id = output.metadata[EXEC_MIME_TYPE][\"id\"];\n",
       "    }\n",
       "    if (output.metadata[EXEC_MIME_TYPE][\"server_id\"] !== undefined) {\n",
       "      var bk_div = document.createElement(\"div\");\n",
       "      bk_div.innerHTML = output.data[HTML_MIME_TYPE];\n",
       "      var script_attrs = bk_div.children[0].attributes;\n",
       "      for (var i = 0; i < script_attrs.length; i++) {\n",
       "        toinsert[toinsert.length - 1].firstChild.setAttribute(script_attrs[i].name, script_attrs[i].value);\n",
       "      }\n",
       "      // store reference to server id on output_area\n",
       "      output_area._bokeh_server_id = output.metadata[EXEC_MIME_TYPE][\"server_id\"];\n",
       "    }\n",
       "  }\n",
       "\n",
       "  function register_renderer(events, OutputArea) {\n",
       "\n",
       "    function append_mime(data, metadata, element) {\n",
       "      // create a DOM node to render to\n",
       "      var toinsert = this.create_output_subarea(\n",
       "        metadata,\n",
       "        CLASS_NAME,\n",
       "        EXEC_MIME_TYPE\n",
       "      );\n",
       "      this.keyboard_manager.register_events(toinsert);\n",
       "      // Render to node\n",
       "      var props = {data: data, metadata: metadata[EXEC_MIME_TYPE]};\n",
       "      render(props, toinsert[toinsert.length - 1]);\n",
       "      element.append(toinsert);\n",
       "      return toinsert\n",
       "    }\n",
       "\n",
       "    /* Handle when an output is cleared or removed */\n",
       "    events.on('clear_output.CodeCell', handleClearOutput);\n",
       "    events.on('delete.Cell', handleClearOutput);\n",
       "\n",
       "    /* Handle when a new output is added */\n",
       "    events.on('output_added.OutputArea', handleAddOutput);\n",
       "\n",
       "    /**\n",
       "     * Register the mime type and append_mime function with output_area\n",
       "     */\n",
       "    OutputArea.prototype.register_mime_type(EXEC_MIME_TYPE, append_mime, {\n",
       "      /* Is output safe? */\n",
       "      safe: true,\n",
       "      /* Index of renderer in `output_area.display_order` */\n",
       "      index: 0\n",
       "    });\n",
       "  }\n",
       "\n",
       "  // register the mime type if in Jupyter Notebook environment and previously unregistered\n",
       "  if (root.Jupyter !== undefined) {\n",
       "    var events = require('base/js/events');\n",
       "    var OutputArea = require('notebook/js/outputarea').OutputArea;\n",
       "\n",
       "    if (OutputArea.prototype.mime_types().indexOf(EXEC_MIME_TYPE) == -1) {\n",
       "      register_renderer(events, OutputArea);\n",
       "    }\n",
       "  }\n",
       "\n",
       "  \n",
       "  if (typeof (root._bokeh_timeout) === \"undefined\" || force === true) {\n",
       "    root._bokeh_timeout = Date.now() + 5000;\n",
       "    root._bokeh_failed_load = false;\n",
       "  }\n",
       "\n",
       "  var NB_LOAD_WARNING = {'data': {'text/html':\n",
       "     \"<div style='background-color: #fdd'>\\n\"+\n",
       "     \"<p>\\n\"+\n",
       "     \"BokehJS does not appear to have successfully loaded. If loading BokehJS from CDN, this \\n\"+\n",
       "     \"may be due to a slow or bad network connection. Possible fixes:\\n\"+\n",
       "     \"</p>\\n\"+\n",
       "     \"<ul>\\n\"+\n",
       "     \"<li>re-rerun `output_notebook()` to attempt to load from CDN again, or</li>\\n\"+\n",
       "     \"<li>use INLINE resources instead, as so:</li>\\n\"+\n",
       "     \"</ul>\\n\"+\n",
       "     \"<code>\\n\"+\n",
       "     \"from bokeh.resources import INLINE\\n\"+\n",
       "     \"output_notebook(resources=INLINE)\\n\"+\n",
       "     \"</code>\\n\"+\n",
       "     \"</div>\"}};\n",
       "\n",
       "  function display_loaded() {\n",
       "    var el = document.getElementById(\"ef4d7053-4dea-4eff-917e-5b4a8ee32198\");\n",
       "    if (el != null) {\n",
       "      el.textContent = \"BokehJS is loading...\";\n",
       "    }\n",
       "    if (root.Bokeh !== undefined) {\n",
       "      if (el != null) {\n",
       "        el.textContent = \"BokehJS \" + root.Bokeh.version + \" successfully loaded.\";\n",
       "      }\n",
       "    } else if (Date.now() < root._bokeh_timeout) {\n",
       "      setTimeout(display_loaded, 100)\n",
       "    }\n",
       "  }\n",
       "\n",
       "\n",
       "  function run_callbacks() {\n",
       "    try {\n",
       "      root._bokeh_onload_callbacks.forEach(function(callback) { callback() });\n",
       "    }\n",
       "    finally {\n",
       "      delete root._bokeh_onload_callbacks\n",
       "    }\n",
       "    console.info(\"Bokeh: all callbacks have finished\");\n",
       "  }\n",
       "\n",
       "  function load_libs(js_urls, callback) {\n",
       "    root._bokeh_onload_callbacks.push(callback);\n",
       "    if (root._bokeh_is_loading > 0) {\n",
       "      console.log(\"Bokeh: BokehJS is being loaded, scheduling callback at\", now());\n",
       "      return null;\n",
       "    }\n",
       "    if (js_urls == null || js_urls.length === 0) {\n",
       "      run_callbacks();\n",
       "      return null;\n",
       "    }\n",
       "    console.log(\"Bokeh: BokehJS not loaded, scheduling load and callback at\", now());\n",
       "    root._bokeh_is_loading = js_urls.length;\n",
       "    for (var i = 0; i < js_urls.length; i++) {\n",
       "      var url = js_urls[i];\n",
       "      var s = document.createElement('script');\n",
       "      s.src = url;\n",
       "      s.async = false;\n",
       "      s.onreadystatechange = s.onload = function() {\n",
       "        root._bokeh_is_loading--;\n",
       "        if (root._bokeh_is_loading === 0) {\n",
       "          console.log(\"Bokeh: all BokehJS libraries loaded\");\n",
       "          run_callbacks()\n",
       "        }\n",
       "      };\n",
       "      s.onerror = function() {\n",
       "        console.warn(\"failed to load library \" + url);\n",
       "      };\n",
       "      console.log(\"Bokeh: injecting script tag for BokehJS library: \", url);\n",
       "      document.getElementsByTagName(\"head\")[0].appendChild(s);\n",
       "    }\n",
       "  };var element = document.getElementById(\"ef4d7053-4dea-4eff-917e-5b4a8ee32198\");\n",
       "  if (element == null) {\n",
       "    console.log(\"Bokeh: ERROR: autoload.js configured with elementid 'ef4d7053-4dea-4eff-917e-5b4a8ee32198' but no matching script tag was found. \")\n",
       "    return false;\n",
       "  }\n",
       "\n",
       "  var js_urls = [\"https://cdn.pydata.org/bokeh/release/bokeh-0.13.0.min.js\", \"https://cdn.pydata.org/bokeh/release/bokeh-widgets-0.13.0.min.js\", \"https://cdn.pydata.org/bokeh/release/bokeh-tables-0.13.0.min.js\", \"https://cdn.pydata.org/bokeh/release/bokeh-gl-0.13.0.min.js\"];\n",
       "\n",
       "  var inline_js = [\n",
       "    function(Bokeh) {\n",
       "      Bokeh.set_log_level(\"info\");\n",
       "    },\n",
       "    \n",
       "    function(Bokeh) {\n",
       "      \n",
       "    },\n",
       "    function(Bokeh) {\n",
       "      console.log(\"Bokeh: injecting CSS: https://cdn.pydata.org/bokeh/release/bokeh-0.13.0.min.css\");\n",
       "      Bokeh.embed.inject_css(\"https://cdn.pydata.org/bokeh/release/bokeh-0.13.0.min.css\");\n",
       "      console.log(\"Bokeh: injecting CSS: https://cdn.pydata.org/bokeh/release/bokeh-widgets-0.13.0.min.css\");\n",
       "      Bokeh.embed.inject_css(\"https://cdn.pydata.org/bokeh/release/bokeh-widgets-0.13.0.min.css\");\n",
       "      console.log(\"Bokeh: injecting CSS: https://cdn.pydata.org/bokeh/release/bokeh-tables-0.13.0.min.css\");\n",
       "      Bokeh.embed.inject_css(\"https://cdn.pydata.org/bokeh/release/bokeh-tables-0.13.0.min.css\");\n",
       "    }\n",
       "  ];\n",
       "\n",
       "  function run_inline_js() {\n",
       "    \n",
       "    if ((root.Bokeh !== undefined) || (force === true)) {\n",
       "      for (var i = 0; i < inline_js.length; i++) {\n",
       "        inline_js[i].call(root, root.Bokeh);\n",
       "      }if (force === true) {\n",
       "        display_loaded();\n",
       "      }} else if (Date.now() < root._bokeh_timeout) {\n",
       "      setTimeout(run_inline_js, 100);\n",
       "    } else if (!root._bokeh_failed_load) {\n",
       "      console.log(\"Bokeh: BokehJS failed to load within specified timeout.\");\n",
       "      root._bokeh_failed_load = true;\n",
       "    } else if (force !== true) {\n",
       "      var cell = $(document.getElementById(\"ef4d7053-4dea-4eff-917e-5b4a8ee32198\")).parents('.cell').data().cell;\n",
       "      cell.output_area.append_execute_result(NB_LOAD_WARNING)\n",
       "    }\n",
       "\n",
       "  }\n",
       "\n",
       "  if (root._bokeh_is_loading === 0) {\n",
       "    console.log(\"Bokeh: BokehJS loaded, going straight to plotting\");\n",
       "    run_inline_js();\n",
       "  } else {\n",
       "    load_libs(js_urls, function() {\n",
       "      console.log(\"Bokeh: BokehJS plotting callback run at\", now());\n",
       "      run_inline_js();\n",
       "    });\n",
       "  }\n",
       "}(window));"
      ],
      "application/vnd.bokehjs_load.v0+json": "\n(function(root) {\n  function now() {\n    return new Date();\n  }\n\n  var force = true;\n\n  if (typeof (root._bokeh_onload_callbacks) === \"undefined\" || force === true) {\n    root._bokeh_onload_callbacks = [];\n    root._bokeh_is_loading = undefined;\n  }\n\n  \n\n  \n  if (typeof (root._bokeh_timeout) === \"undefined\" || force === true) {\n    root._bokeh_timeout = Date.now() + 5000;\n    root._bokeh_failed_load = false;\n  }\n\n  var NB_LOAD_WARNING = {'data': {'text/html':\n     \"<div style='background-color: #fdd'>\\n\"+\n     \"<p>\\n\"+\n     \"BokehJS does not appear to have successfully loaded. If loading BokehJS from CDN, this \\n\"+\n     \"may be due to a slow or bad network connection. Possible fixes:\\n\"+\n     \"</p>\\n\"+\n     \"<ul>\\n\"+\n     \"<li>re-rerun `output_notebook()` to attempt to load from CDN again, or</li>\\n\"+\n     \"<li>use INLINE resources instead, as so:</li>\\n\"+\n     \"</ul>\\n\"+\n     \"<code>\\n\"+\n     \"from bokeh.resources import INLINE\\n\"+\n     \"output_notebook(resources=INLINE)\\n\"+\n     \"</code>\\n\"+\n     \"</div>\"}};\n\n  function display_loaded() {\n    var el = document.getElementById(\"ef4d7053-4dea-4eff-917e-5b4a8ee32198\");\n    if (el != null) {\n      el.textContent = \"BokehJS is loading...\";\n    }\n    if (root.Bokeh !== undefined) {\n      if (el != null) {\n        el.textContent = \"BokehJS \" + root.Bokeh.version + \" successfully loaded.\";\n      }\n    } else if (Date.now() < root._bokeh_timeout) {\n      setTimeout(display_loaded, 100)\n    }\n  }\n\n\n  function run_callbacks() {\n    try {\n      root._bokeh_onload_callbacks.forEach(function(callback) { callback() });\n    }\n    finally {\n      delete root._bokeh_onload_callbacks\n    }\n    console.info(\"Bokeh: all callbacks have finished\");\n  }\n\n  function load_libs(js_urls, callback) {\n    root._bokeh_onload_callbacks.push(callback);\n    if (root._bokeh_is_loading > 0) {\n      console.log(\"Bokeh: BokehJS is being loaded, scheduling callback at\", now());\n      return null;\n    }\n    if (js_urls == null || js_urls.length === 0) {\n      run_callbacks();\n      return null;\n    }\n    console.log(\"Bokeh: BokehJS not loaded, scheduling load and callback at\", now());\n    root._bokeh_is_loading = js_urls.length;\n    for (var i = 0; i < js_urls.length; i++) {\n      var url = js_urls[i];\n      var s = document.createElement('script');\n      s.src = url;\n      s.async = false;\n      s.onreadystatechange = s.onload = function() {\n        root._bokeh_is_loading--;\n        if (root._bokeh_is_loading === 0) {\n          console.log(\"Bokeh: all BokehJS libraries loaded\");\n          run_callbacks()\n        }\n      };\n      s.onerror = function() {\n        console.warn(\"failed to load library \" + url);\n      };\n      console.log(\"Bokeh: injecting script tag for BokehJS library: \", url);\n      document.getElementsByTagName(\"head\")[0].appendChild(s);\n    }\n  };var element = document.getElementById(\"ef4d7053-4dea-4eff-917e-5b4a8ee32198\");\n  if (element == null) {\n    console.log(\"Bokeh: ERROR: autoload.js configured with elementid 'ef4d7053-4dea-4eff-917e-5b4a8ee32198' but no matching script tag was found. \")\n    return false;\n  }\n\n  var js_urls = [\"https://cdn.pydata.org/bokeh/release/bokeh-0.13.0.min.js\", \"https://cdn.pydata.org/bokeh/release/bokeh-widgets-0.13.0.min.js\", \"https://cdn.pydata.org/bokeh/release/bokeh-tables-0.13.0.min.js\", \"https://cdn.pydata.org/bokeh/release/bokeh-gl-0.13.0.min.js\"];\n\n  var inline_js = [\n    function(Bokeh) {\n      Bokeh.set_log_level(\"info\");\n    },\n    \n    function(Bokeh) {\n      \n    },\n    function(Bokeh) {\n      console.log(\"Bokeh: injecting CSS: https://cdn.pydata.org/bokeh/release/bokeh-0.13.0.min.css\");\n      Bokeh.embed.inject_css(\"https://cdn.pydata.org/bokeh/release/bokeh-0.13.0.min.css\");\n      console.log(\"Bokeh: injecting CSS: https://cdn.pydata.org/bokeh/release/bokeh-widgets-0.13.0.min.css\");\n      Bokeh.embed.inject_css(\"https://cdn.pydata.org/bokeh/release/bokeh-widgets-0.13.0.min.css\");\n      console.log(\"Bokeh: injecting CSS: https://cdn.pydata.org/bokeh/release/bokeh-tables-0.13.0.min.css\");\n      Bokeh.embed.inject_css(\"https://cdn.pydata.org/bokeh/release/bokeh-tables-0.13.0.min.css\");\n    }\n  ];\n\n  function run_inline_js() {\n    \n    if ((root.Bokeh !== undefined) || (force === true)) {\n      for (var i = 0; i < inline_js.length; i++) {\n        inline_js[i].call(root, root.Bokeh);\n      }if (force === true) {\n        display_loaded();\n      }} else if (Date.now() < root._bokeh_timeout) {\n      setTimeout(run_inline_js, 100);\n    } else if (!root._bokeh_failed_load) {\n      console.log(\"Bokeh: BokehJS failed to load within specified timeout.\");\n      root._bokeh_failed_load = true;\n    } else if (force !== true) {\n      var cell = $(document.getElementById(\"ef4d7053-4dea-4eff-917e-5b4a8ee32198\")).parents('.cell').data().cell;\n      cell.output_area.append_execute_result(NB_LOAD_WARNING)\n    }\n\n  }\n\n  if (root._bokeh_is_loading === 0) {\n    console.log(\"Bokeh: BokehJS loaded, going straight to plotting\");\n    run_inline_js();\n  } else {\n    load_libs(js_urls, function() {\n      console.log(\"Bokeh: BokehJS plotting callback run at\", now());\n      run_inline_js();\n    });\n  }\n}(window));"
     },
     "metadata": {},
     "output_type": "display_data"
    }
   ],
   "source": [
    "from bokeh.plotting import figure, output_file, show, ColumnDataSource\n",
    "from bokeh.io import output_notebook\n",
    "output_notebook()\n",
    "from bokeh.models import HoverTool,BoxZoomTool,ResetTool, WheelZoomTool\n",
    "from bokeh.layouts import row, gridplot, layout, column\n",
    "from bokeh.models.widgets import PreText, Select"
   ]
  },
  {
   "cell_type": "markdown",
   "metadata": {
    "pycharm": {}
   },
   "source": [
    "## Import resources"
   ]
  },
  {
   "cell_type": "code",
   "execution_count": 5,
   "metadata": {
    "pycharm": {}
   },
   "outputs": [],
   "source": [
    "Xi = pd.read_pickle('./dfXiPlot')\n",
    "Omega = pd.read_pickle('./dfOmegaPlot')"
   ]
  },
  {
   "cell_type": "markdown",
   "metadata": {
    "pycharm": {}
   },
   "source": [
    "## Simplification of the dataframes"
   ]
  },
  {
   "cell_type": "code",
   "execution_count": 6,
   "metadata": {
    "pycharm": {}
   },
   "outputs": [],
   "source": [
    "dfXi=Xi[['type_sec','people','type','category','toponym','longitude_Xi','latitude_Xi']].reset_index(level=[0,1,2])\n",
    "dfOmega=Omega[['type_sec','people','type','category','toponym','longitude_Omega','latitude_Omega']].reset_index(level=[0,1,2])"
   ]
  },
  {
   "cell_type": "markdown",
   "metadata": {
    "pycharm": {}
   },
   "source": [
    "## Selection of a sub-list"
   ]
  },
  {
   "cell_type": "code",
   "execution_count": 7,
   "metadata": {
    "pycharm": {}
   },
   "outputs": [],
   "source": [
    "VettXi = dfXi[dfXi.people == 'Vettones']\n",
    "VettOmega = dfOmega[dfOmega.people == 'Vettones']"
   ]
  },
  {
   "cell_type": "markdown",
   "metadata": {
    "pycharm": {}
   },
   "source": [
    "## Working dataframe"
   ]
  },
  {
   "cell_type": "code",
   "execution_count": 8,
   "metadata": {
    "pycharm": {}
   },
   "outputs": [
    {
     "data": {
      "text/html": [
       "<div>\n",
       "<style scoped>\n",
       "    .dataframe tbody tr th:only-of-type {\n",
       "        vertical-align: middle;\n",
       "    }\n",
       "\n",
       "    .dataframe tbody tr th {\n",
       "        vertical-align: top;\n",
       "    }\n",
       "\n",
       "    .dataframe thead th {\n",
       "        text-align: right;\n",
       "    }\n",
       "</style>\n",
       "<table border=\"1\" class=\"dataframe\">\n",
       "  <thead>\n",
       "    <tr style=\"text-align: right;\">\n",
       "      <th></th>\n",
       "      <th>book_ID</th>\n",
       "      <th>chap_ID</th>\n",
       "      <th>sec_ID</th>\n",
       "      <th>type_sec</th>\n",
       "      <th>people</th>\n",
       "      <th>type</th>\n",
       "      <th>category</th>\n",
       "      <th>toponym</th>\n",
       "      <th>longitude_Xi</th>\n",
       "      <th>latitude_Xi</th>\n",
       "      <th>longitude_Omega</th>\n",
       "      <th>latitude_Omega</th>\n",
       "      <th>diff</th>\n",
       "    </tr>\n",
       "    <tr>\n",
       "      <th>ID</th>\n",
       "      <th></th>\n",
       "      <th></th>\n",
       "      <th></th>\n",
       "      <th></th>\n",
       "      <th></th>\n",
       "      <th></th>\n",
       "      <th></th>\n",
       "      <th></th>\n",
       "      <th></th>\n",
       "      <th></th>\n",
       "      <th></th>\n",
       "      <th></th>\n",
       "      <th></th>\n",
       "    </tr>\n",
       "  </thead>\n",
       "  <tbody>\n",
       "    <tr>\n",
       "      <th>2.05.09.02</th>\n",
       "      <td>2</td>\n",
       "      <td>2.05</td>\n",
       "      <td>2.05.09</td>\n",
       "      <td>inland</td>\n",
       "      <td>Vettones</td>\n",
       "      <td>locality</td>\n",
       "      <td>city</td>\n",
       "      <td>Λακκιαοππιδανά</td>\n",
       "      <td>8.500000</td>\n",
       "      <td>41.666667</td>\n",
       "      <td>8.500000</td>\n",
       "      <td>41.666667</td>\n",
       "      <td>id</td>\n",
       "    </tr>\n",
       "    <tr>\n",
       "      <th>2.05.09.03</th>\n",
       "      <td>2</td>\n",
       "      <td>2.05</td>\n",
       "      <td>2.05.09</td>\n",
       "      <td>inland</td>\n",
       "      <td>Vettones</td>\n",
       "      <td>locality</td>\n",
       "      <td>city</td>\n",
       "      <td>Κοτταγοβρίγα</td>\n",
       "      <td>8.000000</td>\n",
       "      <td>41.500000</td>\n",
       "      <td>8.000000</td>\n",
       "      <td>41.500000</td>\n",
       "      <td>id</td>\n",
       "    </tr>\n",
       "    <tr>\n",
       "      <th>2.05.09.04</th>\n",
       "      <td>2</td>\n",
       "      <td>2.05</td>\n",
       "      <td>2.05.09</td>\n",
       "      <td>inland</td>\n",
       "      <td>Vettones</td>\n",
       "      <td>locality</td>\n",
       "      <td>city</td>\n",
       "      <td>Σαλμαντίκα</td>\n",
       "      <td>8.833333</td>\n",
       "      <td>41.833333</td>\n",
       "      <td>8.833333</td>\n",
       "      <td>41.833333</td>\n",
       "      <td>id</td>\n",
       "    </tr>\n",
       "    <tr>\n",
       "      <th>2.05.09.05</th>\n",
       "      <td>2</td>\n",
       "      <td>2.05</td>\n",
       "      <td>2.05.09</td>\n",
       "      <td>inland</td>\n",
       "      <td>Vettones</td>\n",
       "      <td>locality</td>\n",
       "      <td>city</td>\n",
       "      <td>Αὐγουστοβρίγα</td>\n",
       "      <td>8.000000</td>\n",
       "      <td>41.250000</td>\n",
       "      <td>8.000000</td>\n",
       "      <td>41.250000</td>\n",
       "      <td>id</td>\n",
       "    </tr>\n",
       "    <tr>\n",
       "      <th>2.05.09.06</th>\n",
       "      <td>2</td>\n",
       "      <td>2.05</td>\n",
       "      <td>2.05.09</td>\n",
       "      <td>inland</td>\n",
       "      <td>Vettones</td>\n",
       "      <td>locality</td>\n",
       "      <td>city</td>\n",
       "      <td>Ὄκελον</td>\n",
       "      <td>8.833333</td>\n",
       "      <td>40.750000</td>\n",
       "      <td>8.333333</td>\n",
       "      <td>41.250000</td>\n",
       "      <td>var</td>\n",
       "    </tr>\n",
       "    <tr>\n",
       "      <th>2.05.09.07</th>\n",
       "      <td>2</td>\n",
       "      <td>2.05</td>\n",
       "      <td>2.05.09</td>\n",
       "      <td>inland</td>\n",
       "      <td>Vettones</td>\n",
       "      <td>locality</td>\n",
       "      <td>city</td>\n",
       "      <td>Καπάρα</td>\n",
       "      <td>8.166667</td>\n",
       "      <td>41.000000</td>\n",
       "      <td>8.500000</td>\n",
       "      <td>41.000000</td>\n",
       "      <td>var</td>\n",
       "    </tr>\n",
       "    <tr>\n",
       "      <th>2.05.09.08</th>\n",
       "      <td>2</td>\n",
       "      <td>2.05</td>\n",
       "      <td>2.05.09</td>\n",
       "      <td>inland</td>\n",
       "      <td>Vettones</td>\n",
       "      <td>locality</td>\n",
       "      <td>city</td>\n",
       "      <td>Μανλιάνα</td>\n",
       "      <td>8.833333</td>\n",
       "      <td>41.000000</td>\n",
       "      <td>8.333333</td>\n",
       "      <td>41.000000</td>\n",
       "      <td>var</td>\n",
       "    </tr>\n",
       "    <tr>\n",
       "      <th>2.05.09.09</th>\n",
       "      <td>2</td>\n",
       "      <td>2.05</td>\n",
       "      <td>2.05.09</td>\n",
       "      <td>inland</td>\n",
       "      <td>Vettones</td>\n",
       "      <td>locality</td>\n",
       "      <td>city</td>\n",
       "      <td>Λακονιμουργί</td>\n",
       "      <td>8.333333</td>\n",
       "      <td>40.750000</td>\n",
       "      <td>8.333333</td>\n",
       "      <td>40.750000</td>\n",
       "      <td>id</td>\n",
       "    </tr>\n",
       "    <tr>\n",
       "      <th>2.05.09.10</th>\n",
       "      <td>2</td>\n",
       "      <td>2.05</td>\n",
       "      <td>2.05.09</td>\n",
       "      <td>inland</td>\n",
       "      <td>Vettones</td>\n",
       "      <td>locality</td>\n",
       "      <td>city</td>\n",
       "      <td>Δεοβρίγα</td>\n",
       "      <td>8.666667</td>\n",
       "      <td>40.666667</td>\n",
       "      <td>8.666667</td>\n",
       "      <td>40.666667</td>\n",
       "      <td>id</td>\n",
       "    </tr>\n",
       "    <tr>\n",
       "      <th>2.05.09.11</th>\n",
       "      <td>2</td>\n",
       "      <td>2.05</td>\n",
       "      <td>2.05.09</td>\n",
       "      <td>inland</td>\n",
       "      <td>Vettones</td>\n",
       "      <td>locality</td>\n",
       "      <td>city</td>\n",
       "      <td>Ὀβίλα</td>\n",
       "      <td>8.833333</td>\n",
       "      <td>40.416667</td>\n",
       "      <td>8.833333</td>\n",
       "      <td>40.416667</td>\n",
       "      <td>id</td>\n",
       "    </tr>\n",
       "    <tr>\n",
       "      <th>2.05.09.12</th>\n",
       "      <td>2</td>\n",
       "      <td>2.05</td>\n",
       "      <td>2.05.09</td>\n",
       "      <td>inland</td>\n",
       "      <td>Vettones</td>\n",
       "      <td>locality</td>\n",
       "      <td>city</td>\n",
       "      <td>Λάμα</td>\n",
       "      <td>8.500000</td>\n",
       "      <td>40.083333</td>\n",
       "      <td>8.500000</td>\n",
       "      <td>40.083333</td>\n",
       "      <td>id</td>\n",
       "    </tr>\n",
       "  </tbody>\n",
       "</table>\n",
       "</div>"
      ],
      "text/plain": [
       "            book_ID chap_ID   sec_ID type_sec    people      type category  \\\n",
       "ID                                                                           \n",
       "2.05.09.02        2    2.05  2.05.09   inland  Vettones  locality     city   \n",
       "2.05.09.03        2    2.05  2.05.09   inland  Vettones  locality     city   \n",
       "2.05.09.04        2    2.05  2.05.09   inland  Vettones  locality     city   \n",
       "2.05.09.05        2    2.05  2.05.09   inland  Vettones  locality     city   \n",
       "2.05.09.06        2    2.05  2.05.09   inland  Vettones  locality     city   \n",
       "2.05.09.07        2    2.05  2.05.09   inland  Vettones  locality     city   \n",
       "2.05.09.08        2    2.05  2.05.09   inland  Vettones  locality     city   \n",
       "2.05.09.09        2    2.05  2.05.09   inland  Vettones  locality     city   \n",
       "2.05.09.10        2    2.05  2.05.09   inland  Vettones  locality     city   \n",
       "2.05.09.11        2    2.05  2.05.09   inland  Vettones  locality     city   \n",
       "2.05.09.12        2    2.05  2.05.09   inland  Vettones  locality     city   \n",
       "\n",
       "                    toponym  longitude_Xi  latitude_Xi  longitude_Omega  \\\n",
       "ID                                                                        \n",
       "2.05.09.02  Λακκιαοππιδανά      8.500000    41.666667         8.500000   \n",
       "2.05.09.03    Κοτταγοβρίγα      8.000000    41.500000         8.000000   \n",
       "2.05.09.04      Σαλμαντίκα      8.833333    41.833333         8.833333   \n",
       "2.05.09.05  Αὐγουστοβρίγα      8.000000    41.250000         8.000000   \n",
       "2.05.09.06         Ὄκελον      8.833333    40.750000         8.333333   \n",
       "2.05.09.07          Καπάρα      8.166667    41.000000         8.500000   \n",
       "2.05.09.08        Μανλιάνα      8.833333    41.000000         8.333333   \n",
       "2.05.09.09    Λακονιμουργί      8.333333    40.750000         8.333333   \n",
       "2.05.09.10        Δεοβρίγα      8.666667    40.666667         8.666667   \n",
       "2.05.09.11          Ὀβίλα      8.833333    40.416667         8.833333   \n",
       "2.05.09.12            Λάμα      8.500000    40.083333         8.500000   \n",
       "\n",
       "            latitude_Omega diff  \n",
       "ID                               \n",
       "2.05.09.02       41.666667   id  \n",
       "2.05.09.03       41.500000   id  \n",
       "2.05.09.04       41.833333   id  \n",
       "2.05.09.05       41.250000   id  \n",
       "2.05.09.06       41.250000  var  \n",
       "2.05.09.07       41.000000  var  \n",
       "2.05.09.08       41.000000  var  \n",
       "2.05.09.09       40.750000   id  \n",
       "2.05.09.10       40.666667   id  \n",
       "2.05.09.11       40.416667   id  \n",
       "2.05.09.12       40.083333   id  "
      ]
     },
     "execution_count": 8,
     "metadata": {},
     "output_type": "execute_result"
    }
   ],
   "source": [
    "dfVett = VettXi.merge(VettOmega[['longitude_Omega','latitude_Omega']], left_index=True, right_index=True)\n",
    "dfVett['diff'] = np.where((dfVett['longitude_Omega']==dfVett['longitude_Xi']) & (dfVett['latitude_Omega']==dfVett['latitude_Xi']),'id','var')\n",
    "dfVett"
   ]
  },
  {
   "cell_type": "markdown",
   "metadata": {
    "pycharm": {}
   },
   "source": [
    "## Differences between Ξ and Ω"
   ]
  },
  {
   "cell_type": "code",
   "execution_count": 9,
   "metadata": {
    "pycharm": {}
   },
   "outputs": [
    {
     "data": {
      "text/html": [
       "\n",
       "\n",
       "\n",
       "\n",
       "\n",
       "\n",
       "  <div class=\"bk-root\" id=\"315ed4f5-70a2-484f-bf7c-21d938f2cee0\"></div>\n"
      ]
     },
     "metadata": {},
     "output_type": "display_data"
    },
    {
     "data": {
      "application/javascript": [
       "(function(root) {\n",
       "  function embed_document(root) {\n",
       "    \n",
       "  var docs_json = {\"9720cd85-3ed3-4305-95c6-38c2906ed8d6\":{\"roots\":{\"references\":[{\"attributes\":{},\"id\":\"5dfdbc64-cce7-47d4-a2e6-7b6a83b0c47f\",\"type\":\"ResetTool\"},{\"attributes\":{},\"id\":\"a6f12148-ee70-47b5-af75-c22693205256\",\"type\":\"HelpTool\"},{\"attributes\":{},\"id\":\"4d2ef9dd-c05b-423f-ab60-6ea72fa31ccd\",\"type\":\"UnionRenderers\"},{\"attributes\":{\"bottom_units\":\"screen\",\"fill_alpha\":{\"value\":0.5},\"fill_color\":{\"value\":\"lightgrey\"},\"left_units\":\"screen\",\"level\":\"overlay\",\"line_alpha\":{\"value\":1.0},\"line_color\":{\"value\":\"black\"},\"line_dash\":[4,4],\"line_width\":{\"value\":2},\"plot\":null,\"render_mode\":\"css\",\"right_units\":\"screen\",\"top_units\":\"screen\"},\"id\":\"50ec0a0f-2599-4620-9caa-eddefdd2f07a\",\"type\":\"BoxAnnotation\"},{\"attributes\":{},\"id\":\"5e21abb0-2309-4dd6-a3b6-d61c482cf913\",\"type\":\"BasicTickFormatter\"},{\"attributes\":{\"callback\":null,\"data\":{\"x\":{\"__ndarray__\":\"AAAAAAAAIUAAAAAAAAAgQKuqqqqqqiFAAAAAAAAAIECrqqqqqqohQFVVVVVVVSBAq6qqqqqqIUCrqqqqqqogQFVVVVVVVSFAq6qqqqqqIUAAAAAAAAAhQA==\",\"dtype\":\"float64\",\"shape\":[11]},\"y\":{\"__ndarray__\":\"VVVVVVXVREAAAAAAAMBEQKuqqqqq6kRAAAAAAACgREAAAAAAAGBEQAAAAAAAgERAAAAAAACAREAAAAAAAGBEQFVVVVVVVURAVVVVVVU1RECrqqqqqgpEQA==\",\"dtype\":\"float64\",\"shape\":[11]}},\"selected\":{\"id\":\"d0284042-0db3-4330-81b6-6844a8d59c43\",\"type\":\"Selection\"},\"selection_policy\":{\"id\":\"4d2ef9dd-c05b-423f-ab60-6ea72fa31ccd\",\"type\":\"UnionRenderers\"}},\"id\":\"f8bd1c77-4423-4d2f-a4f7-a4f3feeab923\",\"type\":\"ColumnDataSource\"},{\"attributes\":{\"below\":[{\"id\":\"b8896457-97ee-4a48-bdea-01bd6bfd70c2\",\"type\":\"LinearAxis\"}],\"left\":[{\"id\":\"cfe3e78c-0e3a-4d72-97f1-12bc63e08e9a\",\"type\":\"LinearAxis\"}],\"plot_height\":450,\"plot_width\":350,\"renderers\":[{\"id\":\"b8896457-97ee-4a48-bdea-01bd6bfd70c2\",\"type\":\"LinearAxis\"},{\"id\":\"2e8bb26d-d859-469c-ab9d-9071b7e15bd7\",\"type\":\"Grid\"},{\"id\":\"cfe3e78c-0e3a-4d72-97f1-12bc63e08e9a\",\"type\":\"LinearAxis\"},{\"id\":\"1ad03dec-e9ec-4791-80e7-bcdfc86fae54\",\"type\":\"Grid\"},{\"id\":\"d240c2d0-cf98-408d-b745-8cd2a17e2622\",\"type\":\"BoxAnnotation\"},{\"id\":\"f4bd09e2-5b58-47b8-ad80-2d8cbfec34fa\",\"type\":\"GlyphRenderer\"},{\"id\":\"5f18224a-1bf8-44b6-9e77-e019b9c6b5bd\",\"type\":\"GlyphRenderer\"},{\"id\":\"5a502fe9-1c45-4024-ae7e-c6c0d8ffceeb\",\"type\":\"GlyphRenderer\"},{\"id\":\"83f30a1e-d6ed-4374-a67e-02bd85adaaeb\",\"type\":\"GlyphRenderer\"}],\"title\":{\"id\":\"3900a4d0-51e5-431b-80be-dcab93f02d8c\",\"type\":\"Title\"},\"toolbar\":{\"id\":\"7e8fbc61-5383-4585-a424-1243343639fe\",\"type\":\"Toolbar\"},\"toolbar_location\":null,\"x_range\":{\"id\":\"997652fc-f69c-40b3-bdb1-83f0ecfd31e2\",\"type\":\"Range1d\"},\"x_scale\":{\"id\":\"ed9d35e6-f53b-43d2-85cb-197ebb8245d9\",\"type\":\"LinearScale\"},\"y_range\":{\"id\":\"956f23fb-2694-44a7-9530-790bb40e9cab\",\"type\":\"Range1d\"},\"y_scale\":{\"id\":\"227c640a-0a81-45cb-b138-1a58ab7d0977\",\"type\":\"LinearScale\"}},\"id\":\"ec2b6eac-b448-45ac-b3a1-86ce7d000354\",\"subtype\":\"Figure\",\"type\":\"Plot\"},{\"attributes\":{\"callback\":null,\"data\":{\"x\":{\"__ndarray__\":\"q6qqqqqqIEAAAAAAAAAhQKuqqqqqqiBA\",\"dtype\":\"float64\",\"shape\":[3]},\"y\":{\"__ndarray__\":\"AAAAAACgREAAAAAAAIBEQAAAAAAAgERA\",\"dtype\":\"float64\",\"shape\":[3]}},\"selected\":{\"id\":\"6069e10c-c5a6-4aa0-95e9-5be46efb8949\",\"type\":\"Selection\"},\"selection_policy\":{\"id\":\"cd8c7b80-df08-437e-8e02-c2ada025f349\",\"type\":\"UnionRenderers\"}},\"id\":\"e94b667f-3d8c-4bda-b656-ae51d143a454\",\"type\":\"ColumnDataSource\"},{\"attributes\":{\"fill_alpha\":{\"value\":0.7},\"fill_color\":{\"value\":\"green\"},\"inner_radius\":{\"units\":\"data\",\"value\":0.04},\"line_alpha\":{\"value\":0},\"outer_radius\":{\"units\":\"data\",\"value\":0.06},\"x\":{\"field\":\"x\"},\"y\":{\"field\":\"y\"}},\"id\":\"fc4767d4-b1f8-4fae-8094-577a440551f0\",\"type\":\"Annulus\"},{\"attributes\":{\"fill_alpha\":{\"value\":0.1},\"fill_color\":{\"value\":\"#1f77b4\"},\"inner_radius\":{\"units\":\"data\",\"value\":0.04},\"line_alpha\":{\"value\":0.1},\"line_color\":{\"value\":\"#1f77b4\"},\"outer_radius\":{\"units\":\"data\",\"value\":0.06},\"x\":{\"field\":\"x\"},\"y\":{\"field\":\"y\"}},\"id\":\"90be4049-0251-44d6-b41e-4c7b0d3240f0\",\"type\":\"Annulus\"},{\"attributes\":{\"toolbar\":{\"id\":\"6ab0c1f0-9c0a-438b-b941-45d3d613702d\",\"type\":\"ProxyToolbar\"},\"toolbar_location\":\"above\"},\"id\":\"d5911c0a-4f1a-4666-b9e5-3e4b211b4db6\",\"type\":\"ToolbarBox\"},{\"attributes\":{\"data_source\":{\"id\":\"e94b667f-3d8c-4bda-b656-ae51d143a454\",\"type\":\"ColumnDataSource\"},\"glyph\":{\"id\":\"fc4767d4-b1f8-4fae-8094-577a440551f0\",\"type\":\"Annulus\"},\"hover_glyph\":null,\"muted_glyph\":null,\"nonselection_glyph\":{\"id\":\"90be4049-0251-44d6-b41e-4c7b0d3240f0\",\"type\":\"Annulus\"},\"selection_glyph\":null,\"view\":{\"id\":\"f3f58e2c-7091-4a70-8103-6c01ab681d9a\",\"type\":\"CDSView\"}},\"id\":\"fd818dab-4dc4-4eb3-9439-ffedac74d372\",\"type\":\"GlyphRenderer\"},{\"attributes\":{\"source\":{\"id\":\"e94b667f-3d8c-4bda-b656-ae51d143a454\",\"type\":\"ColumnDataSource\"}},\"id\":\"f3f58e2c-7091-4a70-8103-6c01ab681d9a\",\"type\":\"CDSView\"},{\"attributes\":{\"below\":[{\"id\":\"38945b80-8d7d-4d11-ab73-afec9fecc038\",\"type\":\"LinearAxis\"}],\"left\":[{\"id\":\"5c2bb5aa-8a67-4862-87cc-c81f1c09ddeb\",\"type\":\"LinearAxis\"}],\"plot_height\":450,\"plot_width\":350,\"renderers\":[{\"id\":\"38945b80-8d7d-4d11-ab73-afec9fecc038\",\"type\":\"LinearAxis\"},{\"id\":\"836eb38f-e7ca-4d6c-96d6-ee0ad3f433f6\",\"type\":\"Grid\"},{\"id\":\"5c2bb5aa-8a67-4862-87cc-c81f1c09ddeb\",\"type\":\"LinearAxis\"},{\"id\":\"c493e0f6-bb5a-45df-b1aa-0fc452e68d05\",\"type\":\"Grid\"},{\"id\":\"5aca2c68-f336-4933-b60d-f64e1be99b53\",\"type\":\"BoxAnnotation\"},{\"id\":\"fe1d0cce-6565-4143-af59-ceb5873bbe47\",\"type\":\"GlyphRenderer\"},{\"id\":\"87837ba3-dd88-435a-8b65-29392cc85d58\",\"type\":\"GlyphRenderer\"}],\"title\":{\"id\":\"d8428406-122a-402a-9391-a9848e080053\",\"type\":\"Title\"},\"toolbar\":{\"id\":\"70468a20-62bb-4f16-9942-b224bd4a5c58\",\"type\":\"Toolbar\"},\"toolbar_location\":null,\"x_range\":{\"id\":\"02409afa-e0d8-4b93-9ce6-8c11560ccc6b\",\"type\":\"Range1d\"},\"x_scale\":{\"id\":\"e5311d2b-6cae-4d2c-9e9e-16ae4d25c4a0\",\"type\":\"LinearScale\"},\"y_range\":{\"id\":\"c7c695d0-f346-4ec6-9093-baa9e5ff3944\",\"type\":\"Range1d\"},\"y_scale\":{\"id\":\"a97d73a4-f2fb-45d0-980a-a80bdbb2dccf\",\"type\":\"LinearScale\"}},\"id\":\"ceaa9dc9-bd92-421e-96a3-d381831cc98a\",\"subtype\":\"Figure\",\"type\":\"Plot\"},{\"attributes\":{},\"id\":\"6424ad13-7333-4c42-af5c-100e15e1b295\",\"type\":\"UnionRenderers\"},{\"attributes\":{\"source\":{\"id\":\"f8bd1c77-4423-4d2f-a4f7-a4f3feeab923\",\"type\":\"ColumnDataSource\"}},\"id\":\"31ff6cac-042e-4169-8a77-2284e691a58a\",\"type\":\"CDSView\"},{\"attributes\":{\"plot\":null,\"text\":\"Vettones \\u039e\"},\"id\":\"d8428406-122a-402a-9391-a9848e080053\",\"type\":\"Title\"},{\"attributes\":{\"plot\":null,\"text\":\"Comparison\"},\"id\":\"3900a4d0-51e5-431b-80be-dcab93f02d8c\",\"type\":\"Title\"},{\"attributes\":{},\"id\":\"13c37050-aab8-4725-82f4-7f2c68916776\",\"type\":\"Selection\"},{\"attributes\":{\"callback\":null,\"end\":9.5,\"start\":7.5},\"id\":\"997652fc-f69c-40b3-bdb1-83f0ecfd31e2\",\"type\":\"Range1d\"},{\"attributes\":{},\"id\":\"231a0f1a-1a71-4db2-b0ad-dc00fb1296b0\",\"type\":\"Selection\"},{\"attributes\":{\"children\":[{\"id\":\"d5911c0a-4f1a-4666-b9e5-3e4b211b4db6\",\"type\":\"ToolbarBox\"},{\"id\":\"dd2aeaf7-ec87-47da-8239-e2c32bf92242\",\"type\":\"Column\"}]},\"id\":\"2d4fb317-5faa-4072-a883-6ef3bd2baa37\",\"type\":\"Column\"},{\"attributes\":{\"active_drag\":\"auto\",\"active_inspect\":\"auto\",\"active_multi\":null,\"active_scroll\":\"auto\",\"active_tap\":\"auto\",\"tools\":[{\"id\":\"4635a735-28a9-4cb8-9baf-6b3c796629a5\",\"type\":\"PanTool\"},{\"id\":\"656b142b-ce8c-466f-bab4-f817529ab825\",\"type\":\"WheelZoomTool\"},{\"id\":\"7d8fd7b7-5b73-4ef7-8faf-08fd43d1fad7\",\"type\":\"BoxZoomTool\"},{\"id\":\"1b36a9a7-123a-4f72-b210-91f56d04ba88\",\"type\":\"SaveTool\"},{\"id\":\"231e68b7-220a-4491-aef5-db4fbb4994cf\",\"type\":\"ResetTool\"},{\"id\":\"fffd4cbd-51c5-4371-a335-7d4d6d4540fd\",\"type\":\"HelpTool\"}]},\"id\":\"7e8fbc61-5383-4585-a424-1243343639fe\",\"type\":\"Toolbar\"},{\"attributes\":{\"callback\":null,\"end\":9.5,\"start\":7.5},\"id\":\"02409afa-e0d8-4b93-9ce6-8c11560ccc6b\",\"type\":\"Range1d\"},{\"attributes\":{\"fill_alpha\":{\"value\":0.1},\"fill_color\":{\"value\":\"#1f77b4\"},\"line_alpha\":{\"value\":0.1},\"line_color\":{\"value\":\"#1f77b4\"},\"size\":{\"units\":\"screen\",\"value\":6},\"x\":{\"field\":\"x\"},\"y\":{\"field\":\"y\"}},\"id\":\"9b19b7fe-1311-4b6f-8233-aa144accb76c\",\"type\":\"Circle\"},{\"attributes\":{},\"id\":\"ed9d35e6-f53b-43d2-85cb-197ebb8245d9\",\"type\":\"LinearScale\"},{\"attributes\":{\"fill_alpha\":{\"value\":0.1},\"fill_color\":{\"value\":\"#1f77b4\"},\"inner_radius\":{\"units\":\"data\",\"value\":0.04},\"line_alpha\":{\"value\":0.1},\"line_color\":{\"value\":\"#1f77b4\"},\"outer_radius\":{\"units\":\"data\",\"value\":0.06},\"x\":{\"field\":\"x\"},\"y\":{\"field\":\"y\"}},\"id\":\"3a5e22d9-e15f-41a7-ac87-2a5e836d40c8\",\"type\":\"Annulus\"},{\"attributes\":{\"active_drag\":\"auto\",\"active_inspect\":\"auto\",\"active_multi\":null,\"active_scroll\":\"auto\",\"active_tap\":\"auto\",\"tools\":[{\"id\":\"b4832041-77b4-4825-8290-a674ccabb791\",\"type\":\"PanTool\"},{\"id\":\"1b1b0cf3-c2ed-49a2-aea3-86106aad4f25\",\"type\":\"WheelZoomTool\"},{\"id\":\"26fa1d75-a039-4dac-9bb1-2d89c5b197dc\",\"type\":\"BoxZoomTool\"},{\"id\":\"12473a0d-b503-4793-8d9f-6110b97717eb\",\"type\":\"SaveTool\"},{\"id\":\"63523077-4c0f-43ed-adc0-ff2cb4b748cd\",\"type\":\"ResetTool\"},{\"id\":\"92e71f33-0b87-4e13-9243-35e49925eb26\",\"type\":\"HelpTool\"}]},\"id\":\"70468a20-62bb-4f16-9942-b224bd4a5c58\",\"type\":\"Toolbar\"},{\"attributes\":{\"callback\":null,\"end\":42,\"start\":40},\"id\":\"956f23fb-2694-44a7-9530-790bb40e9cab\",\"type\":\"Range1d\"},{\"attributes\":{},\"id\":\"227c640a-0a81-45cb-b138-1a58ab7d0977\",\"type\":\"LinearScale\"},{\"attributes\":{\"tools\":[{\"id\":\"b4832041-77b4-4825-8290-a674ccabb791\",\"type\":\"PanTool\"},{\"id\":\"1b1b0cf3-c2ed-49a2-aea3-86106aad4f25\",\"type\":\"WheelZoomTool\"},{\"id\":\"26fa1d75-a039-4dac-9bb1-2d89c5b197dc\",\"type\":\"BoxZoomTool\"},{\"id\":\"12473a0d-b503-4793-8d9f-6110b97717eb\",\"type\":\"SaveTool\"},{\"id\":\"63523077-4c0f-43ed-adc0-ff2cb4b748cd\",\"type\":\"ResetTool\"},{\"id\":\"92e71f33-0b87-4e13-9243-35e49925eb26\",\"type\":\"HelpTool\"},{\"id\":\"0c4fd64e-1f36-4952-a7aa-43399887c803\",\"type\":\"PanTool\"},{\"id\":\"e1c18ba1-bd4f-4b4e-8cbf-b7fc94b48178\",\"type\":\"WheelZoomTool\"},{\"id\":\"ad6b49b7-4b5d-4d79-a385-1aa9276ad8c3\",\"type\":\"BoxZoomTool\"},{\"id\":\"38da12c7-4be7-488c-af70-8875ff56d604\",\"type\":\"SaveTool\"},{\"id\":\"5dfdbc64-cce7-47d4-a2e6-7b6a83b0c47f\",\"type\":\"ResetTool\"},{\"id\":\"a6f12148-ee70-47b5-af75-c22693205256\",\"type\":\"HelpTool\"},{\"id\":\"4635a735-28a9-4cb8-9baf-6b3c796629a5\",\"type\":\"PanTool\"},{\"id\":\"656b142b-ce8c-466f-bab4-f817529ab825\",\"type\":\"WheelZoomTool\"},{\"id\":\"7d8fd7b7-5b73-4ef7-8faf-08fd43d1fad7\",\"type\":\"BoxZoomTool\"},{\"id\":\"1b36a9a7-123a-4f72-b210-91f56d04ba88\",\"type\":\"SaveTool\"},{\"id\":\"231e68b7-220a-4491-aef5-db4fbb4994cf\",\"type\":\"ResetTool\"},{\"id\":\"fffd4cbd-51c5-4371-a335-7d4d6d4540fd\",\"type\":\"HelpTool\"}]},\"id\":\"6ab0c1f0-9c0a-438b-b941-45d3d613702d\",\"type\":\"ProxyToolbar\"},{\"attributes\":{\"plot\":{\"id\":\"ec2b6eac-b448-45ac-b3a1-86ce7d000354\",\"subtype\":\"Figure\",\"type\":\"Plot\"},\"ticker\":{\"id\":\"b5e3cbe7-6cdf-496b-b771-ea9969c83a12\",\"type\":\"BasicTicker\"}},\"id\":\"2e8bb26d-d859-469c-ab9d-9071b7e15bd7\",\"type\":\"Grid\"},{\"attributes\":{},\"id\":\"e5311d2b-6cae-4d2c-9e9e-16ae4d25c4a0\",\"type\":\"LinearScale\"},{\"attributes\":{\"formatter\":{\"id\":\"4adf5c59-3260-4d9f-be44-4926669fe43b\",\"type\":\"BasicTickFormatter\"},\"plot\":{\"id\":\"ec2b6eac-b448-45ac-b3a1-86ce7d000354\",\"subtype\":\"Figure\",\"type\":\"Plot\"},\"ticker\":{\"id\":\"b5e3cbe7-6cdf-496b-b771-ea9969c83a12\",\"type\":\"BasicTicker\"}},\"id\":\"b8896457-97ee-4a48-bdea-01bd6bfd70c2\",\"type\":\"LinearAxis\"},{\"attributes\":{},\"id\":\"a97d73a4-f2fb-45d0-980a-a80bdbb2dccf\",\"type\":\"LinearScale\"},{\"attributes\":{},\"id\":\"b5e3cbe7-6cdf-496b-b771-ea9969c83a12\",\"type\":\"BasicTicker\"},{\"attributes\":{\"formatter\":{\"id\":\"cc35c370-664a-4551-9272-78532cd3f055\",\"type\":\"BasicTickFormatter\"},\"plot\":{\"id\":\"ec2b6eac-b448-45ac-b3a1-86ce7d000354\",\"subtype\":\"Figure\",\"type\":\"Plot\"},\"ticker\":{\"id\":\"c45e04e0-e205-4163-bca2-439f6654f7cd\",\"type\":\"BasicTicker\"}},\"id\":\"cfe3e78c-0e3a-4d72-97f1-12bc63e08e9a\",\"type\":\"LinearAxis\"},{\"attributes\":{},\"id\":\"25216c56-2d6a-4ad0-b114-158e6bb45ed9\",\"type\":\"UnionRenderers\"},{\"attributes\":{\"fill_alpha\":{\"value\":0.4},\"fill_color\":{\"value\":\"black\"},\"size\":{\"units\":\"screen\",\"value\":6},\"x\":{\"field\":\"x\"},\"y\":{\"field\":\"y\"}},\"id\":\"ebdb7a71-9c13-4875-b58c-83e2eabab63d\",\"type\":\"Circle\"},{\"attributes\":{},\"id\":\"c45e04e0-e205-4163-bca2-439f6654f7cd\",\"type\":\"BasicTicker\"},{\"attributes\":{},\"id\":\"22237273-30fc-4a67-8f7f-2dcefaf60ace\",\"type\":\"UnionRenderers\"},{\"attributes\":{\"formatter\":{\"id\":\"60b28dce-d8ac-43b2-a0d9-1d553c9a10fa\",\"type\":\"BasicTickFormatter\"},\"plot\":{\"id\":\"ceaa9dc9-bd92-421e-96a3-d381831cc98a\",\"subtype\":\"Figure\",\"type\":\"Plot\"},\"ticker\":{\"id\":\"12f3fe79-371f-4c4c-9c3f-dc83a94f70ed\",\"type\":\"BasicTicker\"}},\"id\":\"38945b80-8d7d-4d11-ab73-afec9fecc038\",\"type\":\"LinearAxis\"},{\"attributes\":{\"dimension\":1,\"plot\":{\"id\":\"ec2b6eac-b448-45ac-b3a1-86ce7d000354\",\"subtype\":\"Figure\",\"type\":\"Plot\"},\"ticker\":{\"id\":\"c45e04e0-e205-4163-bca2-439f6654f7cd\",\"type\":\"BasicTicker\"}},\"id\":\"1ad03dec-e9ec-4791-80e7-bcdfc86fae54\",\"type\":\"Grid\"},{\"attributes\":{},\"id\":\"c9781d7f-10a3-4c70-932a-d61a72841044\",\"type\":\"BasicTickFormatter\"},{\"attributes\":{\"data_source\":{\"id\":\"f8bd1c77-4423-4d2f-a4f7-a4f3feeab923\",\"type\":\"ColumnDataSource\"},\"glyph\":{\"id\":\"e8e85b71-45de-46cf-87e1-379d4ad0a7ec\",\"type\":\"Circle\"},\"hover_glyph\":null,\"muted_glyph\":null,\"nonselection_glyph\":{\"id\":\"9b19b7fe-1311-4b6f-8233-aa144accb76c\",\"type\":\"Circle\"},\"selection_glyph\":null,\"view\":{\"id\":\"31ff6cac-042e-4169-8a77-2284e691a58a\",\"type\":\"CDSView\"}},\"id\":\"f4bd09e2-5b58-47b8-ad80-2d8cbfec34fa\",\"type\":\"GlyphRenderer\"},{\"attributes\":{},\"id\":\"12f3fe79-371f-4c4c-9c3f-dc83a94f70ed\",\"type\":\"BasicTicker\"},{\"attributes\":{},\"id\":\"d3de69fc-137d-48ce-9455-062320a43369\",\"type\":\"Selection\"},{\"attributes\":{\"plot\":{\"id\":\"ceaa9dc9-bd92-421e-96a3-d381831cc98a\",\"subtype\":\"Figure\",\"type\":\"Plot\"},\"ticker\":{\"id\":\"12f3fe79-371f-4c4c-9c3f-dc83a94f70ed\",\"type\":\"BasicTicker\"}},\"id\":\"836eb38f-e7ca-4d6c-96d6-ee0ad3f433f6\",\"type\":\"Grid\"},{\"attributes\":{\"fill_alpha\":{\"value\":0.4},\"fill_color\":{\"value\":\"red\"},\"line_color\":{\"value\":\"darkred\"},\"size\":{\"units\":\"screen\",\"value\":6},\"x\":{\"field\":\"x\"},\"y\":{\"field\":\"y\"}},\"id\":\"e8e85b71-45de-46cf-87e1-379d4ad0a7ec\",\"type\":\"Circle\"},{\"attributes\":{},\"id\":\"b18cc3db-72d9-487a-9022-f97d2df496c3\",\"type\":\"UnionRenderers\"},{\"attributes\":{\"formatter\":{\"id\":\"5e21abb0-2309-4dd6-a3b6-d61c482cf913\",\"type\":\"BasicTickFormatter\"},\"plot\":{\"id\":\"ceaa9dc9-bd92-421e-96a3-d381831cc98a\",\"subtype\":\"Figure\",\"type\":\"Plot\"},\"ticker\":{\"id\":\"40f33780-f70e-4775-8c53-96b1a8ec3440\",\"type\":\"BasicTicker\"}},\"id\":\"5c2bb5aa-8a67-4862-87cc-c81f1c09ddeb\",\"type\":\"LinearAxis\"},{\"attributes\":{},\"id\":\"b6919183-ef76-4d78-94a8-1cc09907844f\",\"type\":\"BasicTickFormatter\"},{\"attributes\":{\"callback\":null,\"data\":{\"x\":{\"__ndarray__\":\"AAAAAAAAIUAAAAAAAAAgQKuqqqqqqiFAAAAAAAAAIECrqqqqqqogQAAAAAAAACFAq6qqqqqqIECrqqqqqqogQFVVVVVVVSFAq6qqqqqqIUAAAAAAAAAhQA==\",\"dtype\":\"float64\",\"shape\":[11]},\"y\":{\"__ndarray__\":\"VVVVVVXVREAAAAAAAMBEQKuqqqqq6kRAAAAAAACgREAAAAAAAKBEQAAAAAAAgERAAAAAAACAREAAAAAAAGBEQFVVVVVVVURAVVVVVVU1RECrqqqqqgpEQA==\",\"dtype\":\"float64\",\"shape\":[11]}},\"selected\":{\"id\":\"ae909a33-72af-4cd9-bb1a-f9a289049d36\",\"type\":\"Selection\"},\"selection_policy\":{\"id\":\"25216c56-2d6a-4ad0-b114-158e6bb45ed9\",\"type\":\"UnionRenderers\"}},\"id\":\"ae22982b-b9fa-4be3-b7f0-732f66fa7fd3\",\"type\":\"ColumnDataSource\"},{\"attributes\":{},\"id\":\"40f33780-f70e-4775-8c53-96b1a8ec3440\",\"type\":\"BasicTicker\"},{\"attributes\":{\"fill_alpha\":{\"value\":0.4},\"fill_color\":{\"value\":\"blue\"},\"line_color\":{\"value\":\"darkblue\"},\"size\":{\"units\":\"screen\",\"value\":6},\"x\":{\"field\":\"x\"},\"y\":{\"field\":\"y\"}},\"id\":\"561521c7-cac0-45d5-8714-4d25b89a1f0f\",\"type\":\"Circle\"},{\"attributes\":{},\"id\":\"2869ed8a-6567-4556-ac92-4279156a54aa\",\"type\":\"Selection\"},{\"attributes\":{},\"id\":\"4635a735-28a9-4cb8-9baf-6b3c796629a5\",\"type\":\"PanTool\"},{\"attributes\":{\"dimension\":1,\"plot\":{\"id\":\"ceaa9dc9-bd92-421e-96a3-d381831cc98a\",\"subtype\":\"Figure\",\"type\":\"Plot\"},\"ticker\":{\"id\":\"40f33780-f70e-4775-8c53-96b1a8ec3440\",\"type\":\"BasicTicker\"}},\"id\":\"c493e0f6-bb5a-45df-b1aa-0fc452e68d05\",\"type\":\"Grid\"},{\"attributes\":{},\"id\":\"09ecc25a-c5af-4d94-84f9-5cf676b1623c\",\"type\":\"UnionRenderers\"},{\"attributes\":{\"data_source\":{\"id\":\"999653a7-6cfc-40b9-8e5b-2e453dc0f061\",\"type\":\"ColumnDataSource\"},\"glyph\":{\"id\":\"ebdb7a71-9c13-4875-b58c-83e2eabab63d\",\"type\":\"Circle\"},\"hover_glyph\":null,\"muted_glyph\":null,\"nonselection_glyph\":{\"id\":\"233bc240-44d5-42b0-b0e0-28012ae7d862\",\"type\":\"Circle\"},\"selection_glyph\":null,\"view\":{\"id\":\"b6128655-de8c-4f90-ae29-7133ec951293\",\"type\":\"CDSView\"}},\"id\":\"fe1d0cce-6565-4143-af59-ceb5873bbe47\",\"type\":\"GlyphRenderer\"},{\"attributes\":{},\"id\":\"ae909a33-72af-4cd9-bb1a-f9a289049d36\",\"type\":\"Selection\"},{\"attributes\":{},\"id\":\"656b142b-ce8c-466f-bab4-f817529ab825\",\"type\":\"WheelZoomTool\"},{\"attributes\":{\"callback\":null,\"data\":{\"x\":{\"__ndarray__\":\"AAAAAAAAIUAAAAAAAAAgQKuqqqqqqiFAAAAAAAAAIECrqqqqqqohQFVVVVVVVSBAq6qqqqqqIUCrqqqqqqogQFVVVVVVVSFAq6qqqqqqIUAAAAAAAAAhQA==\",\"dtype\":\"float64\",\"shape\":[11]},\"y\":{\"__ndarray__\":\"VVVVVVXVREAAAAAAAMBEQKuqqqqq6kRAAAAAAACgREAAAAAAAGBEQAAAAAAAgERAAAAAAACAREAAAAAAAGBEQFVVVVVVVURAVVVVVVU1RECrqqqqqgpEQA==\",\"dtype\":\"float64\",\"shape\":[11]}},\"selected\":{\"id\":\"231a0f1a-1a71-4db2-b0ad-dc00fb1296b0\",\"type\":\"Selection\"},\"selection_policy\":{\"id\":\"22237273-30fc-4a67-8f7f-2dcefaf60ace\",\"type\":\"UnionRenderers\"}},\"id\":\"999653a7-6cfc-40b9-8e5b-2e453dc0f061\",\"type\":\"ColumnDataSource\"},{\"attributes\":{},\"id\":\"9548b997-81ff-4aba-a8a7-b68c908aa518\",\"type\":\"UnionRenderers\"},{\"attributes\":{\"overlay\":{\"id\":\"d240c2d0-cf98-408d-b745-8cd2a17e2622\",\"type\":\"BoxAnnotation\"}},\"id\":\"7d8fd7b7-5b73-4ef7-8faf-08fd43d1fad7\",\"type\":\"BoxZoomTool\"},{\"attributes\":{\"children\":[{\"id\":\"5a429f7b-1c64-4de0-9415-7c2722401da8\",\"type\":\"PreText\"}],\"width\":750},\"id\":\"3494b771-392e-41d0-92b7-b063b700ec46\",\"type\":\"WidgetBox\"},{\"attributes\":{},\"id\":\"1b36a9a7-123a-4f72-b210-91f56d04ba88\",\"type\":\"SaveTool\"},{\"attributes\":{},\"id\":\"231e68b7-220a-4491-aef5-db4fbb4994cf\",\"type\":\"ResetTool\"},{\"attributes\":{},\"id\":\"b4832041-77b4-4825-8290-a674ccabb791\",\"type\":\"PanTool\"},{\"attributes\":{},\"id\":\"fffd4cbd-51c5-4371-a335-7d4d6d4540fd\",\"type\":\"HelpTool\"},{\"attributes\":{\"fill_alpha\":{\"value\":0.1},\"fill_color\":{\"value\":\"#1f77b4\"},\"line_alpha\":{\"value\":0.1},\"line_color\":{\"value\":\"#1f77b4\"},\"size\":{\"units\":\"screen\",\"value\":6},\"x\":{\"field\":\"x\"},\"y\":{\"field\":\"y\"}},\"id\":\"233bc240-44d5-42b0-b0e0-28012ae7d862\",\"type\":\"Circle\"},{\"attributes\":{},\"id\":\"1b1b0cf3-c2ed-49a2-aea3-86106aad4f25\",\"type\":\"WheelZoomTool\"},{\"attributes\":{\"bottom_units\":\"screen\",\"fill_alpha\":{\"value\":0.5},\"fill_color\":{\"value\":\"lightgrey\"},\"left_units\":\"screen\",\"level\":\"overlay\",\"line_alpha\":{\"value\":1.0},\"line_color\":{\"value\":\"black\"},\"line_dash\":[4,4],\"line_width\":{\"value\":2},\"plot\":null,\"render_mode\":\"css\",\"right_units\":\"screen\",\"top_units\":\"screen\"},\"id\":\"d240c2d0-cf98-408d-b745-8cd2a17e2622\",\"type\":\"BoxAnnotation\"},{\"attributes\":{\"overlay\":{\"id\":\"5aca2c68-f336-4933-b60d-f64e1be99b53\",\"type\":\"BoxAnnotation\"}},\"id\":\"26fa1d75-a039-4dac-9bb1-2d89c5b197dc\",\"type\":\"BoxZoomTool\"},{\"attributes\":{\"source\":{\"id\":\"ae22982b-b9fa-4be3-b7f0-732f66fa7fd3\",\"type\":\"ColumnDataSource\"}},\"id\":\"c1a365dc-ed55-4d1f-b8f4-ccee8dad4a9b\",\"type\":\"CDSView\"},{\"attributes\":{},\"id\":\"12473a0d-b503-4793-8d9f-6110b97717eb\",\"type\":\"SaveTool\"},{\"attributes\":{\"fill_alpha\":{\"value\":0.1},\"fill_color\":{\"value\":\"#1f77b4\"},\"line_alpha\":{\"value\":0.1},\"line_color\":{\"value\":\"#1f77b4\"},\"size\":{\"units\":\"screen\",\"value\":6},\"x\":{\"field\":\"x\"},\"y\":{\"field\":\"y\"}},\"id\":\"8ffc7b3a-6ac2-4003-98f9-e761d1bbaebd\",\"type\":\"Circle\"},{\"attributes\":{},\"id\":\"63523077-4c0f-43ed-adc0-ff2cb4b748cd\",\"type\":\"ResetTool\"},{\"attributes\":{\"data_source\":{\"id\":\"ae22982b-b9fa-4be3-b7f0-732f66fa7fd3\",\"type\":\"ColumnDataSource\"},\"glyph\":{\"id\":\"561521c7-cac0-45d5-8714-4d25b89a1f0f\",\"type\":\"Circle\"},\"hover_glyph\":null,\"muted_glyph\":null,\"nonselection_glyph\":{\"id\":\"8ffc7b3a-6ac2-4003-98f9-e761d1bbaebd\",\"type\":\"Circle\"},\"selection_glyph\":null,\"view\":{\"id\":\"c1a365dc-ed55-4d1f-b8f4-ccee8dad4a9b\",\"type\":\"CDSView\"}},\"id\":\"5f18224a-1bf8-44b6-9e77-e019b9c6b5bd\",\"type\":\"GlyphRenderer\"},{\"attributes\":{},\"id\":\"92e71f33-0b87-4e13-9243-35e49925eb26\",\"type\":\"HelpTool\"},{\"attributes\":{\"callback\":null,\"data\":{\"x0\":{\"__ndarray__\":\"AAAAAAAAIUAAAAAAAAAgQKuqqqqqqiFAAAAAAAAAIECrqqqqqqohQFVVVVVVVSBAq6qqqqqqIUCrqqqqqqogQFVVVVVVVSFAq6qqqqqqIUAAAAAAAAAhQA==\",\"dtype\":\"float64\",\"shape\":[11]},\"x1\":{\"__ndarray__\":\"AAAAAAAAIUAAAAAAAAAgQKuqqqqqqiFAAAAAAAAAIECrqqqqqqogQAAAAAAAACFAq6qqqqqqIECrqqqqqqogQFVVVVVVVSFAq6qqqqqqIUAAAAAAAAAhQA==\",\"dtype\":\"float64\",\"shape\":[11]},\"y0\":{\"__ndarray__\":\"VVVVVVXVREAAAAAAAMBEQKuqqqqq6kRAAAAAAACgREAAAAAAAGBEQAAAAAAAgERAAAAAAACAREAAAAAAAGBEQFVVVVVVVURAVVVVVVU1RECrqqqqqgpEQA==\",\"dtype\":\"float64\",\"shape\":[11]},\"y1\":{\"__ndarray__\":\"VVVVVVXVREAAAAAAAMBEQKuqqqqq6kRAAAAAAACgREAAAAAAAKBEQAAAAAAAgERAAAAAAACAREAAAAAAAGBEQFVVVVVVVURAVVVVVVU1RECrqqqqqgpEQA==\",\"dtype\":\"float64\",\"shape\":[11]}},\"selected\":{\"id\":\"7ab61540-912e-4757-8515-830861984437\",\"type\":\"Selection\"},\"selection_policy\":{\"id\":\"9548b997-81ff-4aba-a8a7-b68c908aa518\",\"type\":\"UnionRenderers\"}},\"id\":\"2bbd2d89-4d2e-47d3-8a33-028b5d4133ce\",\"type\":\"ColumnDataSource\"},{\"attributes\":{\"bottom_units\":\"screen\",\"fill_alpha\":{\"value\":0.5},\"fill_color\":{\"value\":\"lightgrey\"},\"left_units\":\"screen\",\"level\":\"overlay\",\"line_alpha\":{\"value\":1.0},\"line_color\":{\"value\":\"black\"},\"line_dash\":[4,4],\"line_width\":{\"value\":2},\"plot\":null,\"render_mode\":\"css\",\"right_units\":\"screen\",\"top_units\":\"screen\"},\"id\":\"5aca2c68-f336-4933-b60d-f64e1be99b53\",\"type\":\"BoxAnnotation\"},{\"attributes\":{\"callback\":null,\"data\":{\"x\":{\"__ndarray__\":\"AAAAAAAAIUAAAAAAAAAgQKuqqqqqqiFAAAAAAAAAIECrqqqqqqogQFVVVVVVVSFAq6qqqqqqIUAAAAAAAAAhQA==\",\"dtype\":\"float64\",\"shape\":[8]},\"y\":{\"__ndarray__\":\"VVVVVVXVREAAAAAAAMBEQKuqqqqq6kRAAAAAAACgREAAAAAAAGBEQFVVVVVVVURAVVVVVVU1RECrqqqqqgpEQA==\",\"dtype\":\"float64\",\"shape\":[8]}},\"selected\":{\"id\":\"13c37050-aab8-4725-82f4-7f2c68916776\",\"type\":\"Selection\"},\"selection_policy\":{\"id\":\"6424ad13-7333-4c42-af5c-100e15e1b295\",\"type\":\"UnionRenderers\"}},\"id\":\"d442cbc6-4099-46e0-a7e6-aa3e1954ec39\",\"type\":\"ColumnDataSource\"},{\"attributes\":{\"callback\":null,\"data\":{\"x\":{\"__ndarray__\":\"q6qqqqqqIUBVVVVVVVUgQKuqqqqqqiFA\",\"dtype\":\"float64\",\"shape\":[3]},\"y\":{\"__ndarray__\":\"AAAAAABgREAAAAAAAIBEQAAAAAAAgERA\",\"dtype\":\"float64\",\"shape\":[3]}},\"selected\":{\"id\":\"d3de69fc-137d-48ce-9455-062320a43369\",\"type\":\"Selection\"},\"selection_policy\":{\"id\":\"b18cc3db-72d9-487a-9022-f97d2df496c3\",\"type\":\"UnionRenderers\"}},\"id\":\"2da71b7b-a6d2-44ee-87b3-671062575bf9\",\"type\":\"ColumnDataSource\"},{\"attributes\":{},\"id\":\"cc35c370-664a-4551-9272-78532cd3f055\",\"type\":\"BasicTickFormatter\"},{\"attributes\":{\"source\":{\"id\":\"999653a7-6cfc-40b9-8e5b-2e453dc0f061\",\"type\":\"ColumnDataSource\"}},\"id\":\"b6128655-de8c-4f90-ae29-7133ec951293\",\"type\":\"CDSView\"},{\"attributes\":{\"fill_color\":{\"value\":\"grey\"},\"line_color\":{\"value\":\"grey\"},\"size\":{\"units\":\"screen\",\"value\":6.2},\"x\":{\"field\":\"x\"},\"y\":{\"field\":\"y\"}},\"id\":\"fae2c0d3-685a-47fd-8e19-585aed37000b\",\"type\":\"Circle\"},{\"attributes\":{\"below\":[{\"id\":\"731ea198-50a1-4804-ba37-589b43b72e1e\",\"type\":\"LinearAxis\"}],\"left\":[{\"id\":\"112a28c2-7d62-430f-9178-ea764e8274ff\",\"type\":\"LinearAxis\"}],\"plot_height\":450,\"plot_width\":350,\"renderers\":[{\"id\":\"731ea198-50a1-4804-ba37-589b43b72e1e\",\"type\":\"LinearAxis\"},{\"id\":\"1fb5990b-14ad-4075-82e9-e74f27c538d8\",\"type\":\"Grid\"},{\"id\":\"112a28c2-7d62-430f-9178-ea764e8274ff\",\"type\":\"LinearAxis\"},{\"id\":\"23e0706e-4f57-4cea-9edf-428f629b3956\",\"type\":\"Grid\"},{\"id\":\"50ec0a0f-2599-4620-9caa-eddefdd2f07a\",\"type\":\"BoxAnnotation\"},{\"id\":\"164a6116-d83a-458a-a651-c8417f057b32\",\"type\":\"GlyphRenderer\"},{\"id\":\"fd818dab-4dc4-4eb3-9439-ffedac74d372\",\"type\":\"GlyphRenderer\"}],\"title\":{\"id\":\"d1d35e57-3a88-41a4-9dab-61c1f17ddcbe\",\"type\":\"Title\"},\"toolbar\":{\"id\":\"08e92804-0415-4fa5-ab37-fc2d7e11da03\",\"type\":\"Toolbar\"},\"toolbar_location\":null,\"x_range\":{\"id\":\"ea9c0c30-d89d-48b8-88d6-b3dcd925f07a\",\"type\":\"Range1d\"},\"x_scale\":{\"id\":\"723dbbc7-1e5a-4405-a3d1-1b27a7594cc0\",\"type\":\"LinearScale\"},\"y_range\":{\"id\":\"61972252-94ac-4842-8dc8-9471903e54cd\",\"type\":\"Range1d\"},\"y_scale\":{\"id\":\"fd9aacdf-53aa-405d-8b82-2f2705662830\",\"type\":\"LinearScale\"}},\"id\":\"d6d0f8cd-7fe4-4bbe-83c4-e018b33b84ab\",\"subtype\":\"Figure\",\"type\":\"Plot\"},{\"attributes\":{\"fill_alpha\":{\"value\":0.1},\"fill_color\":{\"value\":\"#1f77b4\"},\"line_alpha\":{\"value\":0.1},\"line_color\":{\"value\":\"#1f77b4\"},\"size\":{\"units\":\"screen\",\"value\":6.2},\"x\":{\"field\":\"x\"},\"y\":{\"field\":\"y\"}},\"id\":\"ef5a46e6-12c0-4c91-8b33-1d4e05fe4a39\",\"type\":\"Circle\"},{\"attributes\":{\"data_source\":{\"id\":\"2da71b7b-a6d2-44ee-87b3-671062575bf9\",\"type\":\"ColumnDataSource\"},\"glyph\":{\"id\":\"902b178c-dd14-4690-ad5c-41d74fd9d2a0\",\"type\":\"Annulus\"},\"hover_glyph\":null,\"muted_glyph\":null,\"nonselection_glyph\":{\"id\":\"3a5e22d9-e15f-41a7-ac87-2a5e836d40c8\",\"type\":\"Annulus\"},\"selection_glyph\":null,\"view\":{\"id\":\"b4a0c3b4-1682-4487-849e-93f79b2bce7d\",\"type\":\"CDSView\"}},\"id\":\"87837ba3-dd88-435a-8b65-29392cc85d58\",\"type\":\"GlyphRenderer\"},{\"attributes\":{\"data_source\":{\"id\":\"d442cbc6-4099-46e0-a7e6-aa3e1954ec39\",\"type\":\"ColumnDataSource\"},\"glyph\":{\"id\":\"fae2c0d3-685a-47fd-8e19-585aed37000b\",\"type\":\"Circle\"},\"hover_glyph\":null,\"muted_glyph\":null,\"nonselection_glyph\":{\"id\":\"ef5a46e6-12c0-4c91-8b33-1d4e05fe4a39\",\"type\":\"Circle\"},\"selection_glyph\":null,\"view\":{\"id\":\"b6f2d990-bf3a-44f4-9861-407e415bb087\",\"type\":\"CDSView\"}},\"id\":\"5a502fe9-1c45-4024-ae7e-c6c0d8ffceeb\",\"type\":\"GlyphRenderer\"},{\"attributes\":{\"fill_alpha\":{\"value\":0.7},\"fill_color\":{\"value\":\"green\"},\"inner_radius\":{\"units\":\"data\",\"value\":0.04},\"line_alpha\":{\"value\":0},\"outer_radius\":{\"units\":\"data\",\"value\":0.06},\"x\":{\"field\":\"x\"},\"y\":{\"field\":\"y\"}},\"id\":\"902b178c-dd14-4690-ad5c-41d74fd9d2a0\",\"type\":\"Annulus\"},{\"attributes\":{\"source\":{\"id\":\"d442cbc6-4099-46e0-a7e6-aa3e1954ec39\",\"type\":\"ColumnDataSource\"}},\"id\":\"b6f2d990-bf3a-44f4-9861-407e415bb087\",\"type\":\"CDSView\"},{\"attributes\":{},\"id\":\"60b28dce-d8ac-43b2-a0d9-1d553c9a10fa\",\"type\":\"BasicTickFormatter\"},{\"attributes\":{\"source\":{\"id\":\"2da71b7b-a6d2-44ee-87b3-671062575bf9\",\"type\":\"ColumnDataSource\"}},\"id\":\"b4a0c3b4-1682-4487-849e-93f79b2bce7d\",\"type\":\"CDSView\"},{\"attributes\":{\"line_color\":{\"value\":\"grey\"},\"x0\":{\"field\":\"x0\"},\"x1\":{\"field\":\"x1\"},\"y0\":{\"field\":\"y0\"},\"y1\":{\"field\":\"y1\"}},\"id\":\"78598b51-e3cf-4fa8-a469-84e1b6e28061\",\"type\":\"Segment\"},{\"attributes\":{\"fill_alpha\":{\"value\":0.1},\"fill_color\":{\"value\":\"#1f77b4\"},\"line_alpha\":{\"value\":0.1},\"line_color\":{\"value\":\"#1f77b4\"},\"size\":{\"units\":\"screen\",\"value\":6},\"x\":{\"field\":\"x\"},\"y\":{\"field\":\"y\"}},\"id\":\"6d317fbe-63b9-4bb5-9ad7-793fbf76b9c0\",\"type\":\"Circle\"},{\"attributes\":{\"line_alpha\":{\"value\":0.1},\"line_color\":{\"value\":\"#1f77b4\"},\"x0\":{\"field\":\"x0\"},\"x1\":{\"field\":\"x1\"},\"y0\":{\"field\":\"y0\"},\"y1\":{\"field\":\"y1\"}},\"id\":\"8a74ca55-eeec-43b2-b8e8-5dc173ce2c7d\",\"type\":\"Segment\"},{\"attributes\":{\"plot\":null,\"text\":\"Vettones \\u03a9\"},\"id\":\"d1d35e57-3a88-41a4-9dab-61c1f17ddcbe\",\"type\":\"Title\"},{\"attributes\":{\"data_source\":{\"id\":\"2bbd2d89-4d2e-47d3-8a33-028b5d4133ce\",\"type\":\"ColumnDataSource\"},\"glyph\":{\"id\":\"78598b51-e3cf-4fa8-a469-84e1b6e28061\",\"type\":\"Segment\"},\"hover_glyph\":null,\"muted_glyph\":null,\"nonselection_glyph\":{\"id\":\"8a74ca55-eeec-43b2-b8e8-5dc173ce2c7d\",\"type\":\"Segment\"},\"selection_glyph\":null,\"view\":{\"id\":\"a94b9547-0ce0-4da7-9e2f-fa10a83600aa\",\"type\":\"CDSView\"}},\"id\":\"83f30a1e-d6ed-4374-a67e-02bd85adaaeb\",\"type\":\"GlyphRenderer\"},{\"attributes\":{\"callback\":null,\"end\":9.5,\"start\":7.5},\"id\":\"ea9c0c30-d89d-48b8-88d6-b3dcd925f07a\",\"type\":\"Range1d\"},{\"attributes\":{\"source\":{\"id\":\"2bbd2d89-4d2e-47d3-8a33-028b5d4133ce\",\"type\":\"ColumnDataSource\"}},\"id\":\"a94b9547-0ce0-4da7-9e2f-fa10a83600aa\",\"type\":\"CDSView\"},{\"attributes\":{\"active_drag\":\"auto\",\"active_inspect\":\"auto\",\"active_multi\":null,\"active_scroll\":\"auto\",\"active_tap\":\"auto\",\"tools\":[{\"id\":\"0c4fd64e-1f36-4952-a7aa-43399887c803\",\"type\":\"PanTool\"},{\"id\":\"e1c18ba1-bd4f-4b4e-8cbf-b7fc94b48178\",\"type\":\"WheelZoomTool\"},{\"id\":\"ad6b49b7-4b5d-4d79-a385-1aa9276ad8c3\",\"type\":\"BoxZoomTool\"},{\"id\":\"38da12c7-4be7-488c-af70-8875ff56d604\",\"type\":\"SaveTool\"},{\"id\":\"5dfdbc64-cce7-47d4-a2e6-7b6a83b0c47f\",\"type\":\"ResetTool\"},{\"id\":\"a6f12148-ee70-47b5-af75-c22693205256\",\"type\":\"HelpTool\"}]},\"id\":\"08e92804-0415-4fa5-ab37-fc2d7e11da03\",\"type\":\"Toolbar\"},{\"attributes\":{\"source\":{\"id\":\"285d02f6-8d33-4a46-9e6d-8df1609d03a7\",\"type\":\"ColumnDataSource\"}},\"id\":\"beefa2ee-46cf-4ec9-a80e-c77ad71adcec\",\"type\":\"CDSView\"},{\"attributes\":{},\"id\":\"723dbbc7-1e5a-4405-a3d1-1b27a7594cc0\",\"type\":\"LinearScale\"},{\"attributes\":{\"callback\":null,\"end\":42,\"start\":40},\"id\":\"61972252-94ac-4842-8dc8-9471903e54cd\",\"type\":\"Range1d\"},{\"attributes\":{},\"id\":\"7ab61540-912e-4757-8515-830861984437\",\"type\":\"Selection\"},{\"attributes\":{\"children\":[{\"id\":\"f647b6d9-4d28-44da-b702-f9befe043fb8\",\"type\":\"Row\"},{\"id\":\"62d3a6ad-bc40-42d8-8d80-6fc48f7f5a77\",\"type\":\"Row\"}]},\"id\":\"dd2aeaf7-ec87-47da-8239-e2c32bf92242\",\"type\":\"Column\"},{\"attributes\":{},\"id\":\"fd9aacdf-53aa-405d-8b82-2f2705662830\",\"type\":\"LinearScale\"},{\"attributes\":{\"plot\":{\"id\":\"d6d0f8cd-7fe4-4bbe-83c4-e018b33b84ab\",\"subtype\":\"Figure\",\"type\":\"Plot\"},\"ticker\":{\"id\":\"31412211-da34-4c5b-8627-98a9e818ea35\",\"type\":\"BasicTicker\"}},\"id\":\"1fb5990b-14ad-4075-82e9-e74f27c538d8\",\"type\":\"Grid\"},{\"attributes\":{},\"id\":\"4adf5c59-3260-4d9f-be44-4926669fe43b\",\"type\":\"BasicTickFormatter\"},{\"attributes\":{\"formatter\":{\"id\":\"b6919183-ef76-4d78-94a8-1cc09907844f\",\"type\":\"BasicTickFormatter\"},\"plot\":{\"id\":\"d6d0f8cd-7fe4-4bbe-83c4-e018b33b84ab\",\"subtype\":\"Figure\",\"type\":\"Plot\"},\"ticker\":{\"id\":\"31412211-da34-4c5b-8627-98a9e818ea35\",\"type\":\"BasicTicker\"}},\"id\":\"731ea198-50a1-4804-ba37-589b43b72e1e\",\"type\":\"LinearAxis\"},{\"attributes\":{},\"id\":\"31412211-da34-4c5b-8627-98a9e818ea35\",\"type\":\"BasicTicker\"},{\"attributes\":{},\"id\":\"d0284042-0db3-4330-81b6-6844a8d59c43\",\"type\":\"Selection\"},{\"attributes\":{\"children\":[{\"id\":\"ec2b6eac-b448-45ac-b3a1-86ce7d000354\",\"subtype\":\"Figure\",\"type\":\"Plot\"},{\"id\":\"3494b771-392e-41d0-92b7-b063b700ec46\",\"type\":\"WidgetBox\"}]},\"id\":\"62d3a6ad-bc40-42d8-8d80-6fc48f7f5a77\",\"type\":\"Row\"},{\"attributes\":{\"formatter\":{\"id\":\"c9781d7f-10a3-4c70-932a-d61a72841044\",\"type\":\"BasicTickFormatter\"},\"plot\":{\"id\":\"d6d0f8cd-7fe4-4bbe-83c4-e018b33b84ab\",\"subtype\":\"Figure\",\"type\":\"Plot\"},\"ticker\":{\"id\":\"84ea104c-49e9-4a70-8923-47405ec54ca1\",\"type\":\"BasicTicker\"}},\"id\":\"112a28c2-7d62-430f-9178-ea764e8274ff\",\"type\":\"LinearAxis\"},{\"attributes\":{},\"id\":\"84ea104c-49e9-4a70-8923-47405ec54ca1\",\"type\":\"BasicTicker\"},{\"attributes\":{\"dimension\":1,\"plot\":{\"id\":\"d6d0f8cd-7fe4-4bbe-83c4-e018b33b84ab\",\"subtype\":\"Figure\",\"type\":\"Plot\"},\"ticker\":{\"id\":\"84ea104c-49e9-4a70-8923-47405ec54ca1\",\"type\":\"BasicTicker\"}},\"id\":\"23e0706e-4f57-4cea-9edf-428f629b3956\",\"type\":\"Grid\"},{\"attributes\":{\"text\":\"            toponym longitude_Omega longitude_Xi latitude_Omega latitude_Xi\\n0   \\u039b\\u03b1\\u03ba\\u03ba\\u03b9\\u03b1\\u03bf\\u03c0\\u03c0\\u03b9\\u03b4\\u03b1\\u03bd\\u03b1\\u0301                                                        \\n1     \\u039a\\u03bf\\u03c4\\u03c4\\u03b1\\u03b3\\u03bf\\u03b2\\u03c1\\u03b9\\u0301\\u03b3\\u03b1                                                        \\n2       \\u03a3\\u03b1\\u03bb\\u03bc\\u03b1\\u03bd\\u03c4\\u03b9\\u0301\\u03ba\\u03b1                                                        \\n3   \\u0391\\u03c5\\u0313\\u03b3\\u03bf\\u03c5\\u03c3\\u03c4\\u03bf\\u03b2\\u03c1\\u03b9\\u0301\\u03b3\\u03b1                                                        \\n4          \\u039f\\u0313\\u0301\\u03ba\\u03b5\\u03bb\\u03bf\\u03bd         8.33333      8.83333          41.25       40.75\\n5           \\u039a\\u03b1\\u03c0\\u03b1\\u0301\\u03c1\\u03b1             8.5      8.16667             41          41\\n6         \\u039c\\u03b1\\u03bd\\u03bb\\u03b9\\u03b1\\u0301\\u03bd\\u03b1         8.33333      8.83333             41          41\\n7     \\u039b\\u03b1\\u03ba\\u03bf\\u03bd\\u03b9\\u03bc\\u03bf\\u03c5\\u03c1\\u03b3\\u03b9\\u0301                                                        \\n8         \\u0394\\u03b5\\u03bf\\u03b2\\u03c1\\u03b9\\u0301\\u03b3\\u03b1                                                        \\n9           \\u039f\\u0313\\u03b2\\u03b9\\u0301\\u03bb\\u03b1                                                        \\n10            \\u039b\\u03b1\\u0301\\u03bc\\u03b1                                                        \",\"width\":750},\"id\":\"5a429f7b-1c64-4de0-9415-7c2722401da8\",\"type\":\"PreText\"},{\"attributes\":{\"fill_alpha\":{\"value\":0.4},\"fill_color\":{\"value\":\"black\"},\"size\":{\"units\":\"screen\",\"value\":6},\"x\":{\"field\":\"x\"},\"y\":{\"field\":\"y\"}},\"id\":\"575aa625-a497-4a4b-b1fd-7f8181553f74\",\"type\":\"Circle\"},{\"attributes\":{},\"id\":\"cd8c7b80-df08-437e-8e02-c2ada025f349\",\"type\":\"UnionRenderers\"},{\"attributes\":{\"callback\":null,\"data\":{\"x\":{\"__ndarray__\":\"AAAAAAAAIUAAAAAAAAAgQKuqqqqqqiFAAAAAAAAAIECrqqqqqqogQAAAAAAAACFAq6qqqqqqIECrqqqqqqogQFVVVVVVVSFAq6qqqqqqIUAAAAAAAAAhQA==\",\"dtype\":\"float64\",\"shape\":[11]},\"y\":{\"__ndarray__\":\"VVVVVVXVREAAAAAAAMBEQKuqqqqq6kRAAAAAAACgREAAAAAAAKBEQAAAAAAAgERAAAAAAACAREAAAAAAAGBEQFVVVVVVVURAVVVVVVU1RECrqqqqqgpEQA==\",\"dtype\":\"float64\",\"shape\":[11]}},\"selected\":{\"id\":\"2869ed8a-6567-4556-ac92-4279156a54aa\",\"type\":\"Selection\"},\"selection_policy\":{\"id\":\"09ecc25a-c5af-4d94-84f9-5cf676b1623c\",\"type\":\"UnionRenderers\"}},\"id\":\"285d02f6-8d33-4a46-9e6d-8df1609d03a7\",\"type\":\"ColumnDataSource\"},{\"attributes\":{\"data_source\":{\"id\":\"285d02f6-8d33-4a46-9e6d-8df1609d03a7\",\"type\":\"ColumnDataSource\"},\"glyph\":{\"id\":\"575aa625-a497-4a4b-b1fd-7f8181553f74\",\"type\":\"Circle\"},\"hover_glyph\":null,\"muted_glyph\":null,\"nonselection_glyph\":{\"id\":\"6d317fbe-63b9-4bb5-9ad7-793fbf76b9c0\",\"type\":\"Circle\"},\"selection_glyph\":null,\"view\":{\"id\":\"beefa2ee-46cf-4ec9-a80e-c77ad71adcec\",\"type\":\"CDSView\"}},\"id\":\"164a6116-d83a-458a-a651-c8417f057b32\",\"type\":\"GlyphRenderer\"},{\"attributes\":{\"children\":[{\"id\":\"ceaa9dc9-bd92-421e-96a3-d381831cc98a\",\"subtype\":\"Figure\",\"type\":\"Plot\"},{\"id\":\"d6d0f8cd-7fe4-4bbe-83c4-e018b33b84ab\",\"subtype\":\"Figure\",\"type\":\"Plot\"}]},\"id\":\"f647b6d9-4d28-44da-b702-f9befe043fb8\",\"type\":\"Row\"},{\"attributes\":{},\"id\":\"0c4fd64e-1f36-4952-a7aa-43399887c803\",\"type\":\"PanTool\"},{\"attributes\":{},\"id\":\"38da12c7-4be7-488c-af70-8875ff56d604\",\"type\":\"SaveTool\"},{\"attributes\":{},\"id\":\"e1c18ba1-bd4f-4b4e-8cbf-b7fc94b48178\",\"type\":\"WheelZoomTool\"},{\"attributes\":{\"overlay\":{\"id\":\"50ec0a0f-2599-4620-9caa-eddefdd2f07a\",\"type\":\"BoxAnnotation\"}},\"id\":\"ad6b49b7-4b5d-4d79-a385-1aa9276ad8c3\",\"type\":\"BoxZoomTool\"},{\"attributes\":{},\"id\":\"6069e10c-c5a6-4aa0-95e9-5be46efb8949\",\"type\":\"Selection\"},{\"attributes\":{\"callback\":null,\"end\":42,\"start\":40},\"id\":\"c7c695d0-f346-4ec6-9093-baa9e5ff3944\",\"type\":\"Range1d\"}],\"root_ids\":[\"2d4fb317-5faa-4072-a883-6ef3bd2baa37\"]},\"title\":\"Bokeh Application\",\"version\":\"0.13.0\"}};\n",
       "  var render_items = [{\"docid\":\"9720cd85-3ed3-4305-95c6-38c2906ed8d6\",\"roots\":{\"2d4fb317-5faa-4072-a883-6ef3bd2baa37\":\"315ed4f5-70a2-484f-bf7c-21d938f2cee0\"}}];\n",
       "  root.Bokeh.embed.embed_items_notebook(docs_json, render_items);\n",
       "\n",
       "  }\n",
       "  if (root.Bokeh !== undefined) {\n",
       "    embed_document(root);\n",
       "  } else {\n",
       "    var attempts = 0;\n",
       "    var timer = setInterval(function(root) {\n",
       "      if (root.Bokeh !== undefined) {\n",
       "        embed_document(root);\n",
       "        clearInterval(timer);\n",
       "      }\n",
       "      attempts++;\n",
       "      if (attempts > 100) {\n",
       "        console.log(\"Bokeh: ERROR: Unable to run BokehJS code because BokehJS library is missing\")\n",
       "        clearInterval(timer);\n",
       "      }\n",
       "    }, 10, root)\n",
       "  }\n",
       "})(window);"
      ],
      "application/vnd.bokehjs_exec.v0+json": ""
     },
     "metadata": {
      "application/vnd.bokehjs_exec.v0+json": {
       "id": "2d4fb317-5faa-4072-a883-6ef3bd2baa37"
      }
     },
     "output_type": "display_data"
    }
   ],
   "source": [
    "# Tooltip\n",
    "vettones_var = dfVett.groupby('diff').get_group('var')\n",
    "vettones_id = dfVett.groupby('diff').get_group('id')\n",
    "\n",
    "# Xi \n",
    "n = figure(title= 'Vettones Ξ', width=350, height=450, x_range=(7.5, 9.5), y_range=(40, 42))\n",
    "n.circle(np.array(dfVett[\"longitude_Xi\"]),np.array(dfVett[\"latitude_Xi\"]),fill_color='black',size=6,fill_alpha=0.4,line_color='black')\n",
    "n.annulus(vettones_var[\"longitude_Xi\"],vettones_var[\"latitude_Xi\"],fill_color='green',inner_radius=0.04, outer_radius=0.06,fill_alpha=0.7,line_color='black',line_alpha=0)\n",
    "\n",
    "# Omega \n",
    "o = figure(title= 'Vettones Ω', width=350, height=450, x_range=(7.5, 9.5), y_range=(40, 42))#,tools=toolsO)\n",
    "o.circle(np.array(dfVett[\"longitude_Omega\"]),np.array(dfVett[\"latitude_Omega\"]),fill_color='black',size=6,fill_alpha=0.4,line_color='black')\n",
    "o.annulus(vettones_var[\"longitude_Omega\"],vettones_var[\"latitude_Omega\"],fill_color='green',inner_radius=0.04, outer_radius=0.06,fill_alpha=0.7,line_color='black',line_alpha=0)\n",
    "\n",
    "# Comparison\n",
    "r = figure(title= 'Comparison', width=350, height=450, x_range=(7.5, 9.5), y_range=(40, 42))\n",
    "r.circle(np.array(dfVett[\"longitude_Xi\"]),np.array(dfVett[\"latitude_Xi\"]),fill_color='red',size=6,fill_alpha=0.4,line_color='darkred')\n",
    "r.circle(np.array(dfVett[\"longitude_Omega\"]),np.array(dfVett[\"latitude_Omega\"]),fill_color='blue',size=6,fill_alpha=0.4,line_color='darkblue')\n",
    "r.circle(np.array(vettones_id[\"longitude_Omega\"]),np.array(vettones_id[\"latitude_Omega\"]),fill_color='grey',size=6.2,fill_alpha=1,line_color='grey')\n",
    "r.segment(x0=dfVett[\"longitude_Xi\"], y0=dfVett[\"latitude_Xi\"], x1=dfVett[\"longitude_Omega\"],\n",
    "          y1=dfVett[\"latitude_Omega\"], color=\"grey\", line_width=1)\n",
    "\n",
    "# Table\n",
    "v2=dfVett.copy()\n",
    "v2 = v2[['toponym']]\n",
    "b = vettones_var\n",
    "b2 = pd.merge(left=v2, right=b,how='outer')\n",
    "b2 = b2.replace(to_replace = np.nan, value = \"\")\n",
    "table = PreText(text=\"\", width=750)\n",
    "table.text = str(b2[['toponym','longitude_Omega','longitude_Xi','latitude_Omega','latitude_Xi']])\n",
    "\n",
    "\n",
    "grid = gridplot([[n, o], [r, table]])\n",
    "show(grid);"
   ]
  },
  {
   "cell_type": "markdown",
   "metadata": {
    "pycharm": {}
   },
   "source": [
    "#### Result"
   ]
  },
  {
   "cell_type": "markdown",
   "metadata": {
    "pycharm": {}
   },
   "source": [
    "Among the 11 localities of the Vettones, 3 have different coordinates in the two recensions: \n",
    "- Ocelum (longitude) \n",
    "- Capara (longitude)\n",
    "- Manliana (longitude and latitude)"
   ]
  },
  {
   "cell_type": "markdown",
   "metadata": {
    "pycharm": {}
   },
   "source": [
    "## Spatial ordering"
   ]
  },
  {
   "cell_type": "markdown",
   "metadata": {
    "pycharm": {}
   },
   "source": [
    "Localities are linked on the map according to their ranking in the catalogue's list."
   ]
  },
  {
   "cell_type": "code",
   "execution_count": 10,
   "metadata": {
    "pycharm": {}
   },
   "outputs": [
    {
     "data": {
      "text/html": [
       "\n",
       "\n",
       "\n",
       "\n",
       "\n",
       "\n",
       "  <div class=\"bk-root\" id=\"abb7ff7d-7669-4223-8c30-c0cbb80f6484\"></div>\n"
      ]
     },
     "metadata": {},
     "output_type": "display_data"
    },
    {
     "data": {
      "application/javascript": [
       "(function(root) {\n",
       "  function embed_document(root) {\n",
       "    \n",
       "  var docs_json = {\"c2b2f663-12f5-467d-8f6d-88cba85b223f\":{\"roots\":{\"references\":[{\"attributes\":{\"bottom_units\":\"screen\",\"fill_alpha\":{\"value\":0.5},\"fill_color\":{\"value\":\"lightgrey\"},\"left_units\":\"screen\",\"level\":\"overlay\",\"line_alpha\":{\"value\":1.0},\"line_color\":{\"value\":\"black\"},\"line_dash\":[4,4],\"line_width\":{\"value\":2},\"plot\":null,\"render_mode\":\"css\",\"right_units\":\"screen\",\"top_units\":\"screen\"},\"id\":\"1a47f432-3049-4ee4-81c2-2c2d459cb16a\",\"type\":\"BoxAnnotation\"},{\"attributes\":{\"source\":{\"id\":\"2aeb327e-86f0-42d8-beb4-6dc277cba951\",\"type\":\"ColumnDataSource\"}},\"id\":\"c5c43f63-c2e6-4e0b-81cf-c4b74b79f3d5\",\"type\":\"CDSView\"},{\"attributes\":{\"data_source\":{\"id\":\"9d154f00-bb34-4810-9b0b-9cdeffe6330a\",\"type\":\"ColumnDataSource\"},\"glyph\":{\"id\":\"7faa7a45-eb3b-477b-a0fe-a63ce6de1612\",\"type\":\"Annulus\"},\"hover_glyph\":null,\"muted_glyph\":null,\"nonselection_glyph\":{\"id\":\"660e047a-740e-43ba-9d9b-8caf4b6119b4\",\"type\":\"Annulus\"},\"selection_glyph\":null,\"view\":{\"id\":\"ca4ae15f-15e2-46f9-9bf7-b99a24c7f33f\",\"type\":\"CDSView\"}},\"id\":\"496c1185-d36d-46a9-9fdb-bb02603401c3\",\"type\":\"GlyphRenderer\"},{\"attributes\":{\"data_source\":{\"id\":\"2aeb327e-86f0-42d8-beb4-6dc277cba951\",\"type\":\"ColumnDataSource\"},\"glyph\":{\"id\":\"3c9e2ef3-7dbd-46d6-a994-dc8d7314eba8\",\"type\":\"Circle\"},\"hover_glyph\":null,\"muted_glyph\":null,\"nonselection_glyph\":{\"id\":\"d0866fad-555a-4477-b610-412215fbd4a8\",\"type\":\"Circle\"},\"selection_glyph\":null,\"view\":{\"id\":\"c5c43f63-c2e6-4e0b-81cf-c4b74b79f3d5\",\"type\":\"CDSView\"}},\"id\":\"0bd8d5ad-bc31-445a-b492-0882a417df42\",\"type\":\"GlyphRenderer\"},{\"attributes\":{\"children\":[{\"id\":\"25e0978e-8509-422d-b4c9-773eb9431686\",\"subtype\":\"Figure\",\"type\":\"Plot\"},{\"id\":\"35fabf39-ce71-4738-9069-ad113f9caaa7\",\"subtype\":\"Figure\",\"type\":\"Plot\"}]},\"id\":\"9854bb42-057d-45e6-bb9e-94272cea5930\",\"type\":\"Row\"},{\"attributes\":{\"fill_alpha\":{\"value\":0.1},\"fill_color\":{\"value\":\"#1f77b4\"},\"inner_radius\":{\"units\":\"data\",\"value\":0.04},\"line_alpha\":{\"value\":0.1},\"line_color\":{\"value\":\"#1f77b4\"},\"outer_radius\":{\"units\":\"data\",\"value\":0.06},\"x\":{\"field\":\"x\"},\"y\":{\"field\":\"y\"}},\"id\":\"660e047a-740e-43ba-9d9b-8caf4b6119b4\",\"type\":\"Annulus\"},{\"attributes\":{\"callback\":null,\"data\":{\"x\":{\"__ndarray__\":\"AAAAAAAAIUAAAAAAAAAgQKuqqqqqqiFAAAAAAAAAIECrqqqqqqohQFVVVVVVVSBAq6qqqqqqIUCrqqqqqqogQFVVVVVVVSFAq6qqqqqqIUAAAAAAAAAhQA==\",\"dtype\":\"float64\",\"shape\":[11]},\"y\":{\"__ndarray__\":\"VVVVVVXVREAAAAAAAMBEQKuqqqqq6kRAAAAAAACgREAAAAAAAGBEQAAAAAAAgERAAAAAAACAREAAAAAAAGBEQFVVVVVVVURAVVVVVVU1RECrqqqqqgpEQA==\",\"dtype\":\"float64\",\"shape\":[11]}},\"selected\":{\"id\":\"d9b33653-0b78-4683-966e-27083d843c11\",\"type\":\"Selection\"},\"selection_policy\":{\"id\":\"854cb257-20bd-4fcc-84b9-eb4d53d6a8e2\",\"type\":\"UnionRenderers\"}},\"id\":\"cddc0f3f-5877-4dab-a323-ec2e52b619d5\",\"type\":\"ColumnDataSource\"},{\"attributes\":{\"line_alpha\":0.1,\"line_color\":\"#1f77b4\",\"x\":{\"field\":\"x\"},\"y\":{\"field\":\"y\"}},\"id\":\"e7a5846f-3fd8-4344-8985-695ab97370c5\",\"type\":\"Line\"},{\"attributes\":{\"source\":{\"id\":\"9d154f00-bb34-4810-9b0b-9cdeffe6330a\",\"type\":\"ColumnDataSource\"}},\"id\":\"ca4ae15f-15e2-46f9-9bf7-b99a24c7f33f\",\"type\":\"CDSView\"},{\"attributes\":{\"below\":[{\"id\":\"213df9a9-f827-4daf-b80b-0138b9e2a1ed\",\"type\":\"LinearAxis\"}],\"left\":[{\"id\":\"1625c512-4f43-405e-b57b-07fed3efdd9a\",\"type\":\"LinearAxis\"}],\"plot_height\":450,\"plot_width\":350,\"renderers\":[{\"id\":\"213df9a9-f827-4daf-b80b-0138b9e2a1ed\",\"type\":\"LinearAxis\"},{\"id\":\"8acdfc4c-58cd-4d57-b021-e4e212bee297\",\"type\":\"Grid\"},{\"id\":\"1625c512-4f43-405e-b57b-07fed3efdd9a\",\"type\":\"LinearAxis\"},{\"id\":\"f316f28e-662f-4730-ab45-b72377f476b9\",\"type\":\"Grid\"},{\"id\":\"7621a809-1f47-40c2-a44e-38d6917fc50e\",\"type\":\"BoxAnnotation\"},{\"id\":\"76f8d0d5-2ad7-4661-bee3-ae369d9c8131\",\"type\":\"GlyphRenderer\"},{\"id\":\"6b8020be-eb5e-47c4-add2-4660066a0183\",\"type\":\"GlyphRenderer\"},{\"id\":\"3f3732da-2bac-485d-bb5e-00e9ce8abd8f\",\"type\":\"GlyphRenderer\"}],\"title\":{\"id\":\"c86ca335-cacc-4034-8ac9-690d4187b890\",\"type\":\"Title\"},\"toolbar\":{\"id\":\"240f1164-56b1-4e11-b4f7-91d9807af8e9\",\"type\":\"Toolbar\"},\"x_range\":{\"id\":\"55a346c2-7c2f-4bf4-97a1-70416edb7154\",\"type\":\"Range1d\"},\"x_scale\":{\"id\":\"bf0ee3b0-a23b-4831-baef-92f16664b059\",\"type\":\"LinearScale\"},\"y_range\":{\"id\":\"a59d4917-28fd-4bea-a104-effe4bfc7069\",\"type\":\"Range1d\"},\"y_scale\":{\"id\":\"5928aa89-1216-4e58-b04c-4a5fd78962be\",\"type\":\"LinearScale\"}},\"id\":\"25e0978e-8509-422d-b4c9-773eb9431686\",\"subtype\":\"Figure\",\"type\":\"Plot\"},{\"attributes\":{},\"id\":\"d9b33653-0b78-4683-966e-27083d843c11\",\"type\":\"Selection\"},{\"attributes\":{},\"id\":\"df92248e-a32d-402f-a25a-b7a1386a964c\",\"type\":\"BasicTickFormatter\"},{\"attributes\":{},\"id\":\"91d14175-92fb-42e0-b218-4e57443bb6e8\",\"type\":\"UnionRenderers\"},{\"attributes\":{},\"id\":\"41d41dd1-7592-49c6-a24c-a162c0804a61\",\"type\":\"BasicTickFormatter\"},{\"attributes\":{\"plot\":null,\"text\":\"Vettones \\u039e\"},\"id\":\"c86ca335-cacc-4034-8ac9-690d4187b890\",\"type\":\"Title\"},{\"attributes\":{\"callback\":null,\"end\":9.5,\"start\":7.5},\"id\":\"55a346c2-7c2f-4bf4-97a1-70416edb7154\",\"type\":\"Range1d\"},{\"attributes\":{},\"id\":\"36b1825b-5776-4573-8871-c0cb58155939\",\"type\":\"BasicTickFormatter\"},{\"attributes\":{\"active_drag\":\"auto\",\"active_inspect\":\"auto\",\"active_multi\":null,\"active_scroll\":\"auto\",\"active_tap\":\"auto\",\"tools\":[{\"id\":\"29f2e951-53fc-43f3-99b8-2991bfcb8598\",\"type\":\"PanTool\"},{\"id\":\"3c2dd3bf-ac7b-4189-94ba-660404d8eb4f\",\"type\":\"WheelZoomTool\"},{\"id\":\"052c28f1-1caf-4b58-9b30-40e58d9937ab\",\"type\":\"BoxZoomTool\"},{\"id\":\"e9ec1576-95ba-48e4-a9fc-32fcc3d41557\",\"type\":\"SaveTool\"},{\"id\":\"e8ad0a46-9a21-42f9-a859-ec359564c833\",\"type\":\"ResetTool\"},{\"id\":\"3c32105d-30c6-470e-a4a6-3f001c71d2f5\",\"type\":\"HelpTool\"}]},\"id\":\"240f1164-56b1-4e11-b4f7-91d9807af8e9\",\"type\":\"Toolbar\"},{\"attributes\":{},\"id\":\"6eadb98a-8f56-4211-a57e-90f788f3f7ae\",\"type\":\"BasicTickFormatter\"},{\"attributes\":{\"data_source\":{\"id\":\"cddc0f3f-5877-4dab-a323-ec2e52b619d5\",\"type\":\"ColumnDataSource\"},\"glyph\":{\"id\":\"074076af-1680-4b16-a6e9-28d4faa61e1f\",\"type\":\"Circle\"},\"hover_glyph\":null,\"muted_glyph\":null,\"nonselection_glyph\":{\"id\":\"5deb45e6-ada0-494d-aaa7-1c34e7694b61\",\"type\":\"Circle\"},\"selection_glyph\":null,\"view\":{\"id\":\"1d988c10-4abb-4ae5-888d-0a36397862ff\",\"type\":\"CDSView\"}},\"id\":\"6b8020be-eb5e-47c4-add2-4660066a0183\",\"type\":\"GlyphRenderer\"},{\"attributes\":{},\"id\":\"854cb257-20bd-4fcc-84b9-eb4d53d6a8e2\",\"type\":\"UnionRenderers\"},{\"attributes\":{\"fill_alpha\":{\"value\":0.1},\"fill_color\":{\"value\":\"#1f77b4\"},\"inner_radius\":{\"units\":\"data\",\"value\":0.04},\"line_alpha\":{\"value\":0.1},\"line_color\":{\"value\":\"#1f77b4\"},\"outer_radius\":{\"units\":\"data\",\"value\":0.06},\"x\":{\"field\":\"x\"},\"y\":{\"field\":\"y\"}},\"id\":\"401de852-bbcd-47d5-bf89-25b22ec3ec6a\",\"type\":\"Annulus\"},{\"attributes\":{},\"id\":\"c72c53c3-6d88-4904-b542-762f8fd56315\",\"type\":\"UnionRenderers\"},{\"attributes\":{},\"id\":\"bf0ee3b0-a23b-4831-baef-92f16664b059\",\"type\":\"LinearScale\"},{\"attributes\":{},\"id\":\"b20e083f-e9a6-402d-b3dc-9078028961d7\",\"type\":\"Selection\"},{\"attributes\":{\"callback\":null,\"end\":42,\"start\":40},\"id\":\"a59d4917-28fd-4bea-a104-effe4bfc7069\",\"type\":\"Range1d\"},{\"attributes\":{},\"id\":\"ab0b68ba-ab3b-44ec-8d07-dcc7f1d40d40\",\"type\":\"Selection\"},{\"attributes\":{},\"id\":\"5928aa89-1216-4e58-b04c-4a5fd78962be\",\"type\":\"LinearScale\"},{\"attributes\":{\"plot\":{\"id\":\"25e0978e-8509-422d-b4c9-773eb9431686\",\"subtype\":\"Figure\",\"type\":\"Plot\"},\"ticker\":{\"id\":\"85519931-37ec-4f20-83c7-518056476d25\",\"type\":\"BasicTicker\"}},\"id\":\"8acdfc4c-58cd-4d57-b021-e4e212bee297\",\"type\":\"Grid\"},{\"attributes\":{\"callback\":null,\"data\":{\"x\":{\"__ndarray__\":\"q6qqqqqqIUBVVVVVVVUgQKuqqqqqqiFA\",\"dtype\":\"float64\",\"shape\":[3]},\"y\":{\"__ndarray__\":\"AAAAAABgREAAAAAAAIBEQAAAAAAAgERA\",\"dtype\":\"float64\",\"shape\":[3]}},\"selected\":{\"id\":\"b20e083f-e9a6-402d-b3dc-9078028961d7\",\"type\":\"Selection\"},\"selection_policy\":{\"id\":\"c72c53c3-6d88-4904-b542-762f8fd56315\",\"type\":\"UnionRenderers\"}},\"id\":\"307f69e4-7b19-4e00-a5af-a606de797a17\",\"type\":\"ColumnDataSource\"},{\"attributes\":{},\"id\":\"96cb378b-48ce-4df3-a5bf-0faaba2428db\",\"type\":\"Selection\"},{\"attributes\":{\"formatter\":{\"id\":\"df92248e-a32d-402f-a25a-b7a1386a964c\",\"type\":\"BasicTickFormatter\"},\"plot\":{\"id\":\"25e0978e-8509-422d-b4c9-773eb9431686\",\"subtype\":\"Figure\",\"type\":\"Plot\"},\"ticker\":{\"id\":\"85519931-37ec-4f20-83c7-518056476d25\",\"type\":\"BasicTicker\"}},\"id\":\"213df9a9-f827-4daf-b80b-0138b9e2a1ed\",\"type\":\"LinearAxis\"},{\"attributes\":{},\"id\":\"cf3aa99f-dc1c-4065-9a2b-39e94a50838d\",\"type\":\"UnionRenderers\"},{\"attributes\":{},\"id\":\"85519931-37ec-4f20-83c7-518056476d25\",\"type\":\"BasicTicker\"},{\"attributes\":{},\"id\":\"45ac48fe-bec4-4246-9458-8de648736c1d\",\"type\":\"Selection\"},{\"attributes\":{\"formatter\":{\"id\":\"6eadb98a-8f56-4211-a57e-90f788f3f7ae\",\"type\":\"BasicTickFormatter\"},\"plot\":{\"id\":\"25e0978e-8509-422d-b4c9-773eb9431686\",\"subtype\":\"Figure\",\"type\":\"Plot\"},\"ticker\":{\"id\":\"9788bffc-67e0-4930-88d8-4e09154d5f77\",\"type\":\"BasicTicker\"}},\"id\":\"1625c512-4f43-405e-b57b-07fed3efdd9a\",\"type\":\"LinearAxis\"},{\"attributes\":{},\"id\":\"996a9d04-0802-4ff4-8fe1-90c58b41fe53\",\"type\":\"UnionRenderers\"},{\"attributes\":{},\"id\":\"9788bffc-67e0-4930-88d8-4e09154d5f77\",\"type\":\"BasicTicker\"},{\"attributes\":{\"dimension\":1,\"plot\":{\"id\":\"25e0978e-8509-422d-b4c9-773eb9431686\",\"subtype\":\"Figure\",\"type\":\"Plot\"},\"ticker\":{\"id\":\"9788bffc-67e0-4930-88d8-4e09154d5f77\",\"type\":\"BasicTicker\"}},\"id\":\"f316f28e-662f-4730-ab45-b72377f476b9\",\"type\":\"Grid\"},{\"attributes\":{\"fill_alpha\":{\"value\":0.1},\"fill_color\":{\"value\":\"#1f77b4\"},\"line_alpha\":{\"value\":0.1},\"line_color\":{\"value\":\"#1f77b4\"},\"size\":{\"units\":\"screen\",\"value\":6},\"x\":{\"field\":\"x\"},\"y\":{\"field\":\"y\"}},\"id\":\"d0866fad-555a-4477-b610-412215fbd4a8\",\"type\":\"Circle\"},{\"attributes\":{\"source\":{\"id\":\"63b6cd97-93ed-4dd1-baf3-67c6c5716e70\",\"type\":\"ColumnDataSource\"}},\"id\":\"23f24788-6185-4bab-84be-3b506d7229b3\",\"type\":\"CDSView\"},{\"attributes\":{\"data_source\":{\"id\":\"63b6cd97-93ed-4dd1-baf3-67c6c5716e70\",\"type\":\"ColumnDataSource\"},\"glyph\":{\"id\":\"36faf62f-21ae-4875-8961-75edd6bae7bd\",\"type\":\"Line\"},\"hover_glyph\":null,\"muted_glyph\":null,\"nonselection_glyph\":{\"id\":\"e7a5846f-3fd8-4344-8985-695ab97370c5\",\"type\":\"Line\"},\"selection_glyph\":null,\"view\":{\"id\":\"23f24788-6185-4bab-84be-3b506d7229b3\",\"type\":\"CDSView\"}},\"id\":\"76f8d0d5-2ad7-4661-bee3-ae369d9c8131\",\"type\":\"GlyphRenderer\"},{\"attributes\":{\"fill_color\":{\"value\":\"grey\"},\"size\":{\"units\":\"screen\",\"value\":6},\"x\":{\"field\":\"x\"},\"y\":{\"field\":\"y\"}},\"id\":\"074076af-1680-4b16-a6e9-28d4faa61e1f\",\"type\":\"Circle\"},{\"attributes\":{},\"id\":\"29f2e951-53fc-43f3-99b8-2991bfcb8598\",\"type\":\"PanTool\"},{\"attributes\":{\"data_source\":{\"id\":\"307f69e4-7b19-4e00-a5af-a606de797a17\",\"type\":\"ColumnDataSource\"},\"glyph\":{\"id\":\"311bfd54-a584-4c20-91d7-2ade29c12f9c\",\"type\":\"Annulus\"},\"hover_glyph\":null,\"muted_glyph\":null,\"nonselection_glyph\":{\"id\":\"401de852-bbcd-47d5-bf89-25b22ec3ec6a\",\"type\":\"Annulus\"},\"selection_glyph\":null,\"view\":{\"id\":\"ede74296-f0b1-4b9e-9928-595e81790bd9\",\"type\":\"CDSView\"}},\"id\":\"3f3732da-2bac-485d-bb5e-00e9ce8abd8f\",\"type\":\"GlyphRenderer\"},{\"attributes\":{},\"id\":\"3c2dd3bf-ac7b-4189-94ba-660404d8eb4f\",\"type\":\"WheelZoomTool\"},{\"attributes\":{\"callback\":null,\"data\":{\"x\":{\"__ndarray__\":\"AAAAAAAAIUAAAAAAAAAgQKuqqqqqqiFAAAAAAAAAIECrqqqqqqohQFVVVVVVVSBAq6qqqqqqIUCrqqqqqqogQFVVVVVVVSFAq6qqqqqqIUAAAAAAAAAhQA==\",\"dtype\":\"float64\",\"shape\":[11]},\"y\":{\"__ndarray__\":\"VVVVVVXVREAAAAAAAMBEQKuqqqqq6kRAAAAAAACgREAAAAAAAGBEQAAAAAAAgERAAAAAAACAREAAAAAAAGBEQFVVVVVVVURAVVVVVVU1RECrqqqqqgpEQA==\",\"dtype\":\"float64\",\"shape\":[11]}},\"selected\":{\"id\":\"3997641f-05be-49f6-8e52-872b85f7ef8b\",\"type\":\"Selection\"},\"selection_policy\":{\"id\":\"acd9e134-feac-4b49-b198-8b0a6fbb09e1\",\"type\":\"UnionRenderers\"}},\"id\":\"63b6cd97-93ed-4dd1-baf3-67c6c5716e70\",\"type\":\"ColumnDataSource\"},{\"attributes\":{\"overlay\":{\"id\":\"7621a809-1f47-40c2-a44e-38d6917fc50e\",\"type\":\"BoxAnnotation\"}},\"id\":\"052c28f1-1caf-4b58-9b30-40e58d9937ab\",\"type\":\"BoxZoomTool\"},{\"attributes\":{},\"id\":\"e9ec1576-95ba-48e4-a9fc-32fcc3d41557\",\"type\":\"SaveTool\"},{\"attributes\":{},\"id\":\"e8ad0a46-9a21-42f9-a859-ec359564c833\",\"type\":\"ResetTool\"},{\"attributes\":{},\"id\":\"3c32105d-30c6-470e-a4a6-3f001c71d2f5\",\"type\":\"HelpTool\"},{\"attributes\":{\"bottom_units\":\"screen\",\"fill_alpha\":{\"value\":0.5},\"fill_color\":{\"value\":\"lightgrey\"},\"left_units\":\"screen\",\"level\":\"overlay\",\"line_alpha\":{\"value\":1.0},\"line_color\":{\"value\":\"black\"},\"line_dash\":[4,4],\"line_width\":{\"value\":2},\"plot\":null,\"render_mode\":\"css\",\"right_units\":\"screen\",\"top_units\":\"screen\"},\"id\":\"7621a809-1f47-40c2-a44e-38d6917fc50e\",\"type\":\"BoxAnnotation\"},{\"attributes\":{\"line_alpha\":0.6,\"x\":{\"field\":\"x\"},\"y\":{\"field\":\"y\"}},\"id\":\"36faf62f-21ae-4875-8961-75edd6bae7bd\",\"type\":\"Line\"},{\"attributes\":{\"source\":{\"id\":\"cddc0f3f-5877-4dab-a323-ec2e52b619d5\",\"type\":\"ColumnDataSource\"}},\"id\":\"1d988c10-4abb-4ae5-888d-0a36397862ff\",\"type\":\"CDSView\"},{\"attributes\":{\"fill_alpha\":{\"value\":0.1},\"fill_color\":{\"value\":\"#1f77b4\"},\"line_alpha\":{\"value\":0.1},\"line_color\":{\"value\":\"#1f77b4\"},\"size\":{\"units\":\"screen\",\"value\":6},\"x\":{\"field\":\"x\"},\"y\":{\"field\":\"y\"}},\"id\":\"5deb45e6-ada0-494d-aaa7-1c34e7694b61\",\"type\":\"Circle\"},{\"attributes\":{\"below\":[{\"id\":\"4467409f-1ac5-4800-b522-860be1fb55fd\",\"type\":\"LinearAxis\"}],\"left\":[{\"id\":\"dd5e9860-3c91-489d-9ec5-296cc4ecd48a\",\"type\":\"LinearAxis\"}],\"plot_height\":450,\"plot_width\":350,\"renderers\":[{\"id\":\"4467409f-1ac5-4800-b522-860be1fb55fd\",\"type\":\"LinearAxis\"},{\"id\":\"9f84f8d4-ff5b-4e97-8d59-b7655c814906\",\"type\":\"Grid\"},{\"id\":\"dd5e9860-3c91-489d-9ec5-296cc4ecd48a\",\"type\":\"LinearAxis\"},{\"id\":\"4dd4cc1e-22b7-430d-b0b2-187d8456923f\",\"type\":\"Grid\"},{\"id\":\"1a47f432-3049-4ee4-81c2-2c2d459cb16a\",\"type\":\"BoxAnnotation\"},{\"id\":\"2ff06e7f-3769-4b2a-8845-ccbe51a80513\",\"type\":\"GlyphRenderer\"},{\"id\":\"0bd8d5ad-bc31-445a-b492-0882a417df42\",\"type\":\"GlyphRenderer\"},{\"id\":\"496c1185-d36d-46a9-9fdb-bb02603401c3\",\"type\":\"GlyphRenderer\"}],\"title\":{\"id\":\"067c874a-519e-46f3-88ca-a4bc53eaeb16\",\"type\":\"Title\"},\"toolbar\":{\"id\":\"ad9269d1-6286-436a-8924-1d6580ae1f50\",\"type\":\"Toolbar\"},\"x_range\":{\"id\":\"2b52eb1c-14a4-4d03-9426-e212cea9b8a6\",\"type\":\"Range1d\"},\"x_scale\":{\"id\":\"c06a3831-c028-4aae-9fe6-a4d233fc5f57\",\"type\":\"LinearScale\"},\"y_range\":{\"id\":\"cb0fe914-5147-4265-9494-38295df3083d\",\"type\":\"Range1d\"},\"y_scale\":{\"id\":\"6c172f91-96fe-4663-8999-bbe85d892bc9\",\"type\":\"LinearScale\"}},\"id\":\"35fabf39-ce71-4738-9069-ad113f9caaa7\",\"subtype\":\"Figure\",\"type\":\"Plot\"},{\"attributes\":{\"callback\":null,\"data\":{\"x\":{\"__ndarray__\":\"AAAAAAAAIUAAAAAAAAAgQKuqqqqqqiFAAAAAAAAAIECrqqqqqqogQAAAAAAAACFAq6qqqqqqIECrqqqqqqogQFVVVVVVVSFAq6qqqqqqIUAAAAAAAAAhQA==\",\"dtype\":\"float64\",\"shape\":[11]},\"y\":{\"__ndarray__\":\"VVVVVVXVREAAAAAAAMBEQKuqqqqq6kRAAAAAAACgREAAAAAAAKBEQAAAAAAAgERAAAAAAACAREAAAAAAAGBEQFVVVVVVVURAVVVVVVU1RECrqqqqqgpEQA==\",\"dtype\":\"float64\",\"shape\":[11]}},\"selected\":{\"id\":\"ab0b68ba-ab3b-44ec-8d07-dcc7f1d40d40\",\"type\":\"Selection\"},\"selection_policy\":{\"id\":\"91d14175-92fb-42e0-b218-4e57443bb6e8\",\"type\":\"UnionRenderers\"}},\"id\":\"37c3f8e5-b4eb-4a0e-b2b4-34b67ff66656\",\"type\":\"ColumnDataSource\"},{\"attributes\":{\"fill_alpha\":{\"value\":0.5},\"fill_color\":{\"value\":\"green\"},\"inner_radius\":{\"units\":\"data\",\"value\":0.04},\"line_alpha\":{\"value\":0},\"outer_radius\":{\"units\":\"data\",\"value\":0.06},\"x\":{\"field\":\"x\"},\"y\":{\"field\":\"y\"}},\"id\":\"311bfd54-a584-4c20-91d7-2ade29c12f9c\",\"type\":\"Annulus\"},{\"attributes\":{\"fill_alpha\":{\"value\":0.5},\"fill_color\":{\"value\":\"green\"},\"inner_radius\":{\"units\":\"data\",\"value\":0.04},\"line_alpha\":{\"value\":0},\"outer_radius\":{\"units\":\"data\",\"value\":0.06},\"x\":{\"field\":\"x\"},\"y\":{\"field\":\"y\"}},\"id\":\"7faa7a45-eb3b-477b-a0fe-a63ce6de1612\",\"type\":\"Annulus\"},{\"attributes\":{},\"id\":\"3997641f-05be-49f6-8e52-872b85f7ef8b\",\"type\":\"Selection\"},{\"attributes\":{\"source\":{\"id\":\"307f69e4-7b19-4e00-a5af-a606de797a17\",\"type\":\"ColumnDataSource\"}},\"id\":\"ede74296-f0b1-4b9e-9928-595e81790bd9\",\"type\":\"CDSView\"},{\"attributes\":{},\"id\":\"acd9e134-feac-4b49-b198-8b0a6fbb09e1\",\"type\":\"UnionRenderers\"},{\"attributes\":{\"source\":{\"id\":\"37c3f8e5-b4eb-4a0e-b2b4-34b67ff66656\",\"type\":\"ColumnDataSource\"}},\"id\":\"0d6bc7a3-ea0b-4993-a5cc-49f54c47f979\",\"type\":\"CDSView\"},{\"attributes\":{\"plot\":null,\"text\":\"Vettones \\u03a9\"},\"id\":\"067c874a-519e-46f3-88ca-a4bc53eaeb16\",\"type\":\"Title\"},{\"attributes\":{\"callback\":null,\"end\":9.5,\"start\":7.5},\"id\":\"2b52eb1c-14a4-4d03-9426-e212cea9b8a6\",\"type\":\"Range1d\"},{\"attributes\":{\"active_drag\":\"auto\",\"active_inspect\":\"auto\",\"active_multi\":null,\"active_scroll\":\"auto\",\"active_tap\":\"auto\",\"tools\":[{\"id\":\"d4525cc1-05c6-40f7-9676-dbe1770cc9e7\",\"type\":\"PanTool\"},{\"id\":\"8e5c8ac7-e890-4968-90a6-500a3ee12c03\",\"type\":\"WheelZoomTool\"},{\"id\":\"425d472b-5dcb-4176-9e0b-36b4a89d1cf9\",\"type\":\"BoxZoomTool\"},{\"id\":\"822397d2-f54d-47cb-a7a6-f3870fb6cebf\",\"type\":\"SaveTool\"},{\"id\":\"3b3a05c4-7cf1-4791-913a-e8a8d11103ea\",\"type\":\"ResetTool\"},{\"id\":\"f3f08829-2547-406c-b648-085703f8e5bc\",\"type\":\"HelpTool\"}]},\"id\":\"ad9269d1-6286-436a-8924-1d6580ae1f50\",\"type\":\"Toolbar\"},{\"attributes\":{\"formatter\":{\"id\":\"36b1825b-5776-4573-8871-c0cb58155939\",\"type\":\"BasicTickFormatter\"},\"plot\":{\"id\":\"35fabf39-ce71-4738-9069-ad113f9caaa7\",\"subtype\":\"Figure\",\"type\":\"Plot\"},\"ticker\":{\"id\":\"09c6f902-71a7-4a2e-a810-f08698716d70\",\"type\":\"BasicTicker\"}},\"id\":\"dd5e9860-3c91-489d-9ec5-296cc4ecd48a\",\"type\":\"LinearAxis\"},{\"attributes\":{},\"id\":\"c06a3831-c028-4aae-9fe6-a4d233fc5f57\",\"type\":\"LinearScale\"},{\"attributes\":{\"plot\":{\"id\":\"35fabf39-ce71-4738-9069-ad113f9caaa7\",\"subtype\":\"Figure\",\"type\":\"Plot\"},\"ticker\":{\"id\":\"90dffce0-d1fe-4904-b8ec-f36fe53f2855\",\"type\":\"BasicTicker\"}},\"id\":\"9f84f8d4-ff5b-4e97-8d59-b7655c814906\",\"type\":\"Grid\"},{\"attributes\":{\"callback\":null,\"end\":42,\"start\":40},\"id\":\"cb0fe914-5147-4265-9494-38295df3083d\",\"type\":\"Range1d\"},{\"attributes\":{},\"id\":\"6c172f91-96fe-4663-8999-bbe85d892bc9\",\"type\":\"LinearScale\"},{\"attributes\":{\"line_alpha\":0.1,\"line_color\":\"#1f77b4\",\"x\":{\"field\":\"x\"},\"y\":{\"field\":\"y\"}},\"id\":\"b770cc88-2873-4089-8b44-1981f5c7aa6d\",\"type\":\"Line\"},{\"attributes\":{\"formatter\":{\"id\":\"41d41dd1-7592-49c6-a24c-a162c0804a61\",\"type\":\"BasicTickFormatter\"},\"plot\":{\"id\":\"35fabf39-ce71-4738-9069-ad113f9caaa7\",\"subtype\":\"Figure\",\"type\":\"Plot\"},\"ticker\":{\"id\":\"90dffce0-d1fe-4904-b8ec-f36fe53f2855\",\"type\":\"BasicTicker\"}},\"id\":\"4467409f-1ac5-4800-b522-860be1fb55fd\",\"type\":\"LinearAxis\"},{\"attributes\":{},\"id\":\"90dffce0-d1fe-4904-b8ec-f36fe53f2855\",\"type\":\"BasicTicker\"},{\"attributes\":{},\"id\":\"09c6f902-71a7-4a2e-a810-f08698716d70\",\"type\":\"BasicTicker\"},{\"attributes\":{\"dimension\":1,\"plot\":{\"id\":\"35fabf39-ce71-4738-9069-ad113f9caaa7\",\"subtype\":\"Figure\",\"type\":\"Plot\"},\"ticker\":{\"id\":\"09c6f902-71a7-4a2e-a810-f08698716d70\",\"type\":\"BasicTicker\"}},\"id\":\"4dd4cc1e-22b7-430d-b0b2-187d8456923f\",\"type\":\"Grid\"},{\"attributes\":{\"data_source\":{\"id\":\"37c3f8e5-b4eb-4a0e-b2b4-34b67ff66656\",\"type\":\"ColumnDataSource\"},\"glyph\":{\"id\":\"b8deac69-a3a3-4caa-8db7-4e16c9ea1bcf\",\"type\":\"Line\"},\"hover_glyph\":null,\"muted_glyph\":null,\"nonselection_glyph\":{\"id\":\"b770cc88-2873-4089-8b44-1981f5c7aa6d\",\"type\":\"Line\"},\"selection_glyph\":null,\"view\":{\"id\":\"0d6bc7a3-ea0b-4993-a5cc-49f54c47f979\",\"type\":\"CDSView\"}},\"id\":\"2ff06e7f-3769-4b2a-8845-ccbe51a80513\",\"type\":\"GlyphRenderer\"},{\"attributes\":{\"line_alpha\":0.6,\"x\":{\"field\":\"x\"},\"y\":{\"field\":\"y\"}},\"id\":\"b8deac69-a3a3-4caa-8db7-4e16c9ea1bcf\",\"type\":\"Line\"},{\"attributes\":{\"callback\":null,\"data\":{\"x\":{\"__ndarray__\":\"AAAAAAAAIUAAAAAAAAAgQKuqqqqqqiFAAAAAAAAAIECrqqqqqqogQAAAAAAAACFAq6qqqqqqIECrqqqqqqogQFVVVVVVVSFAq6qqqqqqIUAAAAAAAAAhQA==\",\"dtype\":\"float64\",\"shape\":[11]},\"y\":{\"__ndarray__\":\"VVVVVVXVREAAAAAAAMBEQKuqqqqq6kRAAAAAAACgREAAAAAAAKBEQAAAAAAAgERAAAAAAACAREAAAAAAAGBEQFVVVVVVVURAVVVVVVU1RECrqqqqqgpEQA==\",\"dtype\":\"float64\",\"shape\":[11]}},\"selected\":{\"id\":\"96cb378b-48ce-4df3-a5bf-0faaba2428db\",\"type\":\"Selection\"},\"selection_policy\":{\"id\":\"cf3aa99f-dc1c-4065-9a2b-39e94a50838d\",\"type\":\"UnionRenderers\"}},\"id\":\"2aeb327e-86f0-42d8-beb4-6dc277cba951\",\"type\":\"ColumnDataSource\"},{\"attributes\":{\"callback\":null,\"data\":{\"x\":{\"__ndarray__\":\"q6qqqqqqIEAAAAAAAAAhQKuqqqqqqiBA\",\"dtype\":\"float64\",\"shape\":[3]},\"y\":{\"__ndarray__\":\"AAAAAACgREAAAAAAAIBEQAAAAAAAgERA\",\"dtype\":\"float64\",\"shape\":[3]}},\"selected\":{\"id\":\"45ac48fe-bec4-4246-9458-8de648736c1d\",\"type\":\"Selection\"},\"selection_policy\":{\"id\":\"996a9d04-0802-4ff4-8fe1-90c58b41fe53\",\"type\":\"UnionRenderers\"}},\"id\":\"9d154f00-bb34-4810-9b0b-9cdeffe6330a\",\"type\":\"ColumnDataSource\"},{\"attributes\":{},\"id\":\"d4525cc1-05c6-40f7-9676-dbe1770cc9e7\",\"type\":\"PanTool\"},{\"attributes\":{\"fill_color\":{\"value\":\"grey\"},\"size\":{\"units\":\"screen\",\"value\":6},\"x\":{\"field\":\"x\"},\"y\":{\"field\":\"y\"}},\"id\":\"3c9e2ef3-7dbd-46d6-a994-dc8d7314eba8\",\"type\":\"Circle\"},{\"attributes\":{},\"id\":\"8e5c8ac7-e890-4968-90a6-500a3ee12c03\",\"type\":\"WheelZoomTool\"},{\"attributes\":{\"overlay\":{\"id\":\"1a47f432-3049-4ee4-81c2-2c2d459cb16a\",\"type\":\"BoxAnnotation\"}},\"id\":\"425d472b-5dcb-4176-9e0b-36b4a89d1cf9\",\"type\":\"BoxZoomTool\"},{\"attributes\":{},\"id\":\"822397d2-f54d-47cb-a7a6-f3870fb6cebf\",\"type\":\"SaveTool\"},{\"attributes\":{},\"id\":\"3b3a05c4-7cf1-4791-913a-e8a8d11103ea\",\"type\":\"ResetTool\"},{\"attributes\":{},\"id\":\"f3f08829-2547-406c-b648-085703f8e5bc\",\"type\":\"HelpTool\"}],\"root_ids\":[\"9854bb42-057d-45e6-bb9e-94272cea5930\"]},\"title\":\"Bokeh Application\",\"version\":\"0.13.0\"}};\n",
       "  var render_items = [{\"docid\":\"c2b2f663-12f5-467d-8f6d-88cba85b223f\",\"roots\":{\"9854bb42-057d-45e6-bb9e-94272cea5930\":\"abb7ff7d-7669-4223-8c30-c0cbb80f6484\"}}];\n",
       "  root.Bokeh.embed.embed_items_notebook(docs_json, render_items);\n",
       "\n",
       "  }\n",
       "  if (root.Bokeh !== undefined) {\n",
       "    embed_document(root);\n",
       "  } else {\n",
       "    var attempts = 0;\n",
       "    var timer = setInterval(function(root) {\n",
       "      if (root.Bokeh !== undefined) {\n",
       "        embed_document(root);\n",
       "        clearInterval(timer);\n",
       "      }\n",
       "      attempts++;\n",
       "      if (attempts > 100) {\n",
       "        console.log(\"Bokeh: ERROR: Unable to run BokehJS code because BokehJS library is missing\")\n",
       "        clearInterval(timer);\n",
       "      }\n",
       "    }, 10, root)\n",
       "  }\n",
       "})(window);"
      ],
      "application/vnd.bokehjs_exec.v0+json": ""
     },
     "metadata": {
      "application/vnd.bokehjs_exec.v0+json": {
       "id": "9854bb42-057d-45e6-bb9e-94272cea5930"
      }
     },
     "output_type": "display_data"
    }
   ],
   "source": [
    "vettones_var = dfVett.groupby('diff').get_group('var')\n",
    "\n",
    "# Xi Recension\n",
    "n = figure(title= 'Vettones Ξ', width=350, height=450, x_range=(7.5, 9.5), y_range=(40, 42))\n",
    "n.line(np.array(dfVett[\"longitude_Xi\"]),np.array(dfVett[\"latitude_Xi\"]),line_alpha=0.6,line_color='black')\n",
    "n.circle(np.array(dfVett[\"longitude_Xi\"]),np.array(dfVett[\"latitude_Xi\"]),fill_color='grey',size=6,fill_alpha=1,line_color='black')\n",
    "n.annulus(np.array(dfVett.groupby('diff').get_group('var')[\"longitude_Xi\"]),np.array(dfVett.groupby('diff').get_group('var')[\"latitude_Xi\"]),fill_color='green',inner_radius=0.04, outer_radius=0.06,fill_alpha=0.5,line_color='black',line_alpha=0)\n",
    "\n",
    "# Omega Recension\n",
    "o = figure(title= 'Vettones Ω', width=350, height=450, x_range=(7.5, 9.5), y_range=(40, 42))#,tools=toolsO)\n",
    "o.line(np.array(dfVett[\"longitude_Omega\"]),np.array(dfVett[\"latitude_Omega\"]),line_alpha=0.6,line_color='black')\n",
    "o.circle(np.array(dfVett[\"longitude_Omega\"]),np.array(dfVett[\"latitude_Omega\"]),fill_color='grey',size=6,fill_alpha=1,line_color='black')\n",
    "o.annulus(np.array(dfVett.groupby('diff').get_group('var')[\"longitude_Omega\"]),np.array(dfVett.groupby('diff').get_group('var')[\"latitude_Omega\"]),fill_color='green',inner_radius=0.04, outer_radius=0.06,fill_alpha=0.5,line_color='black',line_alpha=0)\n",
    "\n",
    "show(row(n,o));"
   ]
  },
  {
   "cell_type": "markdown",
   "metadata": {
    "pycharm": {}
   },
   "source": [
    "#### Result"
   ]
  },
  {
   "cell_type": "markdown",
   "metadata": {
    "pycharm": {}
   },
   "source": [
    "Two problematic areas can be identified: \n",
    "\n",
    "- the cities of Ocelum, Capara and Manliana have different coordinates in Ξ and Ω and the spatial ordering is disturbed in the Ξ recension\n",
    "\n",
    "- the position of Salmantica, although it has the very same coordinates in Ξ and Ω, strays importantly from Ptolemy's ordering principle, which may indicate that a corruption occurred between Ptolemy's redaction and the archetype common to Ξ and Ω."
   ]
  },
  {
   "cell_type": "markdown",
   "metadata": {
    "pycharm": {}
   },
   "source": [
    "## Reconstruction "
   ]
  },
  {
   "cell_type": "markdown",
   "metadata": {
    "pycharm": {}
   },
   "source": [
    "The new dataframe contains the reconstructed coordinates. In a first step, we copy the reconstructed coordinates from the Xi recension. Then, these coordinates will be emended during the philological work. "
   ]
  },
  {
   "cell_type": "code",
   "execution_count": 11,
   "metadata": {
    "pycharm": {}
   },
   "outputs": [
    {
     "data": {
      "text/html": [
       "<div>\n",
       "<style scoped>\n",
       "    .dataframe tbody tr th:only-of-type {\n",
       "        vertical-align: middle;\n",
       "    }\n",
       "\n",
       "    .dataframe tbody tr th {\n",
       "        vertical-align: top;\n",
       "    }\n",
       "\n",
       "    .dataframe thead th {\n",
       "        text-align: right;\n",
       "    }\n",
       "</style>\n",
       "<table border=\"1\" class=\"dataframe\">\n",
       "  <thead>\n",
       "    <tr style=\"text-align: right;\">\n",
       "      <th></th>\n",
       "      <th>book_ID</th>\n",
       "      <th>chap_ID</th>\n",
       "      <th>sec_ID</th>\n",
       "      <th>type_sec</th>\n",
       "      <th>people</th>\n",
       "      <th>type</th>\n",
       "      <th>category</th>\n",
       "      <th>toponym</th>\n",
       "      <th>longitude_Xi</th>\n",
       "      <th>latitude_Xi</th>\n",
       "      <th>longitude_Omega</th>\n",
       "      <th>latitude_Omega</th>\n",
       "      <th>diff</th>\n",
       "      <th>longitude_r</th>\n",
       "      <th>latitude_r</th>\n",
       "    </tr>\n",
       "    <tr>\n",
       "      <th>ID</th>\n",
       "      <th></th>\n",
       "      <th></th>\n",
       "      <th></th>\n",
       "      <th></th>\n",
       "      <th></th>\n",
       "      <th></th>\n",
       "      <th></th>\n",
       "      <th></th>\n",
       "      <th></th>\n",
       "      <th></th>\n",
       "      <th></th>\n",
       "      <th></th>\n",
       "      <th></th>\n",
       "      <th></th>\n",
       "      <th></th>\n",
       "    </tr>\n",
       "  </thead>\n",
       "  <tbody>\n",
       "    <tr>\n",
       "      <th>2.05.09.02</th>\n",
       "      <td>2</td>\n",
       "      <td>2.05</td>\n",
       "      <td>2.05.09</td>\n",
       "      <td>inland</td>\n",
       "      <td>Vettones</td>\n",
       "      <td>locality</td>\n",
       "      <td>city</td>\n",
       "      <td>Λακκιαοππιδανά</td>\n",
       "      <td>8.500000</td>\n",
       "      <td>41.666667</td>\n",
       "      <td>8.500000</td>\n",
       "      <td>41.666667</td>\n",
       "      <td>id</td>\n",
       "      <td>8.500000</td>\n",
       "      <td>41.666667</td>\n",
       "    </tr>\n",
       "    <tr>\n",
       "      <th>2.05.09.03</th>\n",
       "      <td>2</td>\n",
       "      <td>2.05</td>\n",
       "      <td>2.05.09</td>\n",
       "      <td>inland</td>\n",
       "      <td>Vettones</td>\n",
       "      <td>locality</td>\n",
       "      <td>city</td>\n",
       "      <td>Κοτταγοβρίγα</td>\n",
       "      <td>8.000000</td>\n",
       "      <td>41.500000</td>\n",
       "      <td>8.000000</td>\n",
       "      <td>41.500000</td>\n",
       "      <td>id</td>\n",
       "      <td>8.000000</td>\n",
       "      <td>41.500000</td>\n",
       "    </tr>\n",
       "    <tr>\n",
       "      <th>2.05.09.04</th>\n",
       "      <td>2</td>\n",
       "      <td>2.05</td>\n",
       "      <td>2.05.09</td>\n",
       "      <td>inland</td>\n",
       "      <td>Vettones</td>\n",
       "      <td>locality</td>\n",
       "      <td>city</td>\n",
       "      <td>Σαλμαντίκα</td>\n",
       "      <td>8.833333</td>\n",
       "      <td>41.833333</td>\n",
       "      <td>8.833333</td>\n",
       "      <td>41.833333</td>\n",
       "      <td>id</td>\n",
       "      <td>8.833333</td>\n",
       "      <td>41.833333</td>\n",
       "    </tr>\n",
       "    <tr>\n",
       "      <th>2.05.09.05</th>\n",
       "      <td>2</td>\n",
       "      <td>2.05</td>\n",
       "      <td>2.05.09</td>\n",
       "      <td>inland</td>\n",
       "      <td>Vettones</td>\n",
       "      <td>locality</td>\n",
       "      <td>city</td>\n",
       "      <td>Αὐγουστοβρίγα</td>\n",
       "      <td>8.000000</td>\n",
       "      <td>41.250000</td>\n",
       "      <td>8.000000</td>\n",
       "      <td>41.250000</td>\n",
       "      <td>id</td>\n",
       "      <td>8.000000</td>\n",
       "      <td>41.250000</td>\n",
       "    </tr>\n",
       "    <tr>\n",
       "      <th>2.05.09.06</th>\n",
       "      <td>2</td>\n",
       "      <td>2.05</td>\n",
       "      <td>2.05.09</td>\n",
       "      <td>inland</td>\n",
       "      <td>Vettones</td>\n",
       "      <td>locality</td>\n",
       "      <td>city</td>\n",
       "      <td>Ὄκελον</td>\n",
       "      <td>8.833333</td>\n",
       "      <td>40.750000</td>\n",
       "      <td>8.333333</td>\n",
       "      <td>41.250000</td>\n",
       "      <td>var</td>\n",
       "      <td>8.833333</td>\n",
       "      <td>40.750000</td>\n",
       "    </tr>\n",
       "    <tr>\n",
       "      <th>2.05.09.07</th>\n",
       "      <td>2</td>\n",
       "      <td>2.05</td>\n",
       "      <td>2.05.09</td>\n",
       "      <td>inland</td>\n",
       "      <td>Vettones</td>\n",
       "      <td>locality</td>\n",
       "      <td>city</td>\n",
       "      <td>Καπάρα</td>\n",
       "      <td>8.166667</td>\n",
       "      <td>41.000000</td>\n",
       "      <td>8.500000</td>\n",
       "      <td>41.000000</td>\n",
       "      <td>var</td>\n",
       "      <td>8.166667</td>\n",
       "      <td>41.000000</td>\n",
       "    </tr>\n",
       "    <tr>\n",
       "      <th>2.05.09.08</th>\n",
       "      <td>2</td>\n",
       "      <td>2.05</td>\n",
       "      <td>2.05.09</td>\n",
       "      <td>inland</td>\n",
       "      <td>Vettones</td>\n",
       "      <td>locality</td>\n",
       "      <td>city</td>\n",
       "      <td>Μανλιάνα</td>\n",
       "      <td>8.833333</td>\n",
       "      <td>41.000000</td>\n",
       "      <td>8.333333</td>\n",
       "      <td>41.000000</td>\n",
       "      <td>var</td>\n",
       "      <td>8.833333</td>\n",
       "      <td>41.000000</td>\n",
       "    </tr>\n",
       "    <tr>\n",
       "      <th>2.05.09.09</th>\n",
       "      <td>2</td>\n",
       "      <td>2.05</td>\n",
       "      <td>2.05.09</td>\n",
       "      <td>inland</td>\n",
       "      <td>Vettones</td>\n",
       "      <td>locality</td>\n",
       "      <td>city</td>\n",
       "      <td>Λακονιμουργί</td>\n",
       "      <td>8.333333</td>\n",
       "      <td>40.750000</td>\n",
       "      <td>8.333333</td>\n",
       "      <td>40.750000</td>\n",
       "      <td>id</td>\n",
       "      <td>8.333333</td>\n",
       "      <td>40.750000</td>\n",
       "    </tr>\n",
       "    <tr>\n",
       "      <th>2.05.09.10</th>\n",
       "      <td>2</td>\n",
       "      <td>2.05</td>\n",
       "      <td>2.05.09</td>\n",
       "      <td>inland</td>\n",
       "      <td>Vettones</td>\n",
       "      <td>locality</td>\n",
       "      <td>city</td>\n",
       "      <td>Δεοβρίγα</td>\n",
       "      <td>8.666667</td>\n",
       "      <td>40.666667</td>\n",
       "      <td>8.666667</td>\n",
       "      <td>40.666667</td>\n",
       "      <td>id</td>\n",
       "      <td>8.666667</td>\n",
       "      <td>40.666667</td>\n",
       "    </tr>\n",
       "    <tr>\n",
       "      <th>2.05.09.11</th>\n",
       "      <td>2</td>\n",
       "      <td>2.05</td>\n",
       "      <td>2.05.09</td>\n",
       "      <td>inland</td>\n",
       "      <td>Vettones</td>\n",
       "      <td>locality</td>\n",
       "      <td>city</td>\n",
       "      <td>Ὀβίλα</td>\n",
       "      <td>8.833333</td>\n",
       "      <td>40.416667</td>\n",
       "      <td>8.833333</td>\n",
       "      <td>40.416667</td>\n",
       "      <td>id</td>\n",
       "      <td>8.833333</td>\n",
       "      <td>40.416667</td>\n",
       "    </tr>\n",
       "    <tr>\n",
       "      <th>2.05.09.12</th>\n",
       "      <td>2</td>\n",
       "      <td>2.05</td>\n",
       "      <td>2.05.09</td>\n",
       "      <td>inland</td>\n",
       "      <td>Vettones</td>\n",
       "      <td>locality</td>\n",
       "      <td>city</td>\n",
       "      <td>Λάμα</td>\n",
       "      <td>8.500000</td>\n",
       "      <td>40.083333</td>\n",
       "      <td>8.500000</td>\n",
       "      <td>40.083333</td>\n",
       "      <td>id</td>\n",
       "      <td>8.500000</td>\n",
       "      <td>40.083333</td>\n",
       "    </tr>\n",
       "  </tbody>\n",
       "</table>\n",
       "</div>"
      ],
      "text/plain": [
       "            book_ID chap_ID   sec_ID type_sec    people      type category  \\\n",
       "ID                                                                           \n",
       "2.05.09.02        2    2.05  2.05.09   inland  Vettones  locality     city   \n",
       "2.05.09.03        2    2.05  2.05.09   inland  Vettones  locality     city   \n",
       "2.05.09.04        2    2.05  2.05.09   inland  Vettones  locality     city   \n",
       "2.05.09.05        2    2.05  2.05.09   inland  Vettones  locality     city   \n",
       "2.05.09.06        2    2.05  2.05.09   inland  Vettones  locality     city   \n",
       "2.05.09.07        2    2.05  2.05.09   inland  Vettones  locality     city   \n",
       "2.05.09.08        2    2.05  2.05.09   inland  Vettones  locality     city   \n",
       "2.05.09.09        2    2.05  2.05.09   inland  Vettones  locality     city   \n",
       "2.05.09.10        2    2.05  2.05.09   inland  Vettones  locality     city   \n",
       "2.05.09.11        2    2.05  2.05.09   inland  Vettones  locality     city   \n",
       "2.05.09.12        2    2.05  2.05.09   inland  Vettones  locality     city   \n",
       "\n",
       "                    toponym  longitude_Xi  latitude_Xi  longitude_Omega  \\\n",
       "ID                                                                        \n",
       "2.05.09.02  Λακκιαοππιδανά      8.500000    41.666667         8.500000   \n",
       "2.05.09.03    Κοτταγοβρίγα      8.000000    41.500000         8.000000   \n",
       "2.05.09.04      Σαλμαντίκα      8.833333    41.833333         8.833333   \n",
       "2.05.09.05  Αὐγουστοβρίγα      8.000000    41.250000         8.000000   \n",
       "2.05.09.06         Ὄκελον      8.833333    40.750000         8.333333   \n",
       "2.05.09.07          Καπάρα      8.166667    41.000000         8.500000   \n",
       "2.05.09.08        Μανλιάνα      8.833333    41.000000         8.333333   \n",
       "2.05.09.09    Λακονιμουργί      8.333333    40.750000         8.333333   \n",
       "2.05.09.10        Δεοβρίγα      8.666667    40.666667         8.666667   \n",
       "2.05.09.11          Ὀβίλα      8.833333    40.416667         8.833333   \n",
       "2.05.09.12            Λάμα      8.500000    40.083333         8.500000   \n",
       "\n",
       "            latitude_Omega diff  longitude_r  latitude_r  \n",
       "ID                                                        \n",
       "2.05.09.02       41.666667   id     8.500000   41.666667  \n",
       "2.05.09.03       41.500000   id     8.000000   41.500000  \n",
       "2.05.09.04       41.833333   id     8.833333   41.833333  \n",
       "2.05.09.05       41.250000   id     8.000000   41.250000  \n",
       "2.05.09.06       41.250000  var     8.833333   40.750000  \n",
       "2.05.09.07       41.000000  var     8.166667   41.000000  \n",
       "2.05.09.08       41.000000  var     8.833333   41.000000  \n",
       "2.05.09.09       40.750000   id     8.333333   40.750000  \n",
       "2.05.09.10       40.666667   id     8.666667   40.666667  \n",
       "2.05.09.11       40.416667   id     8.833333   40.416667  \n",
       "2.05.09.12       40.083333   id     8.500000   40.083333  "
      ]
     },
     "execution_count": 11,
     "metadata": {},
     "output_type": "execute_result"
    }
   ],
   "source": [
    "dfVettR = dfVett.copy()\n",
    "dfVettR['longitude_r']=dfVettR['longitude_Xi']\n",
    "dfVettR['latitude_r']=dfVettR['latitude_Xi']\n",
    "dfVettR"
   ]
  },
  {
   "cell_type": "markdown",
   "metadata": {
    "pycharm": {}
   },
   "source": [
    "#### Ocelum"
   ]
  },
  {
   "cell_type": "markdown",
   "metadata": {
    "pycharm": {}
   },
   "source": [
    "Ocelum has a different longitude and a different latitude in the two recensions. The coordinates in the Ω recension are compatible with Ptolemy's ordering principle, whereas the Xi coordinates, in particular the latitude, stray away from the model. \n",
    "\n",
    "- The latitude in Xi is certainly corrupted whereas Omega offers the best reading.\n",
    "\n",
    "- As for the longitude, both recensions supply an acceptable reading: Xi has the *lectio difficilior* ($L\\gamma'$  Xi, $\\gamma'$ Omega) but the reading $L\\gamma'$ appears several times in the list before Ocelum, hence a miscopying in Xi would not be very surprising. In absence of a superior reading in one of the recension, I give priority to the Omega recension in this case, given that the reading for the latitude in Xi is very corrupted."
   ]
  },
  {
   "cell_type": "code",
   "execution_count": 12,
   "metadata": {
    "pycharm": {}
   },
   "outputs": [],
   "source": [
    "dfVettR.loc['2.05.09.06','latitude_r']=dfVettR.loc['2.05.09.06','latitude_Omega']\n",
    "dfVettR.loc['2.05.09.06','longitude_r']=dfVettR.loc['2.05.09.06','longitude_Omega']"
   ]
  },
  {
   "cell_type": "markdown",
   "metadata": {
    "extensions": {
     "jupyter_dashboards": {
      "version": 1,
      "views": {
       "grid_default": {
        "col": 8,
        "height": 4,
        "hidden": false,
        "row": 46,
        "width": 4
       },
       "report_default": {
        "hidden": false
       }
      }
     }
    },
    "nbpresent": {
     "id": "455fad90-3982-4ba4-b8d8-fdaf94d880bd"
    },
    "pycharm": {}
   },
   "source": [
    "#### Capara and Manliana"
   ]
  },
  {
   "cell_type": "markdown",
   "metadata": {
    "pycharm": {}
   },
   "source": [
    "Capara and Manliana are a more difficult problem as their respective longitudes are different in the two recensions but are compatible with Ptolemy's ordering principle. The divergence in the longitude of Manliana is a very common scribal issue: Omega has 30' (\"L\") whereas Xi has 10' (\"ς\"). Both signs are very close graphically and often mixed up. The divergence for Manliana is similar to the problem with Ocelum's longitude: Lγ in Xi and γ in Omega."
   ]
  },
  {
   "cell_type": "markdown",
   "metadata": {
    "pycharm": {}
   },
   "source": [
    "A sinlge element can help to decide. In the Omega recension the hand of the cartographer is supposed to situate first Capara, then Manliana: the second one is, however, to the left of Capara, which does not correspond to Ptolemy's instruction (\"and the more western [localities] before the more eastern\"). Since both cities in Omega are very close (10' of longitudinal interval), the configuration is not that discordant and could be acceptable. In absence of any other element, this situation in Omega tends to indicate that Xi has the best readings."
   ]
  },
  {
   "cell_type": "markdown",
   "metadata": {
    "pycharm": {}
   },
   "source": [
    "#### Salmantica"
   ]
  },
  {
   "cell_type": "markdown",
   "metadata": {
    "pycharm": {}
   },
   "source": [
    "- Problem"
   ]
  },
  {
   "cell_type": "markdown",
   "metadata": {
    "extensions": {
     "jupyter_dashboards": {
      "version": 1,
      "views": {
       "grid_default": {},
       "report_default": {
        "hidden": false
       }
      }
     }
    },
    "pycharm": {}
   },
   "source": [
    "The first four Vettonian localities have the same coordinates in both coordinates but show an important discordance with respect to Ptolemy's spatial ordering principle. This corruption can be explained if the city of Salmantica has erroneous coordinates, in this case, an erroneous latitude, already in the common archetype to Xi and Omega, hence in an early stage of transmission. An alternative scenario would be that both Lancia Oppidana and Cottaeobriga have corrupted latitudes."
   ]
  },
  {
   "cell_type": "markdown",
   "metadata": {
    "pycharm": {}
   },
   "source": [
    "- Vettones in context: the boundary between Lusitania and Tarraconensis"
   ]
  },
  {
   "cell_type": "markdown",
   "metadata": {
    "pycharm": {}
   },
   "source": [
    "The Vettones are situated in the north-eastern part of the province Lusitania, near the boundary with the Tarraconensis province. On Ptolemy's map, the northern part of the boundary is formed by the Duero River while the eastern bourdary is defined by a line running through three points and settled on the Duero, Tagus and Anas rivers. The drawing of rivers in Ptolemy's *Geography* are not explicitely defined as straight lines; however, when a river does form an important curve, Ptolemy defined a point with coordinates that he registered in the catalogue, in order to make the particular drawing clear. In absence of indication, a river draws then a \"more of less\" straight line. "
   ]
  },
  {
   "cell_type": "markdown",
   "metadata": {
    "pycharm": {}
   },
   "source": [
    "The boundary point between Tarraconensis and Lusitania, situated at the Duero River, has very different coordinates in the two recensions. Its coordinates in the Omega recension are certainly corrupted as several localities of the Vettones would be situated in Tarraconensis instead of Lusitania. The Xi coordinates of this boundary point are satisfying but the very northern position of Salmantica is still slightly problematic as the city is to be found almost onto the river. A more southern position of Ptolemy's map would be certainly closer to Ptolemy's original version."
   ]
  },
  {
   "cell_type": "code",
   "execution_count": 13,
   "metadata": {
    "code_folding": [
     0
    ],
    "extensions": {
     "jupyter_dashboards": {
      "version": 1,
      "views": {
       "grid_default": {},
       "report_default": {
        "hidden": false
       }
      }
     }
    },
    "pycharm": {}
   },
   "outputs": [
    {
     "data": {
      "text/html": [
       "\n",
       "\n",
       "\n",
       "\n",
       "\n",
       "\n",
       "  <div class=\"bk-root\" id=\"7305d1ca-db02-449c-ac58-d5176514f32f\"></div>\n"
      ]
     },
     "metadata": {},
     "output_type": "display_data"
    },
    {
     "data": {
      "application/javascript": [
       "(function(root) {\n",
       "  function embed_document(root) {\n",
       "    \n",
       "  var docs_json = {\"648af2b8-a181-4c7e-a829-675079dcc3a5\":{\"roots\":{\"references\":[{\"attributes\":{},\"id\":\"a02ba405-68d3-4817-91f7-8905b544f884\",\"type\":\"Selection\"},{\"attributes\":{\"callback\":null,\"data\":{\"x\":{\"__ndarray__\":\"VVVVVVVVEEBVVVVVVVURQKuqqqqqqhJAVVVVVVVVFEBVVVVVVVUVQAAAAAAAABhAAAAAAAAAGEAAAAAAAAAYQAAAAAAAABdAAAAAAAAAF0CrqqqqqqoYQAAAAAAAABlAAAAAAAAAGkCrqqqqqqoaQAAAAAAAAB1AAAAAAAAAHkAAAAAAAAAeQKuqqqqqqh5AAAAAAAAAIEAAAAAAAAAhQKuqqqqqqiFAAAAAAACAIkAAAAAAAIAjQAAAAAAAgCRAq6qqqqqqJUAAAAAAAIAlQKuqqqqqqiZAAAAAAAAAJ0BVVVVVVVUNQAAAAAAAAAhAAAAAAAAABEAAAAAAAAAUQFVVVVVVVRRAq6qqqqqqEUAAAAAAAAARQKuqqqqqqhRAAAAAAAAAFkAAAAAAAAAUQAAAAAAAABRAq6qqqqqqFECrqqqqqqoUQFVVVVVVVRVAAAAAAAAAFkCrqqqqqqoUQKuqqqqqqhZAAAAAAAAAFkBVVVVVVVUVQAAAAAAAABZAq6qqqqqqFkCrqqqqqqoWQFVVVVVVVRVAAAAAAAAAFUCrqqqqqqoWQAAAAAAAABlAAAAAAAAAGkAAAAAAAAAdQAAAAAAAgCBAAAAAAAAAIkCrqqqqqqokQKuqqqqqqiZAAAAAAACAJ0AAAAAAAAAoQAAAAAAAACpAVVVVVVVVKkAAAAAAAAArQAAAAAAAgCtAq6qqqqqqLEBVVVVVVVUuQAAAAAAAAC5AAAAAAAAALkAAAAAAAAAoQFVVVVVVVShAAAAAAACAKEBVVVVVVdUpQAAAAAAAAClAVVVVVVVVKUAAAAAAAAAqQAAAAAAAACtAAAAAAAAALEBVVVVVVVUtQAAAAAAAAC5AVVVVVVVVL0BVVVVVVdUvQAAAAAAAAC9AAAAAAAAAMEBVVVVVVVUwQFVVVVVV1TBAAAAAAABAMUAAAAAAAIAxQFVVVVVV1TFAAAAAAACAMkAAAAAAAAAyQAAAAAAAQDJAAAAAAACAMkAAAAAAAMAyQAAAAAAAADNAAAAAAACAM0BVVVVVVVU0QFVVVVVVVTRA\",\"dtype\":\"float64\",\"shape\":[99]},\"y\":{\"__ndarray__\":\"VVVVVVXVQkAAAAAAAMBCQKuqqqqqqkJAVVVVVVWVQkAAAAAAAIBCQAAAAAAAYEJAq6qqqqpqQkCrqqqqqipCQAAAAAAAAEJAAAAAAAAAQkBVVVVVVRVCQFVVVVVVVUJAAAAAAABAQkCrqqqqqipCQFVVVVVVFUJAVVVVVVUVQkAAAAAAACBCQFVVVVVVVUJAq6qqqqoKQkAAAAAAAIBCQAAAAAAAwEJAAAAAAACgQkAAAAAAAKBCQAAAAAAAoEJAq6qqqqqKQkBVVVVVVZVCQKuqqqqqikJAq6qqqqoqQkAAAAAAAOBCQKuqqqqq6kJAAAAAAAAgQ0AAAAAAAIBDQFVVVVVVtUNAAAAAAADAQ0AAAAAAAOBDQAAAAAAAIERAVVVVVVUVREBVVVVVVVVEQFVVVVVVVURAq6qqqqpqRECrqqqqqqpEQKuqqqqq6kRAAAAAAAAgRUAAAAAAAEBFQAAAAAAAYEVAAAAAAACgRUBVVVVVVdVFQAAAAAAAAEZAq6qqqqoqRkBVVVVVVVVGQAAAAAAAgEZAVVVVVVWVRkAAAAAAAMBGQAAAAAAAwEZAAAAAAADARkAAAAAAAIBGQKuqqqqq6kZAAAAAAADgRkBVVVVVVdVGQAAAAAAA4EZAVVVVVVW1RkAAAAAAAMBGQFVVVVVV1UZAVVVVVVVVRkAAAAAAACBGQFVVVVVVNUZAAAAAAACARkCrqqqqqopGQKuqqqqq6kZAq6qqqqrqRkCrqqqqqqpCQAAAAAAAwEJAVVVVVVX1QkCrqqqqqgpDQAAAAAAAQENAq6qqqqpKQ0AAAAAAAGBDQAAAAAAAYENAq6qqqqoqQ0BVVVVVVXVDQAAAAAAAgENAAAAAAADAQ0BVVVVVVdVDQAAAAAAAAERAAAAAAABAREBVVVVVVVVEQAAAAAAAYERAAAAAAACAREAAAAAAAIBEQKuqqqqqqkRAAAAAAADAREAAAAAAAOBEQAAAAAAAAEVAVVVVVVUVRUCrqqqqqipFQAAAAAAAQEVAAAAAAABARUCrqqqqqipFQKuqqqqqKkVA\",\"dtype\":\"float64\",\"shape\":[99]}},\"selected\":{\"id\":\"657d65f9-e18b-42a8-8758-df44df839add\",\"type\":\"Selection\"},\"selection_policy\":{\"id\":\"f8cb60c8-df97-4c9d-bc26-d5ac96e7d129\",\"type\":\"UnionRenderers\"}},\"id\":\"f344feab-3821-4911-9888-93e999cf9d91\",\"type\":\"ColumnDataSource\"},{\"attributes\":{\"callback\":null,\"data\":{\"x\":[4.083,6.333,9,12],\"y\":[37.667,39,39,37.25]},\"selected\":{\"id\":\"a02ba405-68d3-4817-91f7-8905b544f884\",\"type\":\"Selection\"},\"selection_policy\":{\"id\":\"7e185417-d52b-4f48-93eb-c461d255de62\",\"type\":\"UnionRenderers\"}},\"id\":\"1a50dac9-22af-422e-a099-d335b317721f\",\"type\":\"ColumnDataSource\"},{\"attributes\":{\"below\":[{\"id\":\"f08eb86e-ece5-419e-9fcd-a605afa35c32\",\"type\":\"LinearAxis\"}],\"left\":[{\"id\":\"5cd10011-d68e-48b0-a4c6-892628fd9f6a\",\"type\":\"LinearAxis\"}],\"plot_height\":500,\"plot_width\":500,\"renderers\":[{\"id\":\"f08eb86e-ece5-419e-9fcd-a605afa35c32\",\"type\":\"LinearAxis\"},{\"id\":\"51f9c38b-691d-4d26-a395-9c8971d35ba5\",\"type\":\"Grid\"},{\"id\":\"5cd10011-d68e-48b0-a4c6-892628fd9f6a\",\"type\":\"LinearAxis\"},{\"id\":\"d448f123-e8f0-43b2-949d-b9d6a453d527\",\"type\":\"Grid\"},{\"id\":\"0a9dc1b5-991d-40be-be87-ffdbb52c37d5\",\"type\":\"BoxAnnotation\"},{\"id\":\"f70dd8a0-1739-4156-85cb-1d157a472235\",\"type\":\"GlyphRenderer\"},{\"id\":\"5a0e3f76-fc75-4123-9555-0f6e4a5eef12\",\"type\":\"GlyphRenderer\"},{\"id\":\"47a775d2-7077-4fed-b8ff-d111d3c06232\",\"type\":\"GlyphRenderer\"},{\"id\":\"275cecbf-f042-4202-ba2f-e7cc3f1af2cd\",\"type\":\"GlyphRenderer\"},{\"id\":\"ba65022e-f73e-41ac-84f1-c201d6590ff0\",\"type\":\"GlyphRenderer\"},{\"id\":\"98e2d752-c70e-483d-8035-95aa67b313de\",\"type\":\"GlyphRenderer\"},{\"id\":\"14e14ae4-c72c-496d-8bb9-d56bd224e06f\",\"type\":\"GlyphRenderer\"},{\"id\":\"49627865-4a62-4eca-9ab6-6426bcea8359\",\"type\":\"GlyphRenderer\"}],\"title\":{\"id\":\"5d2af143-d963-4b3f-a5f7-d80bb09444b4\",\"type\":\"Title\"},\"toolbar\":{\"id\":\"fe8d6505-0aa0-4af2-81a5-fb88fc8caf0e\",\"type\":\"Toolbar\"},\"x_range\":{\"id\":\"7cdc9bc0-d79d-413d-a0da-b8a39215b55f\",\"type\":\"Range1d\"},\"x_scale\":{\"id\":\"1f554225-3619-4cb3-bbdb-2d62bcd5ad0b\",\"type\":\"LinearScale\"},\"y_range\":{\"id\":\"2f9e302d-4666-4818-bb0c-63900ff36e29\",\"type\":\"Range1d\"},\"y_scale\":{\"id\":\"26d50388-b807-419c-adfc-914f3b5be2e8\",\"type\":\"LinearScale\"}},\"id\":\"ead1ed91-6409-408d-bd62-4d8222e97813\",\"subtype\":\"Figure\",\"type\":\"Plot\"},{\"attributes\":{\"plot\":{\"id\":\"ead1ed91-6409-408d-bd62-4d8222e97813\",\"subtype\":\"Figure\",\"type\":\"Plot\"},\"ticker\":{\"id\":\"2898405b-f2a4-4aac-8715-be457ccfc5a9\",\"type\":\"BasicTicker\"}},\"id\":\"51f9c38b-691d-4d26-a395-9c8971d35ba5\",\"type\":\"Grid\"},{\"attributes\":{\"formatter\":{\"id\":\"82bf715d-2087-4edb-b0c9-f721954d8d65\",\"type\":\"BasicTickFormatter\"},\"plot\":{\"id\":\"ead1ed91-6409-408d-bd62-4d8222e97813\",\"subtype\":\"Figure\",\"type\":\"Plot\"},\"ticker\":{\"id\":\"c12ca801-a539-449b-b412-fa1c3a6021d3\",\"type\":\"BasicTicker\"}},\"id\":\"5cd10011-d68e-48b0-a4c6-892628fd9f6a\",\"type\":\"LinearAxis\"},{\"attributes\":{\"data_source\":{\"id\":\"f344feab-3821-4911-9888-93e999cf9d91\",\"type\":\"ColumnDataSource\"},\"glyph\":{\"id\":\"66a62c31-62a8-45ae-a32d-b579969fc8d0\",\"type\":\"Line\"},\"hover_glyph\":null,\"muted_glyph\":null,\"nonselection_glyph\":{\"id\":\"4155b254-085b-4156-892d-94093fed8e83\",\"type\":\"Line\"},\"selection_glyph\":null,\"view\":{\"id\":\"32a05353-0158-4776-abff-3b32ef2832a2\",\"type\":\"CDSView\"}},\"id\":\"538fea93-3c2c-46d3-8779-3895aa5ab597\",\"type\":\"GlyphRenderer\"},{\"attributes\":{},\"id\":\"7e185417-d52b-4f48-93eb-c461d255de62\",\"type\":\"UnionRenderers\"},{\"attributes\":{\"formatter\":{\"id\":\"8a725ee0-dd86-4928-8b81-6b5adc0d1285\",\"type\":\"BasicTickFormatter\"},\"plot\":{\"id\":\"ead1ed91-6409-408d-bd62-4d8222e97813\",\"subtype\":\"Figure\",\"type\":\"Plot\"},\"ticker\":{\"id\":\"2898405b-f2a4-4aac-8715-be457ccfc5a9\",\"type\":\"BasicTicker\"}},\"id\":\"f08eb86e-ece5-419e-9fcd-a605afa35c32\",\"type\":\"LinearAxis\"},{\"attributes\":{},\"id\":\"c62e6c89-9a7c-4b78-8683-d87e71d493e8\",\"type\":\"PanTool\"},{\"attributes\":{},\"id\":\"78602d82-20bb-44a2-b933-22363d9c4256\",\"type\":\"Selection\"},{\"attributes\":{},\"id\":\"2898405b-f2a4-4aac-8715-be457ccfc5a9\",\"type\":\"BasicTicker\"},{\"attributes\":{\"line_alpha\":0.1,\"line_color\":\"#1f77b4\",\"x\":{\"field\":\"x\"},\"y\":{\"field\":\"y\"}},\"id\":\"4155b254-085b-4156-892d-94093fed8e83\",\"type\":\"Line\"},{\"attributes\":{},\"id\":\"4edf32e9-79a8-4c1d-ad44-44d28e781a20\",\"type\":\"UnionRenderers\"},{\"attributes\":{},\"id\":\"c12ca801-a539-449b-b412-fa1c3a6021d3\",\"type\":\"BasicTicker\"},{\"attributes\":{},\"id\":\"886cbf4a-2ea4-4533-bdec-e5b5b8df1918\",\"type\":\"WheelZoomTool\"},{\"attributes\":{},\"id\":\"6f19bd4f-ee0c-4adb-87e9-e4294fd84200\",\"type\":\"Selection\"},{\"attributes\":{\"dimension\":1,\"plot\":{\"id\":\"ead1ed91-6409-408d-bd62-4d8222e97813\",\"subtype\":\"Figure\",\"type\":\"Plot\"},\"ticker\":{\"id\":\"c12ca801-a539-449b-b412-fa1c3a6021d3\",\"type\":\"BasicTicker\"}},\"id\":\"d448f123-e8f0-43b2-949d-b9d6a453d527\",\"type\":\"Grid\"},{\"attributes\":{\"overlay\":{\"id\":\"cd9c64d7-0237-479d-9553-c8914df51f57\",\"type\":\"BoxAnnotation\"}},\"id\":\"42915696-14ae-4d0d-a10e-59d5ce027877\",\"type\":\"BoxZoomTool\"},{\"attributes\":{},\"id\":\"a070a96c-a106-4bca-a623-dc5a28dea4ee\",\"type\":\"UnionRenderers\"},{\"attributes\":{\"line_alpha\":0.8,\"line_color\":\"grey\",\"x\":{\"field\":\"x\"},\"y\":{\"field\":\"y\"}},\"id\":\"6c1acd28-b388-43be-b2e5-cee3264600e6\",\"type\":\"Line\"},{\"attributes\":{},\"id\":\"87c67b86-4f02-4048-abb9-ee15130f5b9d\",\"type\":\"SaveTool\"},{\"attributes\":{},\"id\":\"4ee586da-6275-4dc3-a9d7-db25abe62d17\",\"type\":\"Selection\"},{\"attributes\":{\"callback\":null,\"data\":{\"x\":{\"__ndarray__\":\"VVVVVVVVEEBVVVVVVVURQKuqqqqqqhJAVVVVVVVVFEBVVVVVVVUVQAAAAAAAABhAAAAAAAAAGEAAAAAAAAAXQAAAAAAAABdAq6qqqqqqGEAAAAAAAAAZQAAAAAAAABpAVVVVVVVVG0AAAAAAAAAdQAAAAAAAAB5AAAAAAAAAHkCrqqqqqqoeQAAAAAAAACBAAAAAAAAAIUCrqqqqqqohQAAAAAAAgCJAAAAAAACAI0AAAAAAAIAkQAAAAAAAgCVAq6qqqqqqJkAAAAAAAAAnQFVVVVVVVQ1AAAAAAAAACEAAAAAAAAAEQAAAAAAAABRAVVVVVVVVFECrqqqqqqoTQFVVVVVVVRNAq6qqqqqqFECrqqqqqqoWQAAAAAAAABRAAAAAAAAAFECrqqqqqqoUQAAAAAAAABZAVVVVVVVVFUAAAAAAAAAWQAAAAAAAABZAq6qqqqqqFkAAAAAAAAAWQFVVVVVVVRVAAAAAAAAAFkCrqqqqqqoWQKuqqqqqqhZAq6qqqqqqFkAAAAAAAAAVQKuqqqqqqhZAAAAAAAAAGUAAAAAAAAAaQAAAAAAAABtAAAAAAACAIEAAAAAAAAAiQKuqqqqqqiRAVVVVVVVVJ0AAAAAAAIAnQAAAAAAAAChAAAAAAAAAKkBVVVVVVVUqQAAAAAAAACtAq6qqqqqqK0CrqqqqqqosQFVVVVVVVS5AVVVVVVVVLkBVVVVVVVUuQAAAAAAAAChAVVVVVVVVKEAAAAAAAIAoQAAAAAAAAClAAAAAAAAAKUAAAAAAAAApQAAAAAAAACpAAAAAAAAAK0AAAAAAAAAsQAAAAAAAAC1AAAAAAAAALkCrqqqqqiouQKuqqqqqqi9AAAAAAAAAL0AAAAAAAAAwQFVVVVVVVTBAVVVVVVXVMEAAAAAAAEAxQAAAAAAAgDFAVVVVVVXVMUAAAAAAAIAyQAAAAAAAADJAAAAAAABAMkAAAAAAAIAyQAAAAAAAwDJAAAAAAAAAM0AAAAAAAIAzQFVVVVVVVTRAVVVVVVVVNEA=\",\"dtype\":\"float64\",\"shape\":[97]},\"y\":{\"__ndarray__\":\"VVVVVVXVQkAAAAAAAMBCQKuqqqqqqkJAVVVVVVWVQkAAAAAAAIBCQAAAAAAAYEJAq6qqqqoqQkCrqqqqqgpCQKuqqqqqCkJAq6qqqqoKQkCrqqqqqgpCQFVVVVVVFUJAq6qqqqoKQkAAAAAAAEBCQFVVVVVVFUJAAAAAAAAgQkBVVVVVVVVCQFVVVVVVdUJAAAAAAACAQkBVVVVVVZVCQFVVVVVVlUJAAAAAAADgQkAAAAAAAKBCQFVVVVVVlUJAq6qqqqqKQkCrqqqqqmpCQAAAAAAA4EJAVVVVVVX1QkAAAAAAACBDQAAAAAAAgENAVVVVVVW1Q0CrqqqqqupDQKuqqqqq6kNAAAAAAAAgREAAAAAAAEBEQFVVVVVVVUVAVVVVVVVVRUCrqqqqqmpEQKuqqqqqqkRAq6qqqqrqREAAAAAAACBFQAAAAAAAQEVAAAAAAABgRUAAAAAAAKBFQFVVVVVV1UVAAAAAAAAARkCrqqqqqipGQFVVVVVVVUZAAAAAAACARkBVVVVVVZVGQFVVVVVVlUZAAAAAAADARkAAAAAAAMBGQAAAAAAAgEZAq6qqqqrqRkAAAAAAAOBGQFVVVVVV1UZAAAAAAADgRkBVVVVVVbVGQFVVVVVVlUZAAAAAAADARkBVVVVVVVVGQAAAAAAAIEZAq6qqqqoKRkAAAAAAAIBGQKuqqqqqikZAq6qqqqrqRkCrqqqqqupGQFVVVVVVtUJAAAAAAADAQkBVVVVVVfVCQFVVVVVVFUNAAAAAAABAQ0CrqqqqqkpDQAAAAAAAYENAAAAAAABgQ0CrqqqqqmpDQFVVVVVVdUNAAAAAAACAQ0AAAAAAAMBDQKuqqqqqqkNAAAAAAAAAREAAAAAAAEBEQFVVVVVVVURAAAAAAABgREAAAAAAAIBEQAAAAAAAoERAq6qqqqqqRECrqqqqqqpEQAAAAAAA4ERAAAAAAAAARUBVVVVVVRVFQKuqqqqqKkVAAAAAAABARUAAAAAAAEBFQKuqqqqqKkVAq6qqqqoqRUA=\",\"dtype\":\"float64\",\"shape\":[97]}},\"selected\":{\"id\":\"9558deef-5913-4d3c-b605-4c6250e2d171\",\"type\":\"Selection\"},\"selection_policy\":{\"id\":\"f75f49d8-4de4-4a45-b19a-2f6e8a4fabd7\",\"type\":\"UnionRenderers\"}},\"id\":\"48eafe2b-25df-41da-b171-92da645579a8\",\"type\":\"ColumnDataSource\"},{\"attributes\":{},\"id\":\"2702a309-2efc-40c9-9671-e3dbdf62a104\",\"type\":\"ResetTool\"},{\"attributes\":{},\"id\":\"2edcb719-70bc-4ada-95d5-b0f8db1efdfd\",\"type\":\"UnionRenderers\"},{\"attributes\":{},\"id\":\"f9461d94-0552-4b71-931e-9b93ebe1d0a2\",\"type\":\"HelpTool\"},{\"attributes\":{},\"id\":\"98280c40-af60-4b65-ac7c-0c400f9f551f\",\"type\":\"Selection\"},{\"attributes\":{\"data_source\":{\"id\":\"48eafe2b-25df-41da-b171-92da645579a8\",\"type\":\"ColumnDataSource\"},\"glyph\":{\"id\":\"6c1acd28-b388-43be-b2e5-cee3264600e6\",\"type\":\"Line\"},\"hover_glyph\":null,\"muted_glyph\":null,\"nonselection_glyph\":{\"id\":\"a8915f15-63dc-4bc6-9457-24050c4e9d50\",\"type\":\"Line\"},\"selection_glyph\":null,\"view\":{\"id\":\"4fabdeae-a8b4-40a5-8f96-18bcf63cfd41\",\"type\":\"CDSView\"}},\"id\":\"f70dd8a0-1739-4156-85cb-1d157a472235\",\"type\":\"GlyphRenderer\"},{\"attributes\":{\"bottom_units\":\"screen\",\"fill_alpha\":{\"value\":0.5},\"fill_color\":{\"value\":\"lightgrey\"},\"left_units\":\"screen\",\"level\":\"overlay\",\"line_alpha\":{\"value\":1.0},\"line_color\":{\"value\":\"black\"},\"line_dash\":[4,4],\"line_width\":{\"value\":2},\"plot\":null,\"render_mode\":\"css\",\"right_units\":\"screen\",\"top_units\":\"screen\"},\"id\":\"cd9c64d7-0237-479d-9553-c8914df51f57\",\"type\":\"BoxAnnotation\"},{\"attributes\":{},\"id\":\"3fbe5f93-c1ca-4fb4-8090-c05760f304ae\",\"type\":\"UnionRenderers\"},{\"attributes\":{},\"id\":\"d8414e03-dac7-4463-ab12-3df3c04b6cba\",\"type\":\"PanTool\"},{\"attributes\":{\"line_alpha\":0.8,\"line_color\":\"grey\",\"x\":{\"field\":\"x\"},\"y\":{\"field\":\"y\"}},\"id\":\"484f12ec-2cb1-41da-b7c6-d2e207d144ee\",\"type\":\"Line\"},{\"attributes\":{},\"id\":\"8994ef86-0c83-4f6b-8c73-23d7b9982514\",\"type\":\"Selection\"},{\"attributes\":{\"line_alpha\":0.1,\"line_color\":\"#1f77b4\",\"x\":{\"field\":\"x\"},\"y\":{\"field\":\"y\"}},\"id\":\"a8915f15-63dc-4bc6-9457-24050c4e9d50\",\"type\":\"Line\"},{\"attributes\":{\"source\":{\"id\":\"f344feab-3821-4911-9888-93e999cf9d91\",\"type\":\"ColumnDataSource\"}},\"id\":\"32a05353-0158-4776-abff-3b32ef2832a2\",\"type\":\"CDSView\"},{\"attributes\":{},\"id\":\"43c251c9-750a-4043-848b-09b2d0489491\",\"type\":\"UnionRenderers\"},{\"attributes\":{},\"id\":\"51742c19-9d4e-473b-a18f-b79d65945475\",\"type\":\"WheelZoomTool\"},{\"attributes\":{\"callback\":null,\"data\":{\"x\":[5.333,9.167,9,9],\"y\":[41.833,41.333,40.167,39]},\"selected\":{\"id\":\"78602d82-20bb-44a2-b933-22363d9c4256\",\"type\":\"Selection\"},\"selection_policy\":{\"id\":\"4edf32e9-79a8-4c1d-ad44-44d28e781a20\",\"type\":\"UnionRenderers\"}},\"id\":\"480dfb96-ea41-4b4b-896c-5cd60137f448\",\"type\":\"ColumnDataSource\"},{\"attributes\":{},\"id\":\"b3eaed13-0dc6-4920-9c51-58bae253a7b1\",\"type\":\"Selection\"},{\"attributes\":{\"overlay\":{\"id\":\"0a9dc1b5-991d-40be-be87-ffdbb52c37d5\",\"type\":\"BoxAnnotation\"}},\"id\":\"fc468374-ab51-4801-8472-ec6a6ff84b35\",\"type\":\"BoxZoomTool\"},{\"attributes\":{\"line_alpha\":0.1,\"line_color\":\"#1f77b4\",\"x\":{\"field\":\"x\"},\"y\":{\"field\":\"y\"}},\"id\":\"368466ef-da1e-48bb-b993-455ea4a9412b\",\"type\":\"Line\"},{\"attributes\":{},\"id\":\"168ea52c-c54a-4131-83f5-940d034f5ba6\",\"type\":\"UnionRenderers\"},{\"attributes\":{\"data_source\":{\"id\":\"1a50dac9-22af-422e-a099-d335b317721f\",\"type\":\"ColumnDataSource\"},\"glyph\":{\"id\":\"484f12ec-2cb1-41da-b7c6-d2e207d144ee\",\"type\":\"Line\"},\"hover_glyph\":null,\"muted_glyph\":null,\"nonselection_glyph\":{\"id\":\"368466ef-da1e-48bb-b993-455ea4a9412b\",\"type\":\"Line\"},\"selection_glyph\":null,\"view\":{\"id\":\"e12efd36-3561-478c-9b2a-985e675d9744\",\"type\":\"CDSView\"}},\"id\":\"5adaa5a0-c103-42cf-8b25-6537480cddd1\",\"type\":\"GlyphRenderer\"},{\"attributes\":{},\"id\":\"caea6c68-d092-4815-ae20-5c11fddf6267\",\"type\":\"SaveTool\"},{\"attributes\":{},\"id\":\"71f452ab-f7ec-4c06-bf23-f7b4d63b86e8\",\"type\":\"ResetTool\"},{\"attributes\":{\"source\":{\"id\":\"1a50dac9-22af-422e-a099-d335b317721f\",\"type\":\"ColumnDataSource\"}},\"id\":\"e12efd36-3561-478c-9b2a-985e675d9744\",\"type\":\"CDSView\"},{\"attributes\":{},\"id\":\"52a32511-6f5c-44fe-a221-25ca2bc2c7b1\",\"type\":\"HelpTool\"},{\"attributes\":{\"callback\":null,\"data\":{\"x\":[15,17,19,20.333],\"y\":[45.833,43,43.167,42.333]},\"selected\":{\"id\":\"6f19bd4f-ee0c-4adb-87e9-e4294fd84200\",\"type\":\"Selection\"},\"selection_policy\":{\"id\":\"a070a96c-a106-4bca-a623-dc5a28dea4ee\",\"type\":\"UnionRenderers\"}},\"id\":\"6919de12-0481-48c9-8f7e-a83673480dc7\",\"type\":\"ColumnDataSource\"},{\"attributes\":{\"bottom_units\":\"screen\",\"fill_alpha\":{\"value\":0.5},\"fill_color\":{\"value\":\"lightgrey\"},\"left_units\":\"screen\",\"level\":\"overlay\",\"line_alpha\":{\"value\":1.0},\"line_color\":{\"value\":\"black\"},\"line_dash\":[4,4],\"line_width\":{\"value\":2},\"plot\":null,\"render_mode\":\"css\",\"right_units\":\"screen\",\"top_units\":\"screen\"},\"id\":\"0a9dc1b5-991d-40be-be87-ffdbb52c37d5\",\"type\":\"BoxAnnotation\"},{\"attributes\":{\"line_alpha\":0.8,\"line_color\":\"grey\",\"x\":{\"field\":\"x\"},\"y\":{\"field\":\"y\"}},\"id\":\"2f0c621b-e553-4249-bb6f-becdcf840083\",\"type\":\"Line\"},{\"attributes\":{\"line_alpha\":0.8,\"line_color\":\"grey\",\"x\":{\"field\":\"x\"},\"y\":{\"field\":\"y\"}},\"id\":\"21d5c124-0ec0-4c2a-a143-b6c3d2e6b86c\",\"type\":\"Line\"},{\"attributes\":{\"line_alpha\":0.1,\"line_color\":\"#1f77b4\",\"x\":{\"field\":\"x\"},\"y\":{\"field\":\"y\"}},\"id\":\"01ca6d92-8a55-40a4-aad0-cb066bb3f4cc\",\"type\":\"Line\"},{\"attributes\":{\"data_source\":{\"id\":\"480dfb96-ea41-4b4b-896c-5cd60137f448\",\"type\":\"ColumnDataSource\"},\"glyph\":{\"id\":\"2f0c621b-e553-4249-bb6f-becdcf840083\",\"type\":\"Line\"},\"hover_glyph\":null,\"muted_glyph\":null,\"nonselection_glyph\":{\"id\":\"01ca6d92-8a55-40a4-aad0-cb066bb3f4cc\",\"type\":\"Line\"},\"selection_glyph\":null,\"view\":{\"id\":\"6f4f651b-379a-4957-b1ad-0c62b23183c8\",\"type\":\"CDSView\"}},\"id\":\"afe9736c-1de2-4afb-bb3c-0e403aba91b5\",\"type\":\"GlyphRenderer\"},{\"attributes\":{\"source\":{\"id\":\"48eafe2b-25df-41da-b171-92da645579a8\",\"type\":\"ColumnDataSource\"}},\"id\":\"4fabdeae-a8b4-40a5-8f96-18bcf63cfd41\",\"type\":\"CDSView\"},{\"attributes\":{\"callback\":null,\"data\":{\"x\":[5.333,9.333,9,9],\"y\":[41.833,41.833,40.5,39]},\"selected\":{\"id\":\"411214d2-23d6-45ff-8b3b-fc439fb431e2\",\"type\":\"Selection\"},\"selection_policy\":{\"id\":\"f72ae920-93c3-49ca-8c01-668c52032c47\",\"type\":\"UnionRenderers\"}},\"id\":\"16454eb8-0962-4fc3-980b-e3f47d1f27ee\",\"type\":\"ColumnDataSource\"},{\"attributes\":{\"source\":{\"id\":\"480dfb96-ea41-4b4b-896c-5cd60137f448\",\"type\":\"ColumnDataSource\"}},\"id\":\"6f4f651b-379a-4957-b1ad-0c62b23183c8\",\"type\":\"CDSView\"},{\"attributes\":{\"line_alpha\":0.1,\"line_color\":\"#1f77b4\",\"x\":{\"field\":\"x\"},\"y\":{\"field\":\"y\"}},\"id\":\"28123599-a69d-48e2-b70b-e397480133db\",\"type\":\"Line\"},{\"attributes\":{\"data_source\":{\"id\":\"c6661850-8131-49f4-a6fa-0ed6172ae686\",\"type\":\"ColumnDataSource\"},\"glyph\":{\"id\":\"21d5c124-0ec0-4c2a-a143-b6c3d2e6b86c\",\"type\":\"Line\"},\"hover_glyph\":null,\"muted_glyph\":null,\"nonselection_glyph\":{\"id\":\"28123599-a69d-48e2-b70b-e397480133db\",\"type\":\"Line\"},\"selection_glyph\":null,\"view\":{\"id\":\"601560c4-37a5-4901-829c-b887956511fe\",\"type\":\"CDSView\"}},\"id\":\"5a0e3f76-fc75-4123-9555-0f6e4a5eef12\",\"type\":\"GlyphRenderer\"},{\"attributes\":{\"line_alpha\":0.8,\"line_color\":\"grey\",\"x\":{\"field\":\"x\"},\"y\":{\"field\":\"y\"}},\"id\":\"5a4e5a04-47e7-4a48-bdce-b61b14945f54\",\"type\":\"Line\"},{\"attributes\":{\"source\":{\"id\":\"c6661850-8131-49f4-a6fa-0ed6172ae686\",\"type\":\"ColumnDataSource\"}},\"id\":\"601560c4-37a5-4901-829c-b887956511fe\",\"type\":\"CDSView\"},{\"attributes\":{\"line_alpha\":0.1,\"line_color\":\"#1f77b4\",\"x\":{\"field\":\"x\"},\"y\":{\"field\":\"y\"}},\"id\":\"c3ce69c6-b089-4341-b0cd-3e04b104628f\",\"type\":\"Line\"},{\"attributes\":{\"data_source\":{\"id\":\"6919de12-0481-48c9-8f7e-a83673480dc7\",\"type\":\"ColumnDataSource\"},\"glyph\":{\"id\":\"5a4e5a04-47e7-4a48-bdce-b61b14945f54\",\"type\":\"Line\"},\"hover_glyph\":null,\"muted_glyph\":null,\"nonselection_glyph\":{\"id\":\"c3ce69c6-b089-4341-b0cd-3e04b104628f\",\"type\":\"Line\"},\"selection_glyph\":null,\"view\":{\"id\":\"a729610d-0444-4b8e-8000-2c5c6e69aeed\",\"type\":\"CDSView\"}},\"id\":\"6d07355c-7349-44db-9945-3e162699f716\",\"type\":\"GlyphRenderer\"},{\"attributes\":{\"callback\":null,\"data\":{\"x\":[15.167,17,19,20.333],\"y\":[45.833,43,43.167,42.333]},\"selected\":{\"id\":\"69fba5ea-b4cd-4c97-81dd-ff906c453b8a\",\"type\":\"Selection\"},\"selection_policy\":{\"id\":\"5552629f-ebdf-4944-90aa-3c39b35e8d24\",\"type\":\"UnionRenderers\"}},\"id\":\"68210e35-35f6-415d-8ba7-3a1245da7602\",\"type\":\"ColumnDataSource\"},{\"attributes\":{\"line_alpha\":0.8,\"line_color\":\"grey\",\"x\":{\"field\":\"x\"},\"y\":{\"field\":\"y\"}},\"id\":\"e9d433b5-ac7d-429b-bcc1-8f6dddeb5902\",\"type\":\"Line\"},{\"attributes\":{\"source\":{\"id\":\"6919de12-0481-48c9-8f7e-a83673480dc7\",\"type\":\"ColumnDataSource\"}},\"id\":\"a729610d-0444-4b8e-8000-2c5c6e69aeed\",\"type\":\"CDSView\"},{\"attributes\":{\"line_alpha\":0.1,\"line_color\":\"#1f77b4\",\"x\":{\"field\":\"x\"},\"y\":{\"field\":\"y\"}},\"id\":\"dc98596f-b2e9-497c-a3fc-29638aed5cb0\",\"type\":\"Line\"},{\"attributes\":{\"callback\":null,\"data\":{\"x\":{\"__ndarray__\":\"AAAAAAAAIUAAAAAAAAAgQKuqqqqqqiFAAAAAAAAAIECrqqqqqqogQAAAAAAAACFAq6qqqqqqIECrqqqqqqogQFVVVVVVVSFAq6qqqqqqIUAAAAAAAAAhQA==\",\"dtype\":\"float64\",\"shape\":[11]},\"y\":{\"__ndarray__\":\"VVVVVVXVREAAAAAAAMBEQKuqqqqq6kRAAAAAAACgREAAAAAAAKBEQAAAAAAAgERAAAAAAACAREAAAAAAAGBEQFVVVVVVVURAVVVVVVU1RECrqqqqqgpEQA==\",\"dtype\":\"float64\",\"shape\":[11]}},\"selected\":{\"id\":\"98280c40-af60-4b65-ac7c-0c400f9f551f\",\"type\":\"Selection\"},\"selection_policy\":{\"id\":\"3fbe5f93-c1ca-4fb4-8090-c05760f304ae\",\"type\":\"UnionRenderers\"}},\"id\":\"2ff9060b-5b73-4a7d-a6e6-0ddd5ba231ec\",\"type\":\"ColumnDataSource\"},{\"attributes\":{\"data_source\":{\"id\":\"16454eb8-0962-4fc3-980b-e3f47d1f27ee\",\"type\":\"ColumnDataSource\"},\"glyph\":{\"id\":\"e9d433b5-ac7d-429b-bcc1-8f6dddeb5902\",\"type\":\"Line\"},\"hover_glyph\":null,\"muted_glyph\":null,\"nonselection_glyph\":{\"id\":\"dc98596f-b2e9-497c-a3fc-29638aed5cb0\",\"type\":\"Line\"},\"selection_glyph\":null,\"view\":{\"id\":\"c737a968-c300-4a80-9d81-99471998a87a\",\"type\":\"CDSView\"}},\"id\":\"47a775d2-7077-4fed-b8ff-d111d3c06232\",\"type\":\"GlyphRenderer\"},{\"attributes\":{\"callback\":null,\"data\":{\"x\":{\"__ndarray__\":\"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\",\"dtype\":\"float64\",\"shape\":[660]},\"y\":{\"__ndarray__\":\"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\",\"dtype\":\"float64\",\"shape\":[660]}},\"selected\":{\"id\":\"4ee586da-6275-4dc3-a9d7-db25abe62d17\",\"type\":\"Selection\"},\"selection_policy\":{\"id\":\"2edcb719-70bc-4ada-95d5-b0f8db1efdfd\",\"type\":\"UnionRenderers\"}},\"id\":\"5b38bd15-503c-4a54-95b3-1a88cbbc9018\",\"type\":\"ColumnDataSource\"},{\"attributes\":{\"source\":{\"id\":\"16454eb8-0962-4fc3-980b-e3f47d1f27ee\",\"type\":\"ColumnDataSource\"}},\"id\":\"c737a968-c300-4a80-9d81-99471998a87a\",\"type\":\"CDSView\"},{\"attributes\":{\"fill_alpha\":{\"value\":0.5},\"fill_color\":{\"value\":\"grey\"},\"line_alpha\":{\"value\":0},\"line_color\":{\"value\":\"grey\"},\"size\":{\"units\":\"screen\",\"value\":5},\"x\":{\"field\":\"x\"},\"y\":{\"field\":\"y\"}},\"id\":\"e90803df-dcd5-4ec9-ab3e-a92a31683465\",\"type\":\"Circle\"},{\"attributes\":{\"line_alpha\":0.8,\"line_color\":\"grey\",\"x\":{\"field\":\"x\"},\"y\":{\"field\":\"y\"}},\"id\":\"b8b7f137-e319-4701-b8f3-a7867568ddd1\",\"type\":\"Line\"},{\"attributes\":{\"fill_alpha\":{\"value\":0.1},\"fill_color\":{\"value\":\"#1f77b4\"},\"line_alpha\":{\"value\":0.1},\"line_color\":{\"value\":\"#1f77b4\"},\"size\":{\"units\":\"screen\",\"value\":5},\"x\":{\"field\":\"x\"},\"y\":{\"field\":\"y\"}},\"id\":\"b030a4b2-9272-47ab-b7c7-7ed437071827\",\"type\":\"Circle\"},{\"attributes\":{\"data_source\":{\"id\":\"5b38bd15-503c-4a54-95b3-1a88cbbc9018\",\"type\":\"ColumnDataSource\"},\"glyph\":{\"id\":\"e90803df-dcd5-4ec9-ab3e-a92a31683465\",\"type\":\"Circle\"},\"hover_glyph\":null,\"muted_glyph\":null,\"nonselection_glyph\":{\"id\":\"b030a4b2-9272-47ab-b7c7-7ed437071827\",\"type\":\"Circle\"},\"selection_glyph\":null,\"view\":{\"id\":\"348a7b5d-b917-4425-9fba-2136cedb0afe\",\"type\":\"CDSView\"}},\"id\":\"899f9726-5944-4500-942e-07f54b144c1a\",\"type\":\"GlyphRenderer\"},{\"attributes\":{\"line_alpha\":0.1,\"line_color\":\"#1f77b4\",\"x\":{\"field\":\"x\"},\"y\":{\"field\":\"y\"}},\"id\":\"e5b89e32-7bb6-4154-85d1-9bfdfd7f3e38\",\"type\":\"Line\"},{\"attributes\":{\"data_source\":{\"id\":\"68210e35-35f6-415d-8ba7-3a1245da7602\",\"type\":\"ColumnDataSource\"},\"glyph\":{\"id\":\"b8b7f137-e319-4701-b8f3-a7867568ddd1\",\"type\":\"Line\"},\"hover_glyph\":null,\"muted_glyph\":null,\"nonselection_glyph\":{\"id\":\"e5b89e32-7bb6-4154-85d1-9bfdfd7f3e38\",\"type\":\"Line\"},\"selection_glyph\":null,\"view\":{\"id\":\"c86bdd6a-6657-4daa-bed2-f871fe8ca19c\",\"type\":\"CDSView\"}},\"id\":\"275cecbf-f042-4202-ba2f-e7cc3f1af2cd\",\"type\":\"GlyphRenderer\"},{\"attributes\":{\"source\":{\"id\":\"5b38bd15-503c-4a54-95b3-1a88cbbc9018\",\"type\":\"ColumnDataSource\"}},\"id\":\"348a7b5d-b917-4425-9fba-2136cedb0afe\",\"type\":\"CDSView\"},{\"attributes\":{\"source\":{\"id\":\"68210e35-35f6-415d-8ba7-3a1245da7602\",\"type\":\"ColumnDataSource\"}},\"id\":\"c86bdd6a-6657-4daa-bed2-f871fe8ca19c\",\"type\":\"CDSView\"},{\"attributes\":{\"callback\":null,\"data\":{\"x\":{\"__ndarray__\":\"AAAAAAAAIUAAAAAAAAAgQKuqqqqqqiFAAAAAAAAAIECrqqqqqqogQAAAAAAAACFAq6qqqqqqIECrqqqqqqogQFVVVVVVVSFAq6qqqqqqIUAAAAAAAAAhQA==\",\"dtype\":\"float64\",\"shape\":[11]},\"y\":{\"__ndarray__\":\"VVVVVVXVREAAAAAAAMBEQKuqqqqq6kRAAAAAAACgREAAAAAAAKBEQAAAAAAAgERAAAAAAACAREAAAAAAAGBEQFVVVVVVVURAVVVVVVU1RECrqqqqqgpEQA==\",\"dtype\":\"float64\",\"shape\":[11]}},\"selected\":{\"id\":\"8994ef86-0c83-4f6b-8c73-23d7b9982514\",\"type\":\"Selection\"},\"selection_policy\":{\"id\":\"43c251c9-750a-4043-848b-09b2d0489491\",\"type\":\"UnionRenderers\"}},\"id\":\"0dd21166-6d36-4c6b-bf9d-185a408b8cc6\",\"type\":\"ColumnDataSource\"},{\"attributes\":{\"callback\":null,\"data\":{\"x\":{\"__ndarray__\":\"AAAAAAAAIUAAAAAAAAAgQKuqqqqqqiFAAAAAAAAAIECrqqqqqqohQFVVVVVVVSBAq6qqqqqqIUCrqqqqqqogQFVVVVVVVSFAq6qqqqqqIUAAAAAAAAAhQA==\",\"dtype\":\"float64\",\"shape\":[11]},\"y\":{\"__ndarray__\":\"VVVVVVXVREAAAAAAAMBEQKuqqqqq6kRAAAAAAACgREAAAAAAAGBEQAAAAAAAgERAAAAAAACAREAAAAAAAGBEQFVVVVVVVURAVVVVVVU1RECrqqqqqgpEQA==\",\"dtype\":\"float64\",\"shape\":[11]}},\"selected\":{\"id\":\"f1a17667-a529-4a18-9f10-8e8063718413\",\"type\":\"Selection\"},\"selection_policy\":{\"id\":\"b6e3521d-61bb-4c9b-9235-4fd6c29caf1f\",\"type\":\"UnionRenderers\"}},\"id\":\"0cf037d8-380c-4a31-b7d3-a17a7b37ce42\",\"type\":\"ColumnDataSource\"},{\"attributes\":{\"line_alpha\":0.5,\"line_color\":\"navy\",\"x\":{\"field\":\"x\"},\"y\":{\"field\":\"y\"}},\"id\":\"41d21f70-d16a-4be3-b330-8e7c9a09bd0d\",\"type\":\"Line\"},{\"attributes\":{\"callback\":null,\"data\":{\"x\":{\"__ndarray__\":\"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\",\"dtype\":\"float64\",\"shape\":[667]},\"y\":{\"__ndarray__\":\"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\",\"dtype\":\"float64\",\"shape\":[667]}},\"selected\":{\"id\":\"102f202c-9fdd-4837-a203-61e41a43e866\",\"type\":\"Selection\"},\"selection_policy\":{\"id\":\"09d89b3b-5069-4f0d-8424-4d91ae741021\",\"type\":\"UnionRenderers\"}},\"id\":\"ac60045f-b4ab-4496-8813-4ee81d3ce1a0\",\"type\":\"ColumnDataSource\"},{\"attributes\":{\"line_alpha\":0.1,\"line_color\":\"#1f77b4\",\"x\":{\"field\":\"x\"},\"y\":{\"field\":\"y\"}},\"id\":\"9a2c8e71-a50b-41eb-99aa-3edd7f19f860\",\"type\":\"Line\"},{\"attributes\":{\"data_source\":{\"id\":\"2ff9060b-5b73-4a7d-a6e6-0ddd5ba231ec\",\"type\":\"ColumnDataSource\"},\"glyph\":{\"id\":\"41d21f70-d16a-4be3-b330-8e7c9a09bd0d\",\"type\":\"Line\"},\"hover_glyph\":null,\"muted_glyph\":null,\"nonselection_glyph\":{\"id\":\"9a2c8e71-a50b-41eb-99aa-3edd7f19f860\",\"type\":\"Line\"},\"selection_glyph\":null,\"view\":{\"id\":\"7e52d968-8e03-4a06-832a-ace14ea9bd30\",\"type\":\"CDSView\"}},\"id\":\"b0cbdc6d-3fa0-4c3a-b537-ada234905656\",\"type\":\"GlyphRenderer\"},{\"attributes\":{\"line_alpha\":0.8,\"line_color\":\"grey\",\"x\":{\"field\":\"x\"},\"y\":{\"field\":\"y\"}},\"id\":\"66a62c31-62a8-45ae-a32d-b579969fc8d0\",\"type\":\"Line\"},{\"attributes\":{\"fill_alpha\":{\"value\":0.5},\"fill_color\":{\"value\":\"grey\"},\"line_alpha\":{\"value\":0},\"line_color\":{\"value\":\"grey\"},\"size\":{\"units\":\"screen\",\"value\":5},\"x\":{\"field\":\"x\"},\"y\":{\"field\":\"y\"}},\"id\":\"3e28b477-f035-4263-98b7-1fcda02ee534\",\"type\":\"Circle\"},{\"attributes\":{\"source\":{\"id\":\"2ff9060b-5b73-4a7d-a6e6-0ddd5ba231ec\",\"type\":\"ColumnDataSource\"}},\"id\":\"7e52d968-8e03-4a06-832a-ace14ea9bd30\",\"type\":\"CDSView\"},{\"attributes\":{\"fill_alpha\":{\"value\":0.1},\"fill_color\":{\"value\":\"#1f77b4\"},\"line_alpha\":{\"value\":0.1},\"line_color\":{\"value\":\"#1f77b4\"},\"size\":{\"units\":\"screen\",\"value\":5},\"x\":{\"field\":\"x\"},\"y\":{\"field\":\"y\"}},\"id\":\"14791f14-1048-4128-8c19-9a019dd9b298\",\"type\":\"Circle\"},{\"attributes\":{\"callback\":null,\"data\":{},\"selected\":{\"id\":\"b3eaed13-0dc6-4920-9c51-58bae253a7b1\",\"type\":\"Selection\"},\"selection_policy\":{\"id\":\"168ea52c-c54a-4131-83f5-940d034f5ba6\",\"type\":\"UnionRenderers\"}},\"id\":\"b49b8742-e528-413e-b174-bc14019814be\",\"type\":\"ColumnDataSource\"},{\"attributes\":{\"data_source\":{\"id\":\"ac60045f-b4ab-4496-8813-4ee81d3ce1a0\",\"type\":\"ColumnDataSource\"},\"glyph\":{\"id\":\"3e28b477-f035-4263-98b7-1fcda02ee534\",\"type\":\"Circle\"},\"hover_glyph\":null,\"muted_glyph\":null,\"nonselection_glyph\":{\"id\":\"14791f14-1048-4128-8c19-9a019dd9b298\",\"type\":\"Circle\"},\"selection_glyph\":null,\"view\":{\"id\":\"7ba43966-6e6d-43ac-80b3-1dbd2a26ea87\",\"type\":\"CDSView\"}},\"id\":\"ba65022e-f73e-41ac-84f1-c201d6590ff0\",\"type\":\"GlyphRenderer\"},{\"attributes\":{\"fill_color\":{\"value\":\"navy\"},\"line_color\":{\"value\":\"navy\"},\"size\":{\"units\":\"screen\",\"value\":5.5},\"x\":{\"field\":\"x\"},\"y\":{\"field\":\"y\"}},\"id\":\"2423b7fe-371c-480e-8381-10ef992f4b3e\",\"type\":\"Circle\"},{\"attributes\":{\"source\":{\"id\":\"ac60045f-b4ab-4496-8813-4ee81d3ce1a0\",\"type\":\"ColumnDataSource\"}},\"id\":\"7ba43966-6e6d-43ac-80b3-1dbd2a26ea87\",\"type\":\"CDSView\"},{\"attributes\":{\"fill_alpha\":{\"value\":0.1},\"fill_color\":{\"value\":\"#1f77b4\"},\"line_alpha\":{\"value\":0.1},\"line_color\":{\"value\":\"#1f77b4\"},\"size\":{\"units\":\"screen\",\"value\":5.5},\"x\":{\"field\":\"x\"},\"y\":{\"field\":\"y\"}},\"id\":\"d6ba59c3-10fd-48c5-b06c-09372afa4866\",\"type\":\"Circle\"},{\"attributes\":{\"data_source\":{\"id\":\"0dd21166-6d36-4c6b-bf9d-185a408b8cc6\",\"type\":\"ColumnDataSource\"},\"glyph\":{\"id\":\"2423b7fe-371c-480e-8381-10ef992f4b3e\",\"type\":\"Circle\"},\"hover_glyph\":null,\"muted_glyph\":null,\"nonselection_glyph\":{\"id\":\"d6ba59c3-10fd-48c5-b06c-09372afa4866\",\"type\":\"Circle\"},\"selection_glyph\":null,\"view\":{\"id\":\"ba820890-82c1-4fe6-a49d-f1b8a828c274\",\"type\":\"CDSView\"}},\"id\":\"ef6d226e-29b5-41cf-b246-191d3cb07709\",\"type\":\"GlyphRenderer\"},{\"attributes\":{\"callback\":null,\"data\":{\"x\":{\"__ndarray__\":\"AAAAAAAAIUAAAAAAAAAgQKuqqqqqqiFAAAAAAAAAIECrqqqqqqohQFVVVVVVVSBAq6qqqqqqIUCrqqqqqqogQFVVVVVVVSFAq6qqqqqqIUAAAAAAAAAhQA==\",\"dtype\":\"float64\",\"shape\":[11]},\"y\":{\"__ndarray__\":\"VVVVVVXVREAAAAAAAMBEQKuqqqqq6kRAAAAAAACgREAAAAAAAGBEQAAAAAAAgERAAAAAAACAREAAAAAAAGBEQFVVVVVVVURAVVVVVVU1RECrqqqqqgpEQA==\",\"dtype\":\"float64\",\"shape\":[11]}},\"selected\":{\"id\":\"25984e52-b640-47d6-abf0-672dc18a0fdc\",\"type\":\"Selection\"},\"selection_policy\":{\"id\":\"434e4b8d-2d84-4047-ae2f-329b25d3af09\",\"type\":\"UnionRenderers\"}},\"id\":\"a1bbe3da-875d-4472-ac0b-c4dcc954588e\",\"type\":\"ColumnDataSource\"},{\"attributes\":{\"line_alpha\":0.5,\"line_color\":\"navy\",\"x\":{\"field\":\"x\"},\"y\":{\"field\":\"y\"}},\"id\":\"099ab792-5187-49c4-9756-032ac52e9121\",\"type\":\"Line\"},{\"attributes\":{\"source\":{\"id\":\"0dd21166-6d36-4c6b-bf9d-185a408b8cc6\",\"type\":\"ColumnDataSource\"}},\"id\":\"ba820890-82c1-4fe6-a49d-f1b8a828c274\",\"type\":\"CDSView\"},{\"attributes\":{\"children\":[{\"id\":\"ead1ed91-6409-408d-bd62-4d8222e97813\",\"subtype\":\"Figure\",\"type\":\"Plot\"},{\"id\":\"ad6e0c74-fb97-42dc-9b80-4acae4df954b\",\"subtype\":\"Figure\",\"type\":\"Plot\"}]},\"id\":\"e63fe958-ff6d-4b42-8c7c-34799c276ccb\",\"type\":\"Row\"},{\"attributes\":{\"line_alpha\":0.1,\"line_color\":\"#1f77b4\",\"x\":{\"field\":\"x\"},\"y\":{\"field\":\"y\"}},\"id\":\"628c3b8d-4b8f-44a0-a1d8-d15d99a0fe9d\",\"type\":\"Line\"},{\"attributes\":{\"data_source\":{\"id\":\"0cf037d8-380c-4a31-b7d3-a17a7b37ce42\",\"type\":\"ColumnDataSource\"},\"glyph\":{\"id\":\"099ab792-5187-49c4-9756-032ac52e9121\",\"type\":\"Line\"},\"hover_glyph\":null,\"muted_glyph\":null,\"nonselection_glyph\":{\"id\":\"628c3b8d-4b8f-44a0-a1d8-d15d99a0fe9d\",\"type\":\"Line\"},\"selection_glyph\":null,\"view\":{\"id\":\"ec0d8b72-2c61-45c7-9912-9e7939b316d9\",\"type\":\"CDSView\"}},\"id\":\"98e2d752-c70e-483d-8035-95aa67b313de\",\"type\":\"GlyphRenderer\"},{\"attributes\":{\"fill_alpha\":{\"value\":0.7},\"fill_color\":{\"value\":\"green\"},\"inner_radius\":{\"units\":\"data\",\"value\":0.06},\"line_alpha\":{\"value\":0},\"line_color\":{\"value\":\"green\"},\"outer_radius\":{\"units\":\"data\",\"value\":0.1},\"x\":{\"value\":8.833333333333334},\"y\":{\"value\":41.833333333333336}},\"id\":\"dad7f4eb-d45a-4f2f-98f6-70977ce2112e\",\"type\":\"Annulus\"},{\"attributes\":{\"source\":{\"id\":\"0cf037d8-380c-4a31-b7d3-a17a7b37ce42\",\"type\":\"ColumnDataSource\"}},\"id\":\"ec0d8b72-2c61-45c7-9912-9e7939b316d9\",\"type\":\"CDSView\"},{\"attributes\":{\"fill_alpha\":{\"value\":0.1},\"fill_color\":{\"value\":\"#1f77b4\"},\"inner_radius\":{\"units\":\"data\",\"value\":0.06},\"line_alpha\":{\"value\":0.1},\"line_color\":{\"value\":\"#1f77b4\"},\"outer_radius\":{\"units\":\"data\",\"value\":0.1},\"x\":{\"value\":8.833333333333334},\"y\":{\"value\":41.833333333333336}},\"id\":\"8c52728b-5ead-4bea-8096-027525fad75c\",\"type\":\"Annulus\"},{\"attributes\":{\"data_source\":{\"id\":\"b49b8742-e528-413e-b174-bc14019814be\",\"type\":\"ColumnDataSource\"},\"glyph\":{\"id\":\"dad7f4eb-d45a-4f2f-98f6-70977ce2112e\",\"type\":\"Annulus\"},\"hover_glyph\":null,\"muted_glyph\":null,\"nonselection_glyph\":{\"id\":\"8c52728b-5ead-4bea-8096-027525fad75c\",\"type\":\"Annulus\"},\"selection_glyph\":null,\"view\":{\"id\":\"f6a454a6-790e-41c7-a36e-321b6d518df5\",\"type\":\"CDSView\"}},\"id\":\"cd3ecf8a-3009-46e0-94f7-13de68c62387\",\"type\":\"GlyphRenderer\"},{\"attributes\":{\"fill_alpha\":{\"value\":0.7},\"fill_color\":{\"value\":\"green\"},\"inner_radius\":{\"units\":\"data\",\"value\":0.06},\"line_alpha\":{\"value\":0},\"line_color\":{\"value\":\"green\"},\"outer_radius\":{\"units\":\"data\",\"value\":0.1},\"x\":{\"value\":8.833333333333334},\"y\":{\"value\":41.833333333333336}},\"id\":\"4e9a9297-916d-45fd-8029-cf9cadeecc13\",\"type\":\"Annulus\"},{\"attributes\":{\"fill_color\":{\"value\":\"navy\"},\"line_color\":{\"value\":\"navy\"},\"size\":{\"units\":\"screen\",\"value\":5.5},\"x\":{\"field\":\"x\"},\"y\":{\"field\":\"y\"}},\"id\":\"f2fa8d4a-f3bc-45ac-858c-bb44126ac965\",\"type\":\"Circle\"},{\"attributes\":{\"source\":{\"id\":\"b49b8742-e528-413e-b174-bc14019814be\",\"type\":\"ColumnDataSource\"}},\"id\":\"f6a454a6-790e-41c7-a36e-321b6d518df5\",\"type\":\"CDSView\"},{\"attributes\":{\"fill_alpha\":{\"value\":0.1},\"fill_color\":{\"value\":\"#1f77b4\"},\"line_alpha\":{\"value\":0.1},\"line_color\":{\"value\":\"#1f77b4\"},\"size\":{\"units\":\"screen\",\"value\":5.5},\"x\":{\"field\":\"x\"},\"y\":{\"field\":\"y\"}},\"id\":\"c00e4a67-5197-43bb-82d1-150dd6f16e3c\",\"type\":\"Circle\"},{\"attributes\":{\"data_source\":{\"id\":\"a1bbe3da-875d-4472-ac0b-c4dcc954588e\",\"type\":\"ColumnDataSource\"},\"glyph\":{\"id\":\"f2fa8d4a-f3bc-45ac-858c-bb44126ac965\",\"type\":\"Circle\"},\"hover_glyph\":null,\"muted_glyph\":null,\"nonselection_glyph\":{\"id\":\"c00e4a67-5197-43bb-82d1-150dd6f16e3c\",\"type\":\"Circle\"},\"selection_glyph\":null,\"view\":{\"id\":\"7bc14450-da23-4b1a-9462-137301f09223\",\"type\":\"CDSView\"}},\"id\":\"14e14ae4-c72c-496d-8bb9-d56bd224e06f\",\"type\":\"GlyphRenderer\"},{\"attributes\":{},\"id\":\"efd5c3cb-76fa-45e6-a598-8c291f4e73b2\",\"type\":\"BasicTickFormatter\"},{\"attributes\":{\"source\":{\"id\":\"a1bbe3da-875d-4472-ac0b-c4dcc954588e\",\"type\":\"ColumnDataSource\"}},\"id\":\"7bc14450-da23-4b1a-9462-137301f09223\",\"type\":\"CDSView\"},{\"attributes\":{\"below\":[{\"id\":\"f240912d-9b15-4d65-b52c-ab7e77be5d9f\",\"type\":\"LinearAxis\"}],\"left\":[{\"id\":\"30269954-7fac-4495-b974-03febcd8a769\",\"type\":\"LinearAxis\"}],\"plot_height\":500,\"plot_width\":500,\"renderers\":[{\"id\":\"f240912d-9b15-4d65-b52c-ab7e77be5d9f\",\"type\":\"LinearAxis\"},{\"id\":\"be3cf1db-9f81-48c2-8ca7-5df4ba79f070\",\"type\":\"Grid\"},{\"id\":\"30269954-7fac-4495-b974-03febcd8a769\",\"type\":\"LinearAxis\"},{\"id\":\"07e1bdb8-4b14-476a-81ec-5511c884edb5\",\"type\":\"Grid\"},{\"id\":\"cd9c64d7-0237-479d-9553-c8914df51f57\",\"type\":\"BoxAnnotation\"},{\"id\":\"538fea93-3c2c-46d3-8779-3895aa5ab597\",\"type\":\"GlyphRenderer\"},{\"id\":\"5adaa5a0-c103-42cf-8b25-6537480cddd1\",\"type\":\"GlyphRenderer\"},{\"id\":\"afe9736c-1de2-4afb-bb3c-0e403aba91b5\",\"type\":\"GlyphRenderer\"},{\"id\":\"6d07355c-7349-44db-9945-3e162699f716\",\"type\":\"GlyphRenderer\"},{\"id\":\"899f9726-5944-4500-942e-07f54b144c1a\",\"type\":\"GlyphRenderer\"},{\"id\":\"b0cbdc6d-3fa0-4c3a-b537-ada234905656\",\"type\":\"GlyphRenderer\"},{\"id\":\"ef6d226e-29b5-41cf-b246-191d3cb07709\",\"type\":\"GlyphRenderer\"},{\"id\":\"cd3ecf8a-3009-46e0-94f7-13de68c62387\",\"type\":\"GlyphRenderer\"}],\"title\":{\"id\":\"653ec6e6-d2ee-4f88-a24b-e0674e262702\",\"type\":\"Title\"},\"toolbar\":{\"id\":\"a498a8a0-3cad-4b76-abf1-4178e5a3d016\",\"type\":\"Toolbar\"},\"x_range\":{\"id\":\"6003205a-bf3a-44eb-a9d3-a5623d8b112c\",\"type\":\"Range1d\"},\"x_scale\":{\"id\":\"b77456af-db2a-4e94-a4e4-7845f853b2ac\",\"type\":\"LinearScale\"},\"y_range\":{\"id\":\"0ca9b8a2-b1f2-46fa-afa8-e6336fb02de6\",\"type\":\"Range1d\"},\"y_scale\":{\"id\":\"733055ac-f93a-47a1-a561-3072a1827ae0\",\"type\":\"LinearScale\"}},\"id\":\"ad6e0c74-fb97-42dc-9b80-4acae4df954b\",\"subtype\":\"Figure\",\"type\":\"Plot\"},{\"attributes\":{},\"id\":\"1be943f7-7a0a-44b7-85e3-b705516c3904\",\"type\":\"BasicTickFormatter\"},{\"attributes\":{},\"id\":\"82bf715d-2087-4edb-b0c9-f721954d8d65\",\"type\":\"BasicTickFormatter\"},{\"attributes\":{\"fill_alpha\":{\"value\":0.1},\"fill_color\":{\"value\":\"#1f77b4\"},\"inner_radius\":{\"units\":\"data\",\"value\":0.06},\"line_alpha\":{\"value\":0.1},\"line_color\":{\"value\":\"#1f77b4\"},\"outer_radius\":{\"units\":\"data\",\"value\":0.1},\"x\":{\"value\":8.833333333333334},\"y\":{\"value\":41.833333333333336}},\"id\":\"dc8b6ced-05a2-4d1b-be2d-1f37a14f420b\",\"type\":\"Annulus\"},{\"attributes\":{},\"id\":\"9558deef-5913-4d3c-b605-4c6250e2d171\",\"type\":\"Selection\"},{\"attributes\":{\"data_source\":{\"id\":\"8908e828-5625-428d-a6a5-d22c3984a64b\",\"type\":\"ColumnDataSource\"},\"glyph\":{\"id\":\"4e9a9297-916d-45fd-8029-cf9cadeecc13\",\"type\":\"Annulus\"},\"hover_glyph\":null,\"muted_glyph\":null,\"nonselection_glyph\":{\"id\":\"dc8b6ced-05a2-4d1b-be2d-1f37a14f420b\",\"type\":\"Annulus\"},\"selection_glyph\":null,\"view\":{\"id\":\"e3462643-82bc-4b40-a24c-da69031d7ce8\",\"type\":\"CDSView\"}},\"id\":\"49627865-4a62-4eca-9ab6-6426bcea8359\",\"type\":\"GlyphRenderer\"},{\"attributes\":{},\"id\":\"f75f49d8-4de4-4a45-b19a-2f6e8a4fabd7\",\"type\":\"UnionRenderers\"},{\"attributes\":{\"source\":{\"id\":\"8908e828-5625-428d-a6a5-d22c3984a64b\",\"type\":\"ColumnDataSource\"}},\"id\":\"e3462643-82bc-4b40-a24c-da69031d7ce8\",\"type\":\"CDSView\"},{\"attributes\":{},\"id\":\"f8cb60c8-df97-4c9d-bc26-d5ac96e7d129\",\"type\":\"UnionRenderers\"},{\"attributes\":{\"callback\":null,\"data\":{},\"selected\":{\"id\":\"d4b6d15a-f289-4f6b-b247-9c6fc80cc278\",\"type\":\"Selection\"},\"selection_policy\":{\"id\":\"26b35c49-a8cf-42e2-be40-d6e5971f6fd6\",\"type\":\"UnionRenderers\"}},\"id\":\"8908e828-5625-428d-a6a5-d22c3984a64b\",\"type\":\"ColumnDataSource\"},{\"attributes\":{},\"id\":\"546b2d7d-9f27-47fd-b5e3-fb25fa18d2ac\",\"type\":\"Selection\"},{\"attributes\":{\"plot\":null,\"text\":\"Omega Recension\"},\"id\":\"653ec6e6-d2ee-4f88-a24b-e0674e262702\",\"type\":\"Title\"},{\"attributes\":{},\"id\":\"31a15212-d65b-4300-b4be-b22803356d56\",\"type\":\"UnionRenderers\"},{\"attributes\":{\"callback\":null,\"end\":10.5,\"start\":4.5},\"id\":\"6003205a-bf3a-44eb-a9d3-a5623d8b112c\",\"type\":\"Range1d\"},{\"attributes\":{},\"id\":\"8a725ee0-dd86-4928-8b81-6b5adc0d1285\",\"type\":\"BasicTickFormatter\"},{\"attributes\":{},\"id\":\"411214d2-23d6-45ff-8b3b-fc439fb431e2\",\"type\":\"Selection\"},{\"attributes\":{\"active_drag\":\"auto\",\"active_inspect\":\"auto\",\"active_multi\":null,\"active_scroll\":\"auto\",\"active_tap\":\"auto\",\"tools\":[{\"id\":\"c62e6c89-9a7c-4b78-8683-d87e71d493e8\",\"type\":\"PanTool\"},{\"id\":\"886cbf4a-2ea4-4533-bdec-e5b5b8df1918\",\"type\":\"WheelZoomTool\"},{\"id\":\"42915696-14ae-4d0d-a10e-59d5ce027877\",\"type\":\"BoxZoomTool\"},{\"id\":\"87c67b86-4f02-4048-abb9-ee15130f5b9d\",\"type\":\"SaveTool\"},{\"id\":\"2702a309-2efc-40c9-9671-e3dbdf62a104\",\"type\":\"ResetTool\"},{\"id\":\"f9461d94-0552-4b71-931e-9b93ebe1d0a2\",\"type\":\"HelpTool\"}]},\"id\":\"a498a8a0-3cad-4b76-abf1-4178e5a3d016\",\"type\":\"Toolbar\"},{\"attributes\":{},\"id\":\"f72ae920-93c3-49ca-8c01-668c52032c47\",\"type\":\"UnionRenderers\"},{\"attributes\":{},\"id\":\"69fba5ea-b4cd-4c97-81dd-ff906c453b8a\",\"type\":\"Selection\"},{\"attributes\":{},\"id\":\"b77456af-db2a-4e94-a4e4-7845f853b2ac\",\"type\":\"LinearScale\"},{\"attributes\":{\"callback\":null,\"data\":{\"x\":[4.083,6.333,9,12],\"y\":[37.667,39,39,37.25]},\"selected\":{\"id\":\"546b2d7d-9f27-47fd-b5e3-fb25fa18d2ac\",\"type\":\"Selection\"},\"selection_policy\":{\"id\":\"31a15212-d65b-4300-b4be-b22803356d56\",\"type\":\"UnionRenderers\"}},\"id\":\"c6661850-8131-49f4-a6fa-0ed6172ae686\",\"type\":\"ColumnDataSource\"},{\"attributes\":{},\"id\":\"5552629f-ebdf-4944-90aa-3c39b35e8d24\",\"type\":\"UnionRenderers\"},{\"attributes\":{\"callback\":null,\"end\":43,\"start\":40},\"id\":\"0ca9b8a2-b1f2-46fa-afa8-e6336fb02de6\",\"type\":\"Range1d\"},{\"attributes\":{},\"id\":\"102f202c-9fdd-4837-a203-61e41a43e866\",\"type\":\"Selection\"},{\"attributes\":{\"plot\":null,\"text\":\"Xi Recension\"},\"id\":\"5d2af143-d963-4b3f-a5f7-d80bb09444b4\",\"type\":\"Title\"},{\"attributes\":{},\"id\":\"733055ac-f93a-47a1-a561-3072a1827ae0\",\"type\":\"LinearScale\"},{\"attributes\":{},\"id\":\"09d89b3b-5069-4f0d-8424-4d91ae741021\",\"type\":\"UnionRenderers\"},{\"attributes\":{\"plot\":{\"id\":\"ad6e0c74-fb97-42dc-9b80-4acae4df954b\",\"subtype\":\"Figure\",\"type\":\"Plot\"},\"ticker\":{\"id\":\"edbb72e1-3dff-4886-9d83-9219aea12f5f\",\"type\":\"BasicTicker\"}},\"id\":\"be3cf1db-9f81-48c2-8ca7-5df4ba79f070\",\"type\":\"Grid\"},{\"attributes\":{},\"id\":\"f1a17667-a529-4a18-9f10-8e8063718413\",\"type\":\"Selection\"},{\"attributes\":{\"formatter\":{\"id\":\"efd5c3cb-76fa-45e6-a598-8c291f4e73b2\",\"type\":\"BasicTickFormatter\"},\"plot\":{\"id\":\"ad6e0c74-fb97-42dc-9b80-4acae4df954b\",\"subtype\":\"Figure\",\"type\":\"Plot\"},\"ticker\":{\"id\":\"edbb72e1-3dff-4886-9d83-9219aea12f5f\",\"type\":\"BasicTicker\"}},\"id\":\"f240912d-9b15-4d65-b52c-ab7e77be5d9f\",\"type\":\"LinearAxis\"},{\"attributes\":{},\"id\":\"b6e3521d-61bb-4c9b-9235-4fd6c29caf1f\",\"type\":\"UnionRenderers\"},{\"attributes\":{\"callback\":null,\"end\":10.5,\"start\":4.5},\"id\":\"7cdc9bc0-d79d-413d-a0da-b8a39215b55f\",\"type\":\"Range1d\"},{\"attributes\":{},\"id\":\"edbb72e1-3dff-4886-9d83-9219aea12f5f\",\"type\":\"BasicTicker\"},{\"attributes\":{},\"id\":\"25984e52-b640-47d6-abf0-672dc18a0fdc\",\"type\":\"Selection\"},{\"attributes\":{},\"id\":\"657d65f9-e18b-42a8-8758-df44df839add\",\"type\":\"Selection\"},{\"attributes\":{\"formatter\":{\"id\":\"1be943f7-7a0a-44b7-85e3-b705516c3904\",\"type\":\"BasicTickFormatter\"},\"plot\":{\"id\":\"ad6e0c74-fb97-42dc-9b80-4acae4df954b\",\"subtype\":\"Figure\",\"type\":\"Plot\"},\"ticker\":{\"id\":\"49f23778-2031-4c5a-bbc0-632e1ae6bda7\",\"type\":\"BasicTicker\"}},\"id\":\"30269954-7fac-4495-b974-03febcd8a769\",\"type\":\"LinearAxis\"},{\"attributes\":{},\"id\":\"434e4b8d-2d84-4047-ae2f-329b25d3af09\",\"type\":\"UnionRenderers\"},{\"attributes\":{\"active_drag\":\"auto\",\"active_inspect\":\"auto\",\"active_multi\":null,\"active_scroll\":\"auto\",\"active_tap\":\"auto\",\"tools\":[{\"id\":\"d8414e03-dac7-4463-ab12-3df3c04b6cba\",\"type\":\"PanTool\"},{\"id\":\"51742c19-9d4e-473b-a18f-b79d65945475\",\"type\":\"WheelZoomTool\"},{\"id\":\"fc468374-ab51-4801-8472-ec6a6ff84b35\",\"type\":\"BoxZoomTool\"},{\"id\":\"caea6c68-d092-4815-ae20-5c11fddf6267\",\"type\":\"SaveTool\"},{\"id\":\"71f452ab-f7ec-4c06-bf23-f7b4d63b86e8\",\"type\":\"ResetTool\"},{\"id\":\"52a32511-6f5c-44fe-a221-25ca2bc2c7b1\",\"type\":\"HelpTool\"}]},\"id\":\"fe8d6505-0aa0-4af2-81a5-fb88fc8caf0e\",\"type\":\"Toolbar\"},{\"attributes\":{},\"id\":\"49f23778-2031-4c5a-bbc0-632e1ae6bda7\",\"type\":\"BasicTicker\"},{\"attributes\":{},\"id\":\"d4b6d15a-f289-4f6b-b247-9c6fc80cc278\",\"type\":\"Selection\"},{\"attributes\":{},\"id\":\"26d50388-b807-419c-adfc-914f3b5be2e8\",\"type\":\"LinearScale\"},{\"attributes\":{\"dimension\":1,\"plot\":{\"id\":\"ad6e0c74-fb97-42dc-9b80-4acae4df954b\",\"subtype\":\"Figure\",\"type\":\"Plot\"},\"ticker\":{\"id\":\"49f23778-2031-4c5a-bbc0-632e1ae6bda7\",\"type\":\"BasicTicker\"}},\"id\":\"07e1bdb8-4b14-476a-81ec-5511c884edb5\",\"type\":\"Grid\"},{\"attributes\":{},\"id\":\"26b35c49-a8cf-42e2-be40-d6e5971f6fd6\",\"type\":\"UnionRenderers\"},{\"attributes\":{},\"id\":\"1f554225-3619-4cb3-bbdb-2d62bcd5ad0b\",\"type\":\"LinearScale\"},{\"attributes\":{\"callback\":null,\"end\":43,\"start\":40},\"id\":\"2f9e302d-4666-4818-bb0c-63900ff36e29\",\"type\":\"Range1d\"}],\"root_ids\":[\"e63fe958-ff6d-4b42-8c7c-34799c276ccb\"]},\"title\":\"Bokeh Application\",\"version\":\"0.13.0\"}};\n",
       "  var render_items = [{\"docid\":\"648af2b8-a181-4c7e-a829-675079dcc3a5\",\"roots\":{\"e63fe958-ff6d-4b42-8c7c-34799c276ccb\":\"7305d1ca-db02-449c-ac58-d5176514f32f\"}}];\n",
       "  root.Bokeh.embed.embed_items_notebook(docs_json, render_items);\n",
       "\n",
       "  }\n",
       "  if (root.Bokeh !== undefined) {\n",
       "    embed_document(root);\n",
       "  } else {\n",
       "    var attempts = 0;\n",
       "    var timer = setInterval(function(root) {\n",
       "      if (root.Bokeh !== undefined) {\n",
       "        embed_document(root);\n",
       "        clearInterval(timer);\n",
       "      }\n",
       "      attempts++;\n",
       "      if (attempts > 100) {\n",
       "        console.log(\"Bokeh: ERROR: Unable to run BokehJS code because BokehJS library is missing\")\n",
       "        clearInterval(timer);\n",
       "      }\n",
       "    }, 10, root)\n",
       "  }\n",
       "})(window);"
      ],
      "application/vnd.bokehjs_exec.v0+json": ""
     },
     "metadata": {
      "application/vnd.bokehjs_exec.v0+json": {
       "id": "e63fe958-ff6d-4b42-8c7c-34799c276ccb"
      }
     },
     "output_type": "display_data"
    }
   ],
   "source": [
    "# drawing of the coast\n",
    "g = dfXi[(dfXi.type_sec == 'coast section') & (dfXi.type == 'locality') & dfXi.category.apply(lambda row: row not in ['boundary','river path','river source'])][['longitude_Xi','latitude_Xi']]\n",
    "h = dfOmega[(dfOmega.type_sec == 'coast section') & (dfOmega.type == 'locality') & dfOmega.category.apply(lambda row: row not in ['boundary','river path','river source'])][['longitude_Omega','latitude_Omega']]\n",
    "\n",
    "p = figure(title=\"Xi Recension\", x_axis_label='', y_axis_label='',plot_width=500, plot_height=500,x_range=(4.5,10.5), y_range=(40,43))\n",
    "p.line(x=g['longitude_Xi'],y=g['latitude_Xi'],line_alpha=0.8, color='grey')\n",
    "p.line([4.083,6.333,9,12], [37.667,39,39,37.25], line_alpha=0.8, color='grey')\n",
    "p.line([5.333,9.333,9,9], [41.833,41.833,40.5,39], line_alpha=0.8, color='grey')\n",
    "p.line([15.167,17,19,20.333], [45.833,43,43.167,42.333], line_alpha=0.8, color='grey')\n",
    "p.circle(dfXi['longitude_Xi'],dfXi['latitude_Xi'],size=5, fill_color='grey', fill_alpha=0.5, line_color='grey',line_alpha=0)\n",
    "p.line(dfVett['longitude_Xi'],dfVett['latitude_Xi'], line_color='navy',line_alpha=0.5)\n",
    "p.circle(x=dfVett[\"longitude_Xi\"],y=dfVett[\"latitude_Xi\"],color='navy',size=5.5)\n",
    "p.annulus(dfXi.loc['2.05.09.04',\"longitude_Xi\"],dfXi.loc['2.05.09.04',\"latitude_Xi\"],fill_color='green',inner_radius=0.06, outer_radius=0.1,fill_alpha=0.7,line_color='green',line_alpha=0)\n",
    "\n",
    "q = figure(title=\"Omega Recension\", x_axis_label='', y_axis_label='',plot_width=500, plot_height=500,x_range=(4.5,10.5), y_range=(40,43))\n",
    "q.line(x=h['longitude_Omega'],y=h['latitude_Omega'],line_alpha=0.8, color='grey')\n",
    "q.line([4.083,6.333,9,12], [37.667,39,39,37.25], line_alpha=0.8, color='grey')\n",
    "q.line([5.333,9.167,9,9], [41.833,41.333,40.167,39], line_alpha=0.8, color='grey')\n",
    "q.line([15,17,19,20.333], [45.833,43,43.167,42.333], line_alpha=0.8, color='grey')\n",
    "q.circle(dfOmega['longitude_Omega'],dfOmega['latitude_Omega'],size=5, fill_color='grey', fill_alpha=0.5, line_color='grey',line_alpha=0)\n",
    "q.line(dfVett['longitude_Omega'],dfVett['latitude_Omega'], line_color='navy',line_alpha=0.5)\n",
    "q.circle(x=dfVett[\"longitude_Omega\"],y=dfVett[\"latitude_Omega\"],color='navy',size=5.5)\n",
    "q.annulus(dfVett.loc['2.05.09.04',\"longitude_Omega\"],dfVett.loc['2.05.09.04',\"latitude_Omega\"],fill_color='green',inner_radius=0.06, outer_radius=0.1,fill_alpha=0.7,line_color='green',line_alpha=0)\n",
    "\n",
    "show(row(p,q));"
   ]
  },
  {
   "cell_type": "markdown",
   "metadata": {
    "pycharm": {}
   },
   "source": [
    "##### Proposition of conjecture"
   ]
  },
  {
   "cell_type": "markdown",
   "metadata": {
    "extensions": {
     "jupyter_dashboards": {
      "version": 1,
      "views": {
       "grid_default": {
        "col": 0,
        "height": 4,
        "hidden": false,
        "row": 154,
        "width": 12
       },
       "report_default": {
        "hidden": false
       }
      }
     }
    },
    "nbpresent": {
     "id": "9d090108-4694-4806-96f4-fb50e0a80f96"
    },
    "pycharm": {}
   },
   "source": [
    "The latitude of Salmantica is 41°50' (μα Lγ'), where only the fraction part is certainly corrupted. We have already seen with the cases of Ocelum and Manliana that this number of minutes (Lγ) is involved in several scribal issues in the list of the Vettonian localities. If the latitude of Salmantica must respect Ptolemy's spatial ordering priciple, this city should be situated in latitude between Cottaeobriga and Augustobriga, that is, between 41°30' included and 41°20' included. In other words, the archetypal value was maybe L (30'), γιβ (25') or γ (20'). Readings L and γ are good candidates as they are graphically very close to Lγ and differ by only one sign from the \"corrupted\" value. I chose 30' because it is the most frequent value."
   ]
  },
  {
   "cell_type": "code",
   "execution_count": 14,
   "metadata": {
    "pycharm": {}
   },
   "outputs": [],
   "source": [
    "dfVettR.loc['2.05.09.04','latitude_r']=41.500"
   ]
  },
  {
   "cell_type": "markdown",
   "metadata": {
    "pycharm": {}
   },
   "source": [
    "### Result"
   ]
  },
  {
   "cell_type": "markdown",
   "metadata": {
    "pycharm": {}
   },
   "source": [
    "#### Plot"
   ]
  },
  {
   "cell_type": "code",
   "execution_count": 15,
   "metadata": {
    "pycharm": {}
   },
   "outputs": [
    {
     "data": {
      "text/html": [
       "\n",
       "\n",
       "\n",
       "\n",
       "\n",
       "\n",
       "  <div class=\"bk-root\" id=\"364dc570-b509-4afb-b2c2-f8035f4b7527\"></div>\n"
      ]
     },
     "metadata": {},
     "output_type": "display_data"
    },
    {
     "data": {
      "application/javascript": [
       "(function(root) {\n",
       "  function embed_document(root) {\n",
       "    \n",
       "  var docs_json = {\"684c3509-d398-4f39-9b9f-4a9de1bbe291\":{\"roots\":{\"references\":[{\"attributes\":{\"dimension\":1,\"plot\":{\"id\":\"e56e5754-5efe-446d-9610-ab57278ef311\",\"subtype\":\"Figure\",\"type\":\"Plot\"},\"ticker\":{\"id\":\"4c18d2cc-d0c1-4b31-a97b-f3e7f9036d3c\",\"type\":\"BasicTicker\"}},\"id\":\"7166aded-24d6-4fd1-ac3b-e47e927e9487\",\"type\":\"Grid\"},{\"attributes\":{\"bottom_units\":\"screen\",\"fill_alpha\":{\"value\":0.5},\"fill_color\":{\"value\":\"lightgrey\"},\"left_units\":\"screen\",\"level\":\"overlay\",\"line_alpha\":{\"value\":1.0},\"line_color\":{\"value\":\"black\"},\"line_dash\":[4,4],\"line_width\":{\"value\":2},\"plot\":null,\"render_mode\":\"css\",\"right_units\":\"screen\",\"top_units\":\"screen\"},\"id\":\"2a38e9b5-346d-491e-8820-395c5206319e\",\"type\":\"BoxAnnotation\"},{\"attributes\":{\"fill_alpha\":{\"value\":0.1},\"fill_color\":{\"value\":\"#1f77b4\"},\"line_alpha\":{\"value\":0.1},\"line_color\":{\"value\":\"#1f77b4\"},\"size\":{\"units\":\"screen\",\"value\":6},\"x\":{\"field\":\"x\"},\"y\":{\"field\":\"y\"}},\"id\":\"591ac927-75a9-4ad0-a812-957e66fab19b\",\"type\":\"Circle\"},{\"attributes\":{\"line_alpha\":0.6,\"x\":{\"field\":\"x\"},\"y\":{\"field\":\"y\"}},\"id\":\"5b73af8f-95a3-4478-8bb8-fedfaab00711\",\"type\":\"Line\"},{\"attributes\":{\"fill_color\":{\"value\":\"grey\"},\"size\":{\"units\":\"screen\",\"value\":6},\"x\":{\"field\":\"x\"},\"y\":{\"field\":\"y\"}},\"id\":\"1228febc-c96f-4fe3-86e9-174474af999f\",\"type\":\"Circle\"},{\"attributes\":{\"data_source\":{\"id\":\"bdf70326-f764-4b7e-8920-cc8fe38d27a9\",\"type\":\"ColumnDataSource\"},\"glyph\":{\"id\":\"1228febc-c96f-4fe3-86e9-174474af999f\",\"type\":\"Circle\"},\"hover_glyph\":null,\"muted_glyph\":null,\"nonselection_glyph\":{\"id\":\"591ac927-75a9-4ad0-a812-957e66fab19b\",\"type\":\"Circle\"},\"selection_glyph\":null,\"view\":{\"id\":\"e316fa71-9fd2-4ab1-8837-f35414c94178\",\"type\":\"CDSView\"}},\"id\":\"453fd695-ac48-49d1-a162-910325621959\",\"type\":\"GlyphRenderer\"},{\"attributes\":{\"source\":{\"id\":\"0b42a7a6-f64c-472b-a9df-259c44ebea03\",\"type\":\"ColumnDataSource\"}},\"id\":\"821c770e-5a67-43e0-8b95-46da2facdcf6\",\"type\":\"CDSView\"},{\"attributes\":{\"source\":{\"id\":\"bdf70326-f764-4b7e-8920-cc8fe38d27a9\",\"type\":\"ColumnDataSource\"}},\"id\":\"e316fa71-9fd2-4ab1-8837-f35414c94178\",\"type\":\"CDSView\"},{\"attributes\":{\"plot\":{\"id\":\"e56e5754-5efe-446d-9610-ab57278ef311\",\"subtype\":\"Figure\",\"type\":\"Plot\"},\"ticker\":{\"id\":\"f51362c2-a9e4-4d52-9b4f-55d8b2734674\",\"type\":\"BasicTicker\"}},\"id\":\"adcf491f-da1a-418b-bded-54646c295b24\",\"type\":\"Grid\"},{\"attributes\":{},\"id\":\"7fa2b5e0-06c8-4c99-9fb9-65bd85a5bae9\",\"type\":\"BasicTicker\"},{\"attributes\":{\"formatter\":{\"id\":\"f9af1638-ee44-4ab2-bc8a-3f4f8fcae499\",\"type\":\"BasicTickFormatter\"},\"plot\":{\"id\":\"8a910c92-02bc-4e07-8a4a-ec5122760789\",\"subtype\":\"Figure\",\"type\":\"Plot\"},\"ticker\":{\"id\":\"7fa2b5e0-06c8-4c99-9fb9-65bd85a5bae9\",\"type\":\"BasicTicker\"}},\"id\":\"d48d2bb5-17ee-424c-b5b4-7f7d172a65ea\",\"type\":\"LinearAxis\"},{\"attributes\":{},\"id\":\"506b582e-e7a2-455d-8978-27326445bec4\",\"type\":\"HelpTool\"},{\"attributes\":{},\"id\":\"672cca7d-6387-4768-84cd-30560b5e60db\",\"type\":\"BasicTickFormatter\"},{\"attributes\":{},\"id\":\"8ae1cb45-9018-43cb-9914-a5d5c53c6e65\",\"type\":\"BasicTickFormatter\"},{\"attributes\":{},\"id\":\"7ba3454b-2b31-4d36-9908-078e1a9995a1\",\"type\":\"HelpTool\"},{\"attributes\":{\"line_alpha\":0.1,\"line_color\":\"#1f77b4\",\"x\":{\"field\":\"x\"},\"y\":{\"field\":\"y\"}},\"id\":\"495415b6-eb0a-44ab-b0c9-014c99b45f8d\",\"type\":\"Line\"},{\"attributes\":{},\"id\":\"f9af1638-ee44-4ab2-bc8a-3f4f8fcae499\",\"type\":\"BasicTickFormatter\"},{\"attributes\":{\"callback\":null,\"end\":42,\"start\":40},\"id\":\"e17261e9-255d-4c66-a8ce-02da5f03355a\",\"type\":\"Range1d\"},{\"attributes\":{},\"id\":\"db6614e0-ba48-4713-b543-b0faa4a8c7ef\",\"type\":\"BasicTickFormatter\"},{\"attributes\":{},\"id\":\"0951c0d4-89b2-466d-ad0d-fac8ccda08a5\",\"type\":\"BasicTickFormatter\"},{\"attributes\":{},\"id\":\"7e3709bf-dec6-4ccc-be0a-4420650a5056\",\"type\":\"Selection\"},{\"attributes\":{\"formatter\":{\"id\":\"8ae1cb45-9018-43cb-9914-a5d5c53c6e65\",\"type\":\"BasicTickFormatter\"},\"plot\":{\"id\":\"e56e5754-5efe-446d-9610-ab57278ef311\",\"subtype\":\"Figure\",\"type\":\"Plot\"},\"ticker\":{\"id\":\"4c18d2cc-d0c1-4b31-a97b-f3e7f9036d3c\",\"type\":\"BasicTicker\"}},\"id\":\"3ce1d858-3402-4c84-8ec6-ef51d0341b48\",\"type\":\"LinearAxis\"},{\"attributes\":{\"callback\":null,\"data\":{\"x\":{\"__ndarray__\":\"AAAAAAAAIUAAAAAAAAAgQKuqqqqqqiFAAAAAAAAAIECrqqqqqqogQAAAAAAAACFAq6qqqqqqIECrqqqqqqogQFVVVVVVVSFAq6qqqqqqIUAAAAAAAAAhQA==\",\"dtype\":\"float64\",\"shape\":[11]},\"y\":{\"__ndarray__\":\"VVVVVVXVREAAAAAAAMBEQKuqqqqq6kRAAAAAAACgREAAAAAAAKBEQAAAAAAAgERAAAAAAACAREAAAAAAAGBEQFVVVVVVVURAVVVVVVU1RECrqqqqqgpEQA==\",\"dtype\":\"float64\",\"shape\":[11]}},\"selected\":{\"id\":\"30566737-e18b-4c50-8781-96a4b9c23ec0\",\"type\":\"Selection\"},\"selection_policy\":{\"id\":\"cad525db-2c99-42a1-a4da-548d7a9dbf82\",\"type\":\"UnionRenderers\"}},\"id\":\"0b42a7a6-f64c-472b-a9df-259c44ebea03\",\"type\":\"ColumnDataSource\"},{\"attributes\":{},\"id\":\"e84749a9-85a8-4875-b807-9098def3d823\",\"type\":\"UnionRenderers\"},{\"attributes\":{},\"id\":\"cad525db-2c99-42a1-a4da-548d7a9dbf82\",\"type\":\"UnionRenderers\"},{\"attributes\":{\"data_source\":{\"id\":\"0b42a7a6-f64c-472b-a9df-259c44ebea03\",\"type\":\"ColumnDataSource\"},\"glyph\":{\"id\":\"5b73af8f-95a3-4478-8bb8-fedfaab00711\",\"type\":\"Line\"},\"hover_glyph\":null,\"muted_glyph\":null,\"nonselection_glyph\":{\"id\":\"7535db2c-4951-4d3c-bfea-55fcc230df6f\",\"type\":\"Line\"},\"selection_glyph\":null,\"view\":{\"id\":\"821c770e-5a67-43e0-8b95-46da2facdcf6\",\"type\":\"CDSView\"}},\"id\":\"8e835f46-f15f-4c58-bbed-8c0503bb127d\",\"type\":\"GlyphRenderer\"},{\"attributes\":{},\"id\":\"fff7ce08-96f2-4c9e-b5c9-d00310d68a35\",\"type\":\"Selection\"},{\"attributes\":{},\"id\":\"3cd31158-c58a-4332-8116-f6a6c82da3ee\",\"type\":\"UnionRenderers\"},{\"attributes\":{},\"id\":\"30566737-e18b-4c50-8781-96a4b9c23ec0\",\"type\":\"Selection\"},{\"attributes\":{},\"id\":\"a92dd83f-8bd7-4f88-afa8-0dcfd1009a92\",\"type\":\"UnionRenderers\"},{\"attributes\":{},\"id\":\"26faffd2-60a0-4f5c-9cbe-8f05decaf1e3\",\"type\":\"Selection\"},{\"attributes\":{},\"id\":\"da4c9c7b-a3d0-4eff-9249-d7ecb227fc8e\",\"type\":\"LinearScale\"},{\"attributes\":{},\"id\":\"b7c6b4c8-9c68-4604-8304-42b05708c890\",\"type\":\"UnionRenderers\"},{\"attributes\":{},\"id\":\"e95b10a1-83d0-49df-b089-71e8eee8d962\",\"type\":\"LinearScale\"},{\"attributes\":{},\"id\":\"b4e25bee-9667-41b9-abe3-ac5836e97793\",\"type\":\"Selection\"},{\"attributes\":{\"line_alpha\":0.6,\"x\":{\"field\":\"x\"},\"y\":{\"field\":\"y\"}},\"id\":\"59909211-7d3a-4384-b497-3edf1412d65e\",\"type\":\"Line\"},{\"attributes\":{\"overlay\":{\"id\":\"7f87730f-69f1-4314-af8b-1cf6a8870a18\",\"type\":\"BoxAnnotation\"}},\"id\":\"f8d7a6e8-7370-4f35-9aa2-7c8aae1bcb28\",\"type\":\"BoxZoomTool\"},{\"attributes\":{},\"id\":\"77dd52bd-490c-4275-8f1f-85af88cca4cd\",\"type\":\"LinearScale\"},{\"attributes\":{},\"id\":\"c2ca0a64-ad87-45e0-89c6-11e6355199b3\",\"type\":\"Selection\"},{\"attributes\":{},\"id\":\"5e820f17-ec72-485f-9793-a701d50ed7ca\",\"type\":\"PanTool\"},{\"attributes\":{},\"id\":\"5e563878-6864-4ac0-89f6-d14c4f371fe5\",\"type\":\"UnionRenderers\"},{\"attributes\":{\"callback\":null,\"end\":9.5,\"start\":7.5},\"id\":\"41381c32-45f6-4404-87be-bd1e886ebf47\",\"type\":\"Range1d\"},{\"attributes\":{\"callback\":null,\"data\":{\"x\":{\"__ndarray__\":\"AAAAAAAAIUAAAAAAAAAgQKuqqqqqqiFAAAAAAAAAIECrqqqqqqohQFVVVVVVVSBAq6qqqqqqIUCrqqqqqqogQFVVVVVVVSFAq6qqqqqqIUAAAAAAAAAhQA==\",\"dtype\":\"float64\",\"shape\":[11]},\"y\":{\"__ndarray__\":\"VVVVVVXVREAAAAAAAMBEQKuqqqqq6kRAAAAAAACgREAAAAAAAGBEQAAAAAAAgERAAAAAAACAREAAAAAAAGBEQFVVVVVVVURAVVVVVVU1RECrqqqqqgpEQA==\",\"dtype\":\"float64\",\"shape\":[11]}},\"selected\":{\"id\":\"fff7ce08-96f2-4c9e-b5c9-d00310d68a35\",\"type\":\"Selection\"},\"selection_policy\":{\"id\":\"3cd31158-c58a-4332-8116-f6a6c82da3ee\",\"type\":\"UnionRenderers\"}},\"id\":\"912c215f-c1d1-45a8-a45e-1a01f01ba367\",\"type\":\"ColumnDataSource\"},{\"attributes\":{},\"id\":\"f51362c2-a9e4-4d52-9b4f-55d8b2734674\",\"type\":\"BasicTicker\"},{\"attributes\":{\"fill_color\":{\"value\":\"grey\"},\"size\":{\"units\":\"screen\",\"value\":6},\"x\":{\"field\":\"x\"},\"y\":{\"field\":\"y\"}},\"id\":\"5af5864c-e7f1-4b68-9e88-ed5298e2dc83\",\"type\":\"Circle\"},{\"attributes\":{\"formatter\":{\"id\":\"8cd88bdb-8094-4a4c-b21c-814777662cac\",\"type\":\"BasicTickFormatter\"},\"plot\":{\"id\":\"e56e5754-5efe-446d-9610-ab57278ef311\",\"subtype\":\"Figure\",\"type\":\"Plot\"},\"ticker\":{\"id\":\"f51362c2-a9e4-4d52-9b4f-55d8b2734674\",\"type\":\"BasicTicker\"}},\"id\":\"9e20a551-0807-4ed6-ad66-f7b9049cdc79\",\"type\":\"LinearAxis\"},{\"attributes\":{\"plot\":null,\"text\":\"Vettones reconstruction\"},\"id\":\"ea662dd8-61b4-4702-8fe2-e0be909bb73c\",\"type\":\"Title\"},{\"attributes\":{\"line_alpha\":0.1,\"line_color\":\"#1f77b4\",\"x\":{\"field\":\"x\"},\"y\":{\"field\":\"y\"}},\"id\":\"7535db2c-4951-4d3c-bfea-55fcc230df6f\",\"type\":\"Line\"},{\"attributes\":{\"data_source\":{\"id\":\"258ebf09-4c46-4114-bf48-360c4ce6f322\",\"type\":\"ColumnDataSource\"},\"glyph\":{\"id\":\"59909211-7d3a-4384-b497-3edf1412d65e\",\"type\":\"Line\"},\"hover_glyph\":null,\"muted_glyph\":null,\"nonselection_glyph\":{\"id\":\"495415b6-eb0a-44ab-b0c9-014c99b45f8d\",\"type\":\"Line\"},\"selection_glyph\":null,\"view\":{\"id\":\"d2471504-dbc0-4851-b3b6-c6abf7173a30\",\"type\":\"CDSView\"}},\"id\":\"b0cca37d-bcff-463b-9687-43247ea7e06c\",\"type\":\"GlyphRenderer\"},{\"attributes\":{\"formatter\":{\"id\":\"672cca7d-6387-4768-84cd-30560b5e60db\",\"type\":\"BasicTickFormatter\"},\"plot\":{\"id\":\"8a910c92-02bc-4e07-8a4a-ec5122760789\",\"subtype\":\"Figure\",\"type\":\"Plot\"},\"ticker\":{\"id\":\"2e709862-b370-48bf-a751-ebcd777a27d6\",\"type\":\"BasicTicker\"}},\"id\":\"503d6428-703c-4d50-b43a-80cce14038e5\",\"type\":\"LinearAxis\"},{\"attributes\":{},\"id\":\"2e709862-b370-48bf-a751-ebcd777a27d6\",\"type\":\"BasicTicker\"},{\"attributes\":{\"plot\":{\"id\":\"8a910c92-02bc-4e07-8a4a-ec5122760789\",\"subtype\":\"Figure\",\"type\":\"Plot\"},\"ticker\":{\"id\":\"2e709862-b370-48bf-a751-ebcd777a27d6\",\"type\":\"BasicTicker\"}},\"id\":\"4c9104cf-9520-41ad-9e98-2c2748c2b320\",\"type\":\"Grid\"},{\"attributes\":{\"callback\":null,\"end\":42,\"start\":40},\"id\":\"7cf17dd8-ffbb-45be-a8b8-d61c3df029ec\",\"type\":\"Range1d\"},{\"attributes\":{\"dimension\":1,\"plot\":{\"id\":\"8a910c92-02bc-4e07-8a4a-ec5122760789\",\"subtype\":\"Figure\",\"type\":\"Plot\"},\"ticker\":{\"id\":\"7fa2b5e0-06c8-4c99-9fb9-65bd85a5bae9\",\"type\":\"BasicTicker\"}},\"id\":\"de081ae1-7e17-4bc1-aff6-11dccc50c0f1\",\"type\":\"Grid\"},{\"attributes\":{},\"id\":\"5dd7c9b2-17ba-48c9-9342-b32e0ad29f04\",\"type\":\"WheelZoomTool\"},{\"attributes\":{},\"id\":\"61c1f54a-f7b9-4ae9-9049-1b9b0c362119\",\"type\":\"LinearScale\"},{\"attributes\":{\"source\":{\"id\":\"6a5493a6-2a04-4e07-9991-2cb783a08eca\",\"type\":\"ColumnDataSource\"}},\"id\":\"15f97a78-0f5e-4ac2-b0b9-fb703adc6215\",\"type\":\"CDSView\"},{\"attributes\":{},\"id\":\"3606c8e1-40ec-49c2-9c28-d40ddbfc4479\",\"type\":\"LinearScale\"},{\"attributes\":{\"callback\":null,\"end\":42,\"start\":40},\"id\":\"27f2b0c5-5a83-4271-b925-8dcc0c5b83e8\",\"type\":\"Range1d\"},{\"attributes\":{\"line_alpha\":0.1,\"line_color\":\"#1f77b4\",\"x\":{\"field\":\"x\"},\"y\":{\"field\":\"y\"}},\"id\":\"38233a2c-2a86-47ea-b8b4-6ef239166aaa\",\"type\":\"Line\"},{\"attributes\":{},\"id\":\"8f925329-d380-4377-971a-682254b3835c\",\"type\":\"LinearScale\"},{\"attributes\":{\"source\":{\"id\":\"9655bdd2-b269-4916-ae0d-309efae56167\",\"type\":\"ColumnDataSource\"}},\"id\":\"e6e5da26-32ab-42c4-aeb5-59a900c90d60\",\"type\":\"CDSView\"},{\"attributes\":{\"below\":[{\"id\":\"faf6b753-5ca0-4d33-8d22-4d5d222bee01\",\"type\":\"LinearAxis\"}],\"left\":[{\"id\":\"6e248fc7-03dd-4044-a1eb-1a4f365cf9ea\",\"type\":\"LinearAxis\"}],\"plot_height\":450,\"plot_width\":350,\"renderers\":[{\"id\":\"faf6b753-5ca0-4d33-8d22-4d5d222bee01\",\"type\":\"LinearAxis\"},{\"id\":\"fbad5167-f340-48ac-b978-51ba8a1df691\",\"type\":\"Grid\"},{\"id\":\"6e248fc7-03dd-4044-a1eb-1a4f365cf9ea\",\"type\":\"LinearAxis\"},{\"id\":\"f8077c66-abba-4eca-b386-80e852af69f4\",\"type\":\"Grid\"},{\"id\":\"2a38e9b5-346d-491e-8820-395c5206319e\",\"type\":\"BoxAnnotation\"},{\"id\":\"16810149-2f85-47c5-8600-46685ced51d8\",\"type\":\"GlyphRenderer\"},{\"id\":\"453fd695-ac48-49d1-a162-910325621959\",\"type\":\"GlyphRenderer\"}],\"title\":{\"id\":\"ea662dd8-61b4-4702-8fe2-e0be909bb73c\",\"type\":\"Title\"},\"toolbar\":{\"id\":\"dc1070ed-d3f9-48eb-9aa8-087043f946cb\",\"type\":\"Toolbar\"},\"x_range\":{\"id\":\"41381c32-45f6-4404-87be-bd1e886ebf47\",\"type\":\"Range1d\"},\"x_scale\":{\"id\":\"3606c8e1-40ec-49c2-9c28-d40ddbfc4479\",\"type\":\"LinearScale\"},\"y_range\":{\"id\":\"27f2b0c5-5a83-4271-b925-8dcc0c5b83e8\",\"type\":\"Range1d\"},\"y_scale\":{\"id\":\"e95b10a1-83d0-49df-b089-71e8eee8d962\",\"type\":\"LinearScale\"}},\"id\":\"d0637c9a-0fac-4463-8ff7-c907f10be90f\",\"subtype\":\"Figure\",\"type\":\"Plot\"},{\"attributes\":{\"active_drag\":\"auto\",\"active_inspect\":\"auto\",\"active_multi\":null,\"active_scroll\":\"auto\",\"active_tap\":\"auto\",\"tools\":[{\"id\":\"5e820f17-ec72-485f-9793-a701d50ed7ca\",\"type\":\"PanTool\"},{\"id\":\"5dd7c9b2-17ba-48c9-9342-b32e0ad29f04\",\"type\":\"WheelZoomTool\"},{\"id\":\"f8d7a6e8-7370-4f35-9aa2-7c8aae1bcb28\",\"type\":\"BoxZoomTool\"},{\"id\":\"b1571d24-79e9-48d0-a90d-7f372645c676\",\"type\":\"SaveTool\"},{\"id\":\"5d4e3f88-1493-4662-ad81-4d48e3c626cb\",\"type\":\"ResetTool\"},{\"id\":\"2b8a623e-dbe5-45af-9a5c-8bfa69ca6aae\",\"type\":\"HelpTool\"}]},\"id\":\"579586c9-d17c-4271-a03e-ba71aa0ba9da\",\"type\":\"Toolbar\"},{\"attributes\":{\"active_drag\":\"auto\",\"active_inspect\":\"auto\",\"active_multi\":null,\"active_scroll\":\"auto\",\"active_tap\":\"auto\",\"tools\":[{\"id\":\"1dd58544-0f75-4138-b4e3-af15d3077a50\",\"type\":\"PanTool\"},{\"id\":\"abd73f0b-1d29-4d53-978c-d2246ec21141\",\"type\":\"WheelZoomTool\"},{\"id\":\"ae354495-5dca-4838-8e40-14d60a4ce90d\",\"type\":\"BoxZoomTool\"},{\"id\":\"66f9201c-39e2-4515-8b75-c8ef21fef1fe\",\"type\":\"SaveTool\"},{\"id\":\"1e6cf954-7aa9-4055-84ad-a80e3ce9ed1d\",\"type\":\"ResetTool\"},{\"id\":\"506b582e-e7a2-455d-8978-27326445bec4\",\"type\":\"HelpTool\"}]},\"id\":\"2b48eb54-3e7f-4e03-b958-0ca31cf152eb\",\"type\":\"Toolbar\"},{\"attributes\":{\"bottom_units\":\"screen\",\"fill_alpha\":{\"value\":0.5},\"fill_color\":{\"value\":\"lightgrey\"},\"left_units\":\"screen\",\"level\":\"overlay\",\"line_alpha\":{\"value\":1.0},\"line_color\":{\"value\":\"black\"},\"line_dash\":[4,4],\"line_width\":{\"value\":2},\"plot\":null,\"render_mode\":\"css\",\"right_units\":\"screen\",\"top_units\":\"screen\"},\"id\":\"7f87730f-69f1-4314-af8b-1cf6a8870a18\",\"type\":\"BoxAnnotation\"},{\"attributes\":{\"plot\":null,\"text\":\"Vettones \\u03a9\"},\"id\":\"378e467b-afc8-4335-8d31-14c8d68ecc58\",\"type\":\"Title\"},{\"attributes\":{},\"id\":\"2b8a623e-dbe5-45af-9a5c-8bfa69ca6aae\",\"type\":\"HelpTool\"},{\"attributes\":{\"callback\":null,\"end\":9.5,\"start\":7.5},\"id\":\"615424c2-c998-4258-85f4-ffeba417c4b8\",\"type\":\"Range1d\"},{\"attributes\":{\"fill_alpha\":{\"value\":0.1},\"fill_color\":{\"value\":\"#1f77b4\"},\"line_alpha\":{\"value\":0.1},\"line_color\":{\"value\":\"#1f77b4\"},\"size\":{\"units\":\"screen\",\"value\":6},\"x\":{\"field\":\"x\"},\"y\":{\"field\":\"y\"}},\"id\":\"aca42e71-9af4-4664-ac54-2f68c5b75f77\",\"type\":\"Circle\"},{\"attributes\":{},\"id\":\"4c18d2cc-d0c1-4b31-a97b-f3e7f9036d3c\",\"type\":\"BasicTicker\"},{\"attributes\":{},\"id\":\"5d4e3f88-1493-4662-ad81-4d48e3c626cb\",\"type\":\"ResetTool\"},{\"attributes\":{},\"id\":\"b1571d24-79e9-48d0-a90d-7f372645c676\",\"type\":\"SaveTool\"},{\"attributes\":{\"fill_alpha\":{\"value\":0.1},\"fill_color\":{\"value\":\"#1f77b4\"},\"line_alpha\":{\"value\":0.1},\"line_color\":{\"value\":\"#1f77b4\"},\"size\":{\"units\":\"screen\",\"value\":6},\"x\":{\"field\":\"x\"},\"y\":{\"field\":\"y\"}},\"id\":\"37817ff4-bb3d-4dbc-b6d1-964386b1e8a1\",\"type\":\"Circle\"},{\"attributes\":{\"plot\":null,\"text\":\"Vettones \\u039e\"},\"id\":\"c9d2768d-41a1-4178-81fc-ada5e7ce98db\",\"type\":\"Title\"},{\"attributes\":{\"data_source\":{\"id\":\"9655bdd2-b269-4916-ae0d-309efae56167\",\"type\":\"ColumnDataSource\"},\"glyph\":{\"id\":\"5af5864c-e7f1-4b68-9e88-ed5298e2dc83\",\"type\":\"Circle\"},\"hover_glyph\":null,\"muted_glyph\":null,\"nonselection_glyph\":{\"id\":\"aca42e71-9af4-4664-ac54-2f68c5b75f77\",\"type\":\"Circle\"},\"selection_glyph\":null,\"view\":{\"id\":\"e6e5da26-32ab-42c4-aeb5-59a900c90d60\",\"type\":\"CDSView\"}},\"id\":\"3bb0f3dd-4548-4366-9f6c-753477c806fa\",\"type\":\"GlyphRenderer\"},{\"attributes\":{\"source\":{\"id\":\"912c215f-c1d1-45a8-a45e-1a01f01ba367\",\"type\":\"ColumnDataSource\"}},\"id\":\"9289a492-d98d-4a9f-b6df-7b0af7d4030d\",\"type\":\"CDSView\"},{\"attributes\":{},\"id\":\"b30a8e25-638b-43f0-a67e-68ca2bb7ce5d\",\"type\":\"SaveTool\"},{\"attributes\":{\"plot\":{\"id\":\"d0637c9a-0fac-4463-8ff7-c907f10be90f\",\"subtype\":\"Figure\",\"type\":\"Plot\"},\"ticker\":{\"id\":\"f054ae6d-316b-4eab-913a-ba44c776ed5a\",\"type\":\"BasicTicker\"}},\"id\":\"fbad5167-f340-48ac-b978-51ba8a1df691\",\"type\":\"Grid\"},{\"attributes\":{\"children\":[{\"id\":\"e56e5754-5efe-446d-9610-ab57278ef311\",\"subtype\":\"Figure\",\"type\":\"Plot\"},{\"id\":\"8a910c92-02bc-4e07-8a4a-ec5122760789\",\"subtype\":\"Figure\",\"type\":\"Plot\"},{\"id\":\"d0637c9a-0fac-4463-8ff7-c907f10be90f\",\"subtype\":\"Figure\",\"type\":\"Plot\"}]},\"id\":\"d23432b6-683b-43a8-9009-bfb00ec2323e\",\"type\":\"Row\"},{\"attributes\":{\"overlay\":{\"id\":\"647701ef-52ee-4502-8de2-469ff2890104\",\"type\":\"BoxAnnotation\"}},\"id\":\"ae354495-5dca-4838-8e40-14d60a4ce90d\",\"type\":\"BoxZoomTool\"},{\"attributes\":{\"callback\":null,\"end\":9.5,\"start\":7.5},\"id\":\"0b952a2e-7e9b-4968-bd57-7a3225627ec0\",\"type\":\"Range1d\"},{\"attributes\":{\"active_drag\":\"auto\",\"active_inspect\":\"auto\",\"active_multi\":null,\"active_scroll\":\"auto\",\"active_tap\":\"auto\",\"tools\":[{\"id\":\"50ee2df1-17ad-4ab3-bd59-df270f5c9140\",\"type\":\"PanTool\"},{\"id\":\"beeb7e8e-8d8e-426e-85d8-af5c26b2722b\",\"type\":\"WheelZoomTool\"},{\"id\":\"4b4f2f09-e3d0-49e8-8318-6752d36a694b\",\"type\":\"BoxZoomTool\"},{\"id\":\"b30a8e25-638b-43f0-a67e-68ca2bb7ce5d\",\"type\":\"SaveTool\"},{\"id\":\"e82cbf9b-6821-428b-a6ef-c07d5d7601da\",\"type\":\"ResetTool\"},{\"id\":\"7ba3454b-2b31-4d36-9908-078e1a9995a1\",\"type\":\"HelpTool\"}]},\"id\":\"dc1070ed-d3f9-48eb-9aa8-087043f946cb\",\"type\":\"Toolbar\"},{\"attributes\":{\"source\":{\"id\":\"258ebf09-4c46-4114-bf48-360c4ce6f322\",\"type\":\"ColumnDataSource\"}},\"id\":\"d2471504-dbc0-4851-b3b6-c6abf7173a30\",\"type\":\"CDSView\"},{\"attributes\":{\"callback\":null,\"data\":{\"x\":{\"__ndarray__\":\"AAAAAAAAIUAAAAAAAAAgQKuqqqqqqiFAAAAAAAAAIECrqqqqqqohQFVVVVVVVSBAq6qqqqqqIUCrqqqqqqogQFVVVVVVVSFAq6qqqqqqIUAAAAAAAAAhQA==\",\"dtype\":\"float64\",\"shape\":[11]},\"y\":{\"__ndarray__\":\"VVVVVVXVREAAAAAAAMBEQKuqqqqq6kRAAAAAAACgREAAAAAAAGBEQAAAAAAAgERAAAAAAACAREAAAAAAAGBEQFVVVVVVVURAVVVVVVU1RECrqqqqqgpEQA==\",\"dtype\":\"float64\",\"shape\":[11]}},\"selected\":{\"id\":\"7e3709bf-dec6-4ccc-be0a-4420650a5056\",\"type\":\"Selection\"},\"selection_policy\":{\"id\":\"e84749a9-85a8-4875-b807-9098def3d823\",\"type\":\"UnionRenderers\"}},\"id\":\"258ebf09-4c46-4114-bf48-360c4ce6f322\",\"type\":\"ColumnDataSource\"},{\"attributes\":{},\"id\":\"e82cbf9b-6821-428b-a6ef-c07d5d7601da\",\"type\":\"ResetTool\"},{\"attributes\":{\"below\":[{\"id\":\"9e20a551-0807-4ed6-ad66-f7b9049cdc79\",\"type\":\"LinearAxis\"}],\"left\":[{\"id\":\"3ce1d858-3402-4c84-8ec6-ef51d0341b48\",\"type\":\"LinearAxis\"}],\"plot_height\":450,\"plot_width\":350,\"renderers\":[{\"id\":\"9e20a551-0807-4ed6-ad66-f7b9049cdc79\",\"type\":\"LinearAxis\"},{\"id\":\"adcf491f-da1a-418b-bded-54646c295b24\",\"type\":\"Grid\"},{\"id\":\"3ce1d858-3402-4c84-8ec6-ef51d0341b48\",\"type\":\"LinearAxis\"},{\"id\":\"7166aded-24d6-4fd1-ac3b-e47e927e9487\",\"type\":\"Grid\"},{\"id\":\"647701ef-52ee-4502-8de2-469ff2890104\",\"type\":\"BoxAnnotation\"},{\"id\":\"b0cca37d-bcff-463b-9687-43247ea7e06c\",\"type\":\"GlyphRenderer\"},{\"id\":\"2c76e8b6-9adc-429a-973c-3ca3b61ed059\",\"type\":\"GlyphRenderer\"}],\"title\":{\"id\":\"c9d2768d-41a1-4178-81fc-ada5e7ce98db\",\"type\":\"Title\"},\"toolbar\":{\"id\":\"2b48eb54-3e7f-4e03-b958-0ca31cf152eb\",\"type\":\"Toolbar\"},\"x_range\":{\"id\":\"0b952a2e-7e9b-4968-bd57-7a3225627ec0\",\"type\":\"Range1d\"},\"x_scale\":{\"id\":\"8f925329-d380-4377-971a-682254b3835c\",\"type\":\"LinearScale\"},\"y_range\":{\"id\":\"7cf17dd8-ffbb-45be-a8b8-d61c3df029ec\",\"type\":\"Range1d\"},\"y_scale\":{\"id\":\"61c1f54a-f7b9-4ae9-9049-1b9b0c362119\",\"type\":\"LinearScale\"}},\"id\":\"e56e5754-5efe-446d-9610-ab57278ef311\",\"subtype\":\"Figure\",\"type\":\"Plot\"},{\"attributes\":{\"callback\":null,\"data\":{\"x\":{\"__ndarray__\":\"AAAAAAAAIUAAAAAAAAAgQKuqqqqqqiFAAAAAAAAAIECrqqqqqqogQFVVVVVVVSBAq6qqqqqqIUCrqqqqqqogQFVVVVVVVSFAq6qqqqqqIUAAAAAAAAAhQA==\",\"dtype\":\"float64\",\"shape\":[11]},\"y\":{\"__ndarray__\":\"VVVVVVXVREAAAAAAAMBEQAAAAAAAwERAAAAAAACgREAAAAAAAKBEQAAAAAAAgERAAAAAAACAREAAAAAAAGBEQFVVVVVVVURAVVVVVVU1RECrqqqqqgpEQA==\",\"dtype\":\"float64\",\"shape\":[11]}},\"selected\":{\"id\":\"b4e25bee-9667-41b9-abe3-ac5836e97793\",\"type\":\"Selection\"},\"selection_policy\":{\"id\":\"a92dd83f-8bd7-4f88-afa8-0dcfd1009a92\",\"type\":\"UnionRenderers\"}},\"id\":\"6a5493a6-2a04-4e07-9991-2cb783a08eca\",\"type\":\"ColumnDataSource\"},{\"attributes\":{\"formatter\":{\"id\":\"0951c0d4-89b2-466d-ad0d-fac8ccda08a5\",\"type\":\"BasicTickFormatter\"},\"plot\":{\"id\":\"d0637c9a-0fac-4463-8ff7-c907f10be90f\",\"subtype\":\"Figure\",\"type\":\"Plot\"},\"ticker\":{\"id\":\"2501b9d7-c011-47ca-8e89-2117162966d1\",\"type\":\"BasicTicker\"}},\"id\":\"6e248fc7-03dd-4044-a1eb-1a4f365cf9ea\",\"type\":\"LinearAxis\"},{\"attributes\":{\"fill_color\":{\"value\":\"grey\"},\"size\":{\"units\":\"screen\",\"value\":6},\"x\":{\"field\":\"x\"},\"y\":{\"field\":\"y\"}},\"id\":\"13dc116f-d7e4-4b63-bc82-fa724d91e0dc\",\"type\":\"Circle\"},{\"attributes\":{\"formatter\":{\"id\":\"db6614e0-ba48-4713-b543-b0faa4a8c7ef\",\"type\":\"BasicTickFormatter\"},\"plot\":{\"id\":\"d0637c9a-0fac-4463-8ff7-c907f10be90f\",\"subtype\":\"Figure\",\"type\":\"Plot\"},\"ticker\":{\"id\":\"f054ae6d-316b-4eab-913a-ba44c776ed5a\",\"type\":\"BasicTicker\"}},\"id\":\"faf6b753-5ca0-4d33-8d22-4d5d222bee01\",\"type\":\"LinearAxis\"},{\"attributes\":{},\"id\":\"8cd88bdb-8094-4a4c-b21c-814777662cac\",\"type\":\"BasicTickFormatter\"},{\"attributes\":{},\"id\":\"abd73f0b-1d29-4d53-978c-d2246ec21141\",\"type\":\"WheelZoomTool\"},{\"attributes\":{\"below\":[{\"id\":\"503d6428-703c-4d50-b43a-80cce14038e5\",\"type\":\"LinearAxis\"}],\"left\":[{\"id\":\"d48d2bb5-17ee-424c-b5b4-7f7d172a65ea\",\"type\":\"LinearAxis\"}],\"plot_height\":450,\"plot_width\":350,\"renderers\":[{\"id\":\"503d6428-703c-4d50-b43a-80cce14038e5\",\"type\":\"LinearAxis\"},{\"id\":\"4c9104cf-9520-41ad-9e98-2c2748c2b320\",\"type\":\"Grid\"},{\"id\":\"d48d2bb5-17ee-424c-b5b4-7f7d172a65ea\",\"type\":\"LinearAxis\"},{\"id\":\"de081ae1-7e17-4bc1-aff6-11dccc50c0f1\",\"type\":\"Grid\"},{\"id\":\"7f87730f-69f1-4314-af8b-1cf6a8870a18\",\"type\":\"BoxAnnotation\"},{\"id\":\"8e835f46-f15f-4c58-bbed-8c0503bb127d\",\"type\":\"GlyphRenderer\"},{\"id\":\"3bb0f3dd-4548-4366-9f6c-753477c806fa\",\"type\":\"GlyphRenderer\"}],\"title\":{\"id\":\"378e467b-afc8-4335-8d31-14c8d68ecc58\",\"type\":\"Title\"},\"toolbar\":{\"id\":\"579586c9-d17c-4271-a03e-ba71aa0ba9da\",\"type\":\"Toolbar\"},\"x_range\":{\"id\":\"615424c2-c998-4258-85f4-ffeba417c4b8\",\"type\":\"Range1d\"},\"x_scale\":{\"id\":\"da4c9c7b-a3d0-4eff-9249-d7ecb227fc8e\",\"type\":\"LinearScale\"},\"y_range\":{\"id\":\"e17261e9-255d-4c66-a8ce-02da5f03355a\",\"type\":\"Range1d\"},\"y_scale\":{\"id\":\"77dd52bd-490c-4275-8f1f-85af88cca4cd\",\"type\":\"LinearScale\"}},\"id\":\"8a910c92-02bc-4e07-8a4a-ec5122760789\",\"subtype\":\"Figure\",\"type\":\"Plot\"},{\"attributes\":{},\"id\":\"f054ae6d-316b-4eab-913a-ba44c776ed5a\",\"type\":\"BasicTicker\"},{\"attributes\":{},\"id\":\"1dd58544-0f75-4138-b4e3-af15d3077a50\",\"type\":\"PanTool\"},{\"attributes\":{},\"id\":\"2501b9d7-c011-47ca-8e89-2117162966d1\",\"type\":\"BasicTicker\"},{\"attributes\":{},\"id\":\"1e6cf954-7aa9-4055-84ad-a80e3ce9ed1d\",\"type\":\"ResetTool\"},{\"attributes\":{\"overlay\":{\"id\":\"2a38e9b5-346d-491e-8820-395c5206319e\",\"type\":\"BoxAnnotation\"}},\"id\":\"4b4f2f09-e3d0-49e8-8318-6752d36a694b\",\"type\":\"BoxZoomTool\"},{\"attributes\":{},\"id\":\"66f9201c-39e2-4515-8b75-c8ef21fef1fe\",\"type\":\"SaveTool\"},{\"attributes\":{},\"id\":\"beeb7e8e-8d8e-426e-85d8-af5c26b2722b\",\"type\":\"WheelZoomTool\"},{\"attributes\":{\"data_source\":{\"id\":\"912c215f-c1d1-45a8-a45e-1a01f01ba367\",\"type\":\"ColumnDataSource\"},\"glyph\":{\"id\":\"13dc116f-d7e4-4b63-bc82-fa724d91e0dc\",\"type\":\"Circle\"},\"hover_glyph\":null,\"muted_glyph\":null,\"nonselection_glyph\":{\"id\":\"37817ff4-bb3d-4dbc-b6d1-964386b1e8a1\",\"type\":\"Circle\"},\"selection_glyph\":null,\"view\":{\"id\":\"9289a492-d98d-4a9f-b6df-7b0af7d4030d\",\"type\":\"CDSView\"}},\"id\":\"2c76e8b6-9adc-429a-973c-3ca3b61ed059\",\"type\":\"GlyphRenderer\"},{\"attributes\":{},\"id\":\"50ee2df1-17ad-4ab3-bd59-df270f5c9140\",\"type\":\"PanTool\"},{\"attributes\":{\"callback\":null,\"data\":{\"x\":{\"__ndarray__\":\"AAAAAAAAIUAAAAAAAAAgQKuqqqqqqiFAAAAAAAAAIECrqqqqqqogQAAAAAAAACFAq6qqqqqqIECrqqqqqqogQFVVVVVVVSFAq6qqqqqqIUAAAAAAAAAhQA==\",\"dtype\":\"float64\",\"shape\":[11]},\"y\":{\"__ndarray__\":\"VVVVVVXVREAAAAAAAMBEQKuqqqqq6kRAAAAAAACgREAAAAAAAKBEQAAAAAAAgERAAAAAAACAREAAAAAAAGBEQFVVVVVVVURAVVVVVVU1RECrqqqqqgpEQA==\",\"dtype\":\"float64\",\"shape\":[11]}},\"selected\":{\"id\":\"26faffd2-60a0-4f5c-9cbe-8f05decaf1e3\",\"type\":\"Selection\"},\"selection_policy\":{\"id\":\"b7c6b4c8-9c68-4604-8304-42b05708c890\",\"type\":\"UnionRenderers\"}},\"id\":\"9655bdd2-b269-4916-ae0d-309efae56167\",\"type\":\"ColumnDataSource\"},{\"attributes\":{\"line_alpha\":0.6,\"x\":{\"field\":\"x\"},\"y\":{\"field\":\"y\"}},\"id\":\"37db42ab-48ff-4b94-8e3a-14b444cfb8c4\",\"type\":\"Line\"},{\"attributes\":{\"bottom_units\":\"screen\",\"fill_alpha\":{\"value\":0.5},\"fill_color\":{\"value\":\"lightgrey\"},\"left_units\":\"screen\",\"level\":\"overlay\",\"line_alpha\":{\"value\":1.0},\"line_color\":{\"value\":\"black\"},\"line_dash\":[4,4],\"line_width\":{\"value\":2},\"plot\":null,\"render_mode\":\"css\",\"right_units\":\"screen\",\"top_units\":\"screen\"},\"id\":\"647701ef-52ee-4502-8de2-469ff2890104\",\"type\":\"BoxAnnotation\"},{\"attributes\":{\"dimension\":1,\"plot\":{\"id\":\"d0637c9a-0fac-4463-8ff7-c907f10be90f\",\"subtype\":\"Figure\",\"type\":\"Plot\"},\"ticker\":{\"id\":\"2501b9d7-c011-47ca-8e89-2117162966d1\",\"type\":\"BasicTicker\"}},\"id\":\"f8077c66-abba-4eca-b386-80e852af69f4\",\"type\":\"Grid\"},{\"attributes\":{\"data_source\":{\"id\":\"6a5493a6-2a04-4e07-9991-2cb783a08eca\",\"type\":\"ColumnDataSource\"},\"glyph\":{\"id\":\"37db42ab-48ff-4b94-8e3a-14b444cfb8c4\",\"type\":\"Line\"},\"hover_glyph\":null,\"muted_glyph\":null,\"nonselection_glyph\":{\"id\":\"38233a2c-2a86-47ea-b8b4-6ef239166aaa\",\"type\":\"Line\"},\"selection_glyph\":null,\"view\":{\"id\":\"15f97a78-0f5e-4ac2-b0b9-fb703adc6215\",\"type\":\"CDSView\"}},\"id\":\"16810149-2f85-47c5-8600-46685ced51d8\",\"type\":\"GlyphRenderer\"},{\"attributes\":{\"callback\":null,\"data\":{\"x\":{\"__ndarray__\":\"AAAAAAAAIUAAAAAAAAAgQKuqqqqqqiFAAAAAAAAAIECrqqqqqqogQFVVVVVVVSBAq6qqqqqqIUCrqqqqqqogQFVVVVVVVSFAq6qqqqqqIUAAAAAAAAAhQA==\",\"dtype\":\"float64\",\"shape\":[11]},\"y\":{\"__ndarray__\":\"VVVVVVXVREAAAAAAAMBEQAAAAAAAwERAAAAAAACgREAAAAAAAKBEQAAAAAAAgERAAAAAAACAREAAAAAAAGBEQFVVVVVVVURAVVVVVVU1RECrqqqqqgpEQA==\",\"dtype\":\"float64\",\"shape\":[11]}},\"selected\":{\"id\":\"c2ca0a64-ad87-45e0-89c6-11e6355199b3\",\"type\":\"Selection\"},\"selection_policy\":{\"id\":\"5e563878-6864-4ac0-89f6-d14c4f371fe5\",\"type\":\"UnionRenderers\"}},\"id\":\"bdf70326-f764-4b7e-8920-cc8fe38d27a9\",\"type\":\"ColumnDataSource\"}],\"root_ids\":[\"d23432b6-683b-43a8-9009-bfb00ec2323e\"]},\"title\":\"Bokeh Application\",\"version\":\"0.13.0\"}};\n",
       "  var render_items = [{\"docid\":\"684c3509-d398-4f39-9b9f-4a9de1bbe291\",\"roots\":{\"d23432b6-683b-43a8-9009-bfb00ec2323e\":\"364dc570-b509-4afb-b2c2-f8035f4b7527\"}}];\n",
       "  root.Bokeh.embed.embed_items_notebook(docs_json, render_items);\n",
       "\n",
       "  }\n",
       "  if (root.Bokeh !== undefined) {\n",
       "    embed_document(root);\n",
       "  } else {\n",
       "    var attempts = 0;\n",
       "    var timer = setInterval(function(root) {\n",
       "      if (root.Bokeh !== undefined) {\n",
       "        embed_document(root);\n",
       "        clearInterval(timer);\n",
       "      }\n",
       "      attempts++;\n",
       "      if (attempts > 100) {\n",
       "        console.log(\"Bokeh: ERROR: Unable to run BokehJS code because BokehJS library is missing\")\n",
       "        clearInterval(timer);\n",
       "      }\n",
       "    }, 10, root)\n",
       "  }\n",
       "})(window);"
      ],
      "application/vnd.bokehjs_exec.v0+json": ""
     },
     "metadata": {
      "application/vnd.bokehjs_exec.v0+json": {
       "id": "d23432b6-683b-43a8-9009-bfb00ec2323e"
      }
     },
     "output_type": "display_data"
    }
   ],
   "source": [
    "# Xi Recension\n",
    "n = figure(title= 'Vettones Ξ', width=350, height=450, x_range=(7.5, 9.5), y_range=(40, 42))\n",
    "n.line(np.array(dfVett[\"longitude_Xi\"]),np.array(dfVett[\"latitude_Xi\"]),line_alpha=0.6,line_color='black')\n",
    "n.circle(np.array(dfVett[\"longitude_Xi\"]),np.array(dfVett[\"latitude_Xi\"]),fill_color='grey',size=6,fill_alpha=1,line_color='black')\n",
    "\n",
    "# Omega Recension\n",
    "o = figure(title= 'Vettones Ω', width=350, height=450, x_range=(7.5, 9.5), y_range=(40, 42))#,tools=toolsO)\n",
    "o.line(np.array(dfVett[\"longitude_Omega\"]),np.array(dfVett[\"latitude_Omega\"]),line_alpha=0.6,line_color='black')\n",
    "o.circle(np.array(dfVett[\"longitude_Omega\"]),np.array(dfVett[\"latitude_Omega\"]),fill_color='grey',size=6,fill_alpha=1,line_color='black')\n",
    "\n",
    "# Reconstruction\n",
    "p = figure(title= 'Vettones reconstruction', width=350, height=450, x_range=(7.5, 9.5), y_range=(40, 42))\n",
    "p.line(np.array(dfVettR[\"longitude_r\"]),np.array(dfVettR[\"latitude_r\"]),line_alpha=0.6,line_color='black')\n",
    "p.circle(np.array(dfVettR[\"longitude_r\"]),np.array(dfVettR[\"latitude_r\"]),fill_color='grey',size=6,fill_alpha=1,line_color='black')\n",
    "\n",
    "show(row(n,o,p));"
   ]
  },
  {
   "cell_type": "markdown",
   "metadata": {
    "pycharm": {}
   },
   "source": [
    "1)  between Ptolemy's original redaction and the archetype common to Xi and Omega: one modification, a corruption in the latitude of Salmantica\n",
    "\n",
    "2) in the Xi recension, corruption of the coordinates of Ocelum \n",
    "\n",
    "3) in the Omega recension, corruption of the longitudes of Capara and Manliana."
   ]
  },
  {
   "cell_type": "markdown",
   "metadata": {
    "pycharm": {}
   },
   "source": [
    "#### Dataframe with reconstruction"
   ]
  },
  {
   "cell_type": "code",
   "execution_count": 16,
   "metadata": {
    "pycharm": {}
   },
   "outputs": [
    {
     "data": {
      "text/html": [
       "<div>\n",
       "<style scoped>\n",
       "    .dataframe tbody tr th:only-of-type {\n",
       "        vertical-align: middle;\n",
       "    }\n",
       "\n",
       "    .dataframe tbody tr th {\n",
       "        vertical-align: top;\n",
       "    }\n",
       "\n",
       "    .dataframe thead th {\n",
       "        text-align: right;\n",
       "    }\n",
       "</style>\n",
       "<table border=\"1\" class=\"dataframe\">\n",
       "  <thead>\n",
       "    <tr style=\"text-align: right;\">\n",
       "      <th></th>\n",
       "      <th>book_ID</th>\n",
       "      <th>chap_ID</th>\n",
       "      <th>sec_ID</th>\n",
       "      <th>type_sec</th>\n",
       "      <th>people</th>\n",
       "      <th>type</th>\n",
       "      <th>category</th>\n",
       "      <th>toponym</th>\n",
       "      <th>longitude_Xi</th>\n",
       "      <th>latitude_Xi</th>\n",
       "      <th>longitude_Omega</th>\n",
       "      <th>latitude_Omega</th>\n",
       "      <th>diff</th>\n",
       "      <th>longitude_r</th>\n",
       "      <th>latitude_r</th>\n",
       "    </tr>\n",
       "    <tr>\n",
       "      <th>ID</th>\n",
       "      <th></th>\n",
       "      <th></th>\n",
       "      <th></th>\n",
       "      <th></th>\n",
       "      <th></th>\n",
       "      <th></th>\n",
       "      <th></th>\n",
       "      <th></th>\n",
       "      <th></th>\n",
       "      <th></th>\n",
       "      <th></th>\n",
       "      <th></th>\n",
       "      <th></th>\n",
       "      <th></th>\n",
       "      <th></th>\n",
       "    </tr>\n",
       "  </thead>\n",
       "  <tbody>\n",
       "    <tr>\n",
       "      <th>2.05.09.02</th>\n",
       "      <td>2</td>\n",
       "      <td>2.05</td>\n",
       "      <td>2.05.09</td>\n",
       "      <td>inland</td>\n",
       "      <td>Vettones</td>\n",
       "      <td>locality</td>\n",
       "      <td>city</td>\n",
       "      <td>Λακκιαοππιδανά</td>\n",
       "      <td>8.500000</td>\n",
       "      <td>41.666667</td>\n",
       "      <td>8.500000</td>\n",
       "      <td>41.666667</td>\n",
       "      <td>id</td>\n",
       "      <td>8.500000</td>\n",
       "      <td>41.666667</td>\n",
       "    </tr>\n",
       "    <tr>\n",
       "      <th>2.05.09.03</th>\n",
       "      <td>2</td>\n",
       "      <td>2.05</td>\n",
       "      <td>2.05.09</td>\n",
       "      <td>inland</td>\n",
       "      <td>Vettones</td>\n",
       "      <td>locality</td>\n",
       "      <td>city</td>\n",
       "      <td>Κοτταγοβρίγα</td>\n",
       "      <td>8.000000</td>\n",
       "      <td>41.500000</td>\n",
       "      <td>8.000000</td>\n",
       "      <td>41.500000</td>\n",
       "      <td>id</td>\n",
       "      <td>8.000000</td>\n",
       "      <td>41.500000</td>\n",
       "    </tr>\n",
       "    <tr>\n",
       "      <th>2.05.09.04</th>\n",
       "      <td>2</td>\n",
       "      <td>2.05</td>\n",
       "      <td>2.05.09</td>\n",
       "      <td>inland</td>\n",
       "      <td>Vettones</td>\n",
       "      <td>locality</td>\n",
       "      <td>city</td>\n",
       "      <td>Σαλμαντίκα</td>\n",
       "      <td>8.833333</td>\n",
       "      <td>41.833333</td>\n",
       "      <td>8.833333</td>\n",
       "      <td>41.833333</td>\n",
       "      <td>id</td>\n",
       "      <td>8.833333</td>\n",
       "      <td>41.500000</td>\n",
       "    </tr>\n",
       "    <tr>\n",
       "      <th>2.05.09.05</th>\n",
       "      <td>2</td>\n",
       "      <td>2.05</td>\n",
       "      <td>2.05.09</td>\n",
       "      <td>inland</td>\n",
       "      <td>Vettones</td>\n",
       "      <td>locality</td>\n",
       "      <td>city</td>\n",
       "      <td>Αὐγουστοβρίγα</td>\n",
       "      <td>8.000000</td>\n",
       "      <td>41.250000</td>\n",
       "      <td>8.000000</td>\n",
       "      <td>41.250000</td>\n",
       "      <td>id</td>\n",
       "      <td>8.000000</td>\n",
       "      <td>41.250000</td>\n",
       "    </tr>\n",
       "    <tr>\n",
       "      <th>2.05.09.06</th>\n",
       "      <td>2</td>\n",
       "      <td>2.05</td>\n",
       "      <td>2.05.09</td>\n",
       "      <td>inland</td>\n",
       "      <td>Vettones</td>\n",
       "      <td>locality</td>\n",
       "      <td>city</td>\n",
       "      <td>Ὄκελον</td>\n",
       "      <td>8.833333</td>\n",
       "      <td>40.750000</td>\n",
       "      <td>8.333333</td>\n",
       "      <td>41.250000</td>\n",
       "      <td>var</td>\n",
       "      <td>8.333333</td>\n",
       "      <td>41.250000</td>\n",
       "    </tr>\n",
       "    <tr>\n",
       "      <th>2.05.09.07</th>\n",
       "      <td>2</td>\n",
       "      <td>2.05</td>\n",
       "      <td>2.05.09</td>\n",
       "      <td>inland</td>\n",
       "      <td>Vettones</td>\n",
       "      <td>locality</td>\n",
       "      <td>city</td>\n",
       "      <td>Καπάρα</td>\n",
       "      <td>8.166667</td>\n",
       "      <td>41.000000</td>\n",
       "      <td>8.500000</td>\n",
       "      <td>41.000000</td>\n",
       "      <td>var</td>\n",
       "      <td>8.166667</td>\n",
       "      <td>41.000000</td>\n",
       "    </tr>\n",
       "    <tr>\n",
       "      <th>2.05.09.08</th>\n",
       "      <td>2</td>\n",
       "      <td>2.05</td>\n",
       "      <td>2.05.09</td>\n",
       "      <td>inland</td>\n",
       "      <td>Vettones</td>\n",
       "      <td>locality</td>\n",
       "      <td>city</td>\n",
       "      <td>Μανλιάνα</td>\n",
       "      <td>8.833333</td>\n",
       "      <td>41.000000</td>\n",
       "      <td>8.333333</td>\n",
       "      <td>41.000000</td>\n",
       "      <td>var</td>\n",
       "      <td>8.833333</td>\n",
       "      <td>41.000000</td>\n",
       "    </tr>\n",
       "    <tr>\n",
       "      <th>2.05.09.09</th>\n",
       "      <td>2</td>\n",
       "      <td>2.05</td>\n",
       "      <td>2.05.09</td>\n",
       "      <td>inland</td>\n",
       "      <td>Vettones</td>\n",
       "      <td>locality</td>\n",
       "      <td>city</td>\n",
       "      <td>Λακονιμουργί</td>\n",
       "      <td>8.333333</td>\n",
       "      <td>40.750000</td>\n",
       "      <td>8.333333</td>\n",
       "      <td>40.750000</td>\n",
       "      <td>id</td>\n",
       "      <td>8.333333</td>\n",
       "      <td>40.750000</td>\n",
       "    </tr>\n",
       "    <tr>\n",
       "      <th>2.05.09.10</th>\n",
       "      <td>2</td>\n",
       "      <td>2.05</td>\n",
       "      <td>2.05.09</td>\n",
       "      <td>inland</td>\n",
       "      <td>Vettones</td>\n",
       "      <td>locality</td>\n",
       "      <td>city</td>\n",
       "      <td>Δεοβρίγα</td>\n",
       "      <td>8.666667</td>\n",
       "      <td>40.666667</td>\n",
       "      <td>8.666667</td>\n",
       "      <td>40.666667</td>\n",
       "      <td>id</td>\n",
       "      <td>8.666667</td>\n",
       "      <td>40.666667</td>\n",
       "    </tr>\n",
       "    <tr>\n",
       "      <th>2.05.09.11</th>\n",
       "      <td>2</td>\n",
       "      <td>2.05</td>\n",
       "      <td>2.05.09</td>\n",
       "      <td>inland</td>\n",
       "      <td>Vettones</td>\n",
       "      <td>locality</td>\n",
       "      <td>city</td>\n",
       "      <td>Ὀβίλα</td>\n",
       "      <td>8.833333</td>\n",
       "      <td>40.416667</td>\n",
       "      <td>8.833333</td>\n",
       "      <td>40.416667</td>\n",
       "      <td>id</td>\n",
       "      <td>8.833333</td>\n",
       "      <td>40.416667</td>\n",
       "    </tr>\n",
       "    <tr>\n",
       "      <th>2.05.09.12</th>\n",
       "      <td>2</td>\n",
       "      <td>2.05</td>\n",
       "      <td>2.05.09</td>\n",
       "      <td>inland</td>\n",
       "      <td>Vettones</td>\n",
       "      <td>locality</td>\n",
       "      <td>city</td>\n",
       "      <td>Λάμα</td>\n",
       "      <td>8.500000</td>\n",
       "      <td>40.083333</td>\n",
       "      <td>8.500000</td>\n",
       "      <td>40.083333</td>\n",
       "      <td>id</td>\n",
       "      <td>8.500000</td>\n",
       "      <td>40.083333</td>\n",
       "    </tr>\n",
       "  </tbody>\n",
       "</table>\n",
       "</div>"
      ],
      "text/plain": [
       "            book_ID chap_ID   sec_ID type_sec    people      type category  \\\n",
       "ID                                                                           \n",
       "2.05.09.02        2    2.05  2.05.09   inland  Vettones  locality     city   \n",
       "2.05.09.03        2    2.05  2.05.09   inland  Vettones  locality     city   \n",
       "2.05.09.04        2    2.05  2.05.09   inland  Vettones  locality     city   \n",
       "2.05.09.05        2    2.05  2.05.09   inland  Vettones  locality     city   \n",
       "2.05.09.06        2    2.05  2.05.09   inland  Vettones  locality     city   \n",
       "2.05.09.07        2    2.05  2.05.09   inland  Vettones  locality     city   \n",
       "2.05.09.08        2    2.05  2.05.09   inland  Vettones  locality     city   \n",
       "2.05.09.09        2    2.05  2.05.09   inland  Vettones  locality     city   \n",
       "2.05.09.10        2    2.05  2.05.09   inland  Vettones  locality     city   \n",
       "2.05.09.11        2    2.05  2.05.09   inland  Vettones  locality     city   \n",
       "2.05.09.12        2    2.05  2.05.09   inland  Vettones  locality     city   \n",
       "\n",
       "                    toponym  longitude_Xi  latitude_Xi  longitude_Omega  \\\n",
       "ID                                                                        \n",
       "2.05.09.02  Λακκιαοππιδανά      8.500000    41.666667         8.500000   \n",
       "2.05.09.03    Κοτταγοβρίγα      8.000000    41.500000         8.000000   \n",
       "2.05.09.04      Σαλμαντίκα      8.833333    41.833333         8.833333   \n",
       "2.05.09.05  Αὐγουστοβρίγα      8.000000    41.250000         8.000000   \n",
       "2.05.09.06         Ὄκελον      8.833333    40.750000         8.333333   \n",
       "2.05.09.07          Καπάρα      8.166667    41.000000         8.500000   \n",
       "2.05.09.08        Μανλιάνα      8.833333    41.000000         8.333333   \n",
       "2.05.09.09    Λακονιμουργί      8.333333    40.750000         8.333333   \n",
       "2.05.09.10        Δεοβρίγα      8.666667    40.666667         8.666667   \n",
       "2.05.09.11          Ὀβίλα      8.833333    40.416667         8.833333   \n",
       "2.05.09.12            Λάμα      8.500000    40.083333         8.500000   \n",
       "\n",
       "            latitude_Omega diff  longitude_r  latitude_r  \n",
       "ID                                                        \n",
       "2.05.09.02       41.666667   id     8.500000   41.666667  \n",
       "2.05.09.03       41.500000   id     8.000000   41.500000  \n",
       "2.05.09.04       41.833333   id     8.833333   41.500000  \n",
       "2.05.09.05       41.250000   id     8.000000   41.250000  \n",
       "2.05.09.06       41.250000  var     8.333333   41.250000  \n",
       "2.05.09.07       41.000000  var     8.166667   41.000000  \n",
       "2.05.09.08       41.000000  var     8.833333   41.000000  \n",
       "2.05.09.09       40.750000   id     8.333333   40.750000  \n",
       "2.05.09.10       40.666667   id     8.666667   40.666667  \n",
       "2.05.09.11       40.416667   id     8.833333   40.416667  \n",
       "2.05.09.12       40.083333   id     8.500000   40.083333  "
      ]
     },
     "execution_count": 16,
     "metadata": {},
     "output_type": "execute_result"
    }
   ],
   "source": [
    "dfVettR"
   ]
  },
  {
   "cell_type": "code",
   "execution_count": null,
   "metadata": {
    "pycharm": {}
   },
   "outputs": [],
   "source": []
  }
 ],
 "metadata": {
  "kernelspec": {
   "display_name": "Python 3",
   "language": "python",
   "name": "python3"
  },
  "language_info": {
   "codemirror_mode": {
    "name": "ipython",
    "version": 3
   },
   "file_extension": ".py",
   "mimetype": "text/x-python",
   "name": "python",
   "nbconvert_exporter": "python",
   "pygments_lexer": "ipython3",
   "version": "3.6.8"
  }
 },
 "nbformat": 4,
 "nbformat_minor": 2
}
